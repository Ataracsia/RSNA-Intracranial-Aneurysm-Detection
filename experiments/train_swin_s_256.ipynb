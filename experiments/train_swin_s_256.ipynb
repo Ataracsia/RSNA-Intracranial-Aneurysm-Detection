{
 "cells": [
  {
   "cell_type": "markdown",
   "id": "be38662b",
   "metadata": {},
   "source": [
    "# 256×256のnpyファイルを用いたSwin-Smallモデル学習ノートブック\n",
    "このノートブックでは、256×256のnpy画像データを用いてSwin Transformer (swin_s) モデルによる脳動脈瘤検出タスクの学習を行います。\n",
    "\n",
    "- データ: `series_npy/256/` 配下のnpyファイル\n",
    "- ラベル: `train.csv`\n",
    "- モデル: Swin-Small (timm)\n",
    "\n",
    "---"
   ]
  },
  {
   "cell_type": "markdown",
   "id": "7cc3fa4b",
   "metadata": {},
   "source": [
    "## 1. 必要なライブラリのインポート"
   ]
  },
  {
   "cell_type": "code",
   "execution_count": 1,
   "id": "a2bbf8de",
   "metadata": {},
   "outputs": [
    {
     "name": "stderr",
     "output_type": "stream",
     "text": [
      "c:\\Users\\emanon\\anaconda3\\envs\\Kaggle\\Lib\\site-packages\\requests\\__init__.py:86: RequestsDependencyWarning: Unable to find acceptable character detection dependency (chardet or charset_normalizer).\n",
      "  warnings.warn(\n"
     ]
    }
   ],
   "source": [
    "import os\n",
    "import glob\n",
    "import numpy as np\n",
    "import pandas as pd\n",
    "from tqdm import tqdm\n",
    "from sklearn.model_selection import train_test_split\n",
    "import torch\n",
    "from torch.utils.data import Dataset, DataLoader\n",
    "import torch.nn as nn\n",
    "import torch.optim as optim\n",
    "import timm\n",
    "from sklearn.metrics import roc_auc_score, accuracy_score\n",
    "import matplotlib.pyplot as plt\n",
    "import random\n"
   ]
  },
  {
   "cell_type": "markdown",
   "id": "8451c146",
   "metadata": {},
   "source": [
    "## 2. データセットの準備\n",
    "- train.csvの読み込み\n",
    "- image_256_path_df.csvから画像パスを取得\n",
    "- ラベルと画像パスの紐付け"
   ]
  },
  {
   "cell_type": "code",
   "execution_count": 3,
   "id": "37c85b2e",
   "metadata": {},
   "outputs": [
    {
     "ename": "KeyError",
     "evalue": "'SeriesInstanceUID'",
     "output_type": "error",
     "traceback": [
      "\u001b[31m---------------------------------------------------------------------------\u001b[39m",
      "\u001b[31mKeyError\u001b[39m                                  Traceback (most recent call last)",
      "\u001b[32m~\\AppData\\Local\\Temp\\ipykernel_82328\\3654774851.py\u001b[39m in \u001b[36m?\u001b[39m\u001b[34m()\u001b[39m\n\u001b[32m      8\u001b[39m \u001b[38;5;66;03m# image_256_path_df.csvの読み込み\u001b[39;00m\n\u001b[32m      9\u001b[39m img_path_df = pd.read_csv(IMG_PATH_DF)\n\u001b[32m     10\u001b[39m \n\u001b[32m     11\u001b[39m \u001b[38;5;66;03m# SeriesInstanceUIDでマージ\u001b[39;00m\n\u001b[32m---> \u001b[39m\u001b[32m12\u001b[39m merged_df = pd.merge(train_df, img_path_df, on=\u001b[33m'SeriesInstanceUID'\u001b[39m, how=\u001b[33m'inner'\u001b[39m)\n\u001b[32m     13\u001b[39m \n\u001b[32m     14\u001b[39m \u001b[38;5;66;03m# 画像パスとラベルの確認\u001b[39;00m\n\u001b[32m     15\u001b[39m print(merged_df[[\u001b[33m'SeriesInstanceUID'\u001b[39m, \u001b[33m'image_path'\u001b[39m, \u001b[33m'Aneurysm Present'\u001b[39m]].head())\n",
      "\u001b[32mc:\\Users\\emanon\\anaconda3\\envs\\Kaggle\\Lib\\site-packages\\pandas\\core\\reshape\\merge.py\u001b[39m in \u001b[36m?\u001b[39m\u001b[34m(left, right, how, on, left_on, right_on, left_index, right_index, sort, suffixes, copy, indicator, validate)\u001b[39m\n\u001b[32m    166\u001b[39m             validate=validate,\n\u001b[32m    167\u001b[39m             copy=copy,\n\u001b[32m    168\u001b[39m         )\n\u001b[32m    169\u001b[39m     \u001b[38;5;28;01melse\u001b[39;00m:\n\u001b[32m--> \u001b[39m\u001b[32m170\u001b[39m         op = _MergeOperation(\n\u001b[32m    171\u001b[39m             left_df,\n\u001b[32m    172\u001b[39m             right_df,\n\u001b[32m    173\u001b[39m             how=how,\n",
      "\u001b[32mc:\\Users\\emanon\\anaconda3\\envs\\Kaggle\\Lib\\site-packages\\pandas\\core\\reshape\\merge.py\u001b[39m in \u001b[36m?\u001b[39m\u001b[34m(self, left, right, how, on, left_on, right_on, left_index, right_index, sort, suffixes, indicator, validate)\u001b[39m\n\u001b[32m    790\u001b[39m             self.right_join_keys,\n\u001b[32m    791\u001b[39m             self.join_names,\n\u001b[32m    792\u001b[39m             left_drop,\n\u001b[32m    793\u001b[39m             right_drop,\n\u001b[32m--> \u001b[39m\u001b[32m794\u001b[39m         ) = self._get_merge_keys()\n\u001b[32m    795\u001b[39m \n\u001b[32m    796\u001b[39m         \u001b[38;5;28;01mif\u001b[39;00m left_drop:\n\u001b[32m    797\u001b[39m             self.left = self.left._drop_labels_or_levels(left_drop)\n",
      "\u001b[32mc:\\Users\\emanon\\anaconda3\\envs\\Kaggle\\Lib\\site-packages\\pandas\\core\\reshape\\merge.py\u001b[39m in \u001b[36m?\u001b[39m\u001b[34m(self)\u001b[39m\n\u001b[32m   1294\u001b[39m                         \u001b[38;5;66;03m# Then we're either Hashable or a wrong-length arraylike,\u001b[39;00m\n\u001b[32m   1295\u001b[39m                         \u001b[38;5;66;03m#  the latter of which will raise\u001b[39;00m\n\u001b[32m   1296\u001b[39m                         rk = cast(Hashable, rk)\n\u001b[32m   1297\u001b[39m                         \u001b[38;5;28;01mif\u001b[39;00m rk \u001b[38;5;28;01mis\u001b[39;00m \u001b[38;5;28;01mnot\u001b[39;00m \u001b[38;5;28;01mNone\u001b[39;00m:\n\u001b[32m-> \u001b[39m\u001b[32m1298\u001b[39m                             right_keys.append(right._get_label_or_level_values(rk))\n\u001b[32m   1299\u001b[39m                         \u001b[38;5;28;01melse\u001b[39;00m:\n\u001b[32m   1300\u001b[39m                             \u001b[38;5;66;03m# work-around for merge_asof(right_index=True)\u001b[39;00m\n\u001b[32m   1301\u001b[39m                             right_keys.append(right.index._values)\n",
      "\u001b[32mc:\\Users\\emanon\\anaconda3\\envs\\Kaggle\\Lib\\site-packages\\pandas\\core\\generic.py\u001b[39m in \u001b[36m?\u001b[39m\u001b[34m(self, key, axis)\u001b[39m\n\u001b[32m   1907\u001b[39m             values = self.xs(key, axis=other_axes[\u001b[32m0\u001b[39m])._values\n\u001b[32m   1908\u001b[39m         \u001b[38;5;28;01melif\u001b[39;00m self._is_level_reference(key, axis=axis):\n\u001b[32m   1909\u001b[39m             values = self.axes[axis].get_level_values(key)._values\n\u001b[32m   1910\u001b[39m         \u001b[38;5;28;01melse\u001b[39;00m:\n\u001b[32m-> \u001b[39m\u001b[32m1911\u001b[39m             \u001b[38;5;28;01mraise\u001b[39;00m KeyError(key)\n\u001b[32m   1912\u001b[39m \n\u001b[32m   1913\u001b[39m         \u001b[38;5;66;03m# Check for duplicates\u001b[39;00m\n\u001b[32m   1914\u001b[39m         \u001b[38;5;28;01mif\u001b[39;00m values.ndim > \u001b[32m1\u001b[39m:\n",
      "\u001b[31mKeyError\u001b[39m: 'SeriesInstanceUID'"
     ]
    }
   ],
   "source": [
    "# パス設定\n",
    "TRAIN_CSV = '../train.csv'\n",
    "IMG_PATH_DF = '../npy_path/image_256_path_df.csv'\n",
    "NPY_ROOT = '../series_npy/256/'\n",
    "\n",
    "# train.csvの読み込み\n",
    "train_df = pd.read_csv(TRAIN_CSV)\n",
    "# image_256_path_df.csvの読み込み\n",
    "img_path_df = pd.read_csv(IMG_PATH_DF)\n",
    "\n",
    "# SeriesInstanceUIDでマージ\n",
    "merged_df = pd.merge(train_df, img_path_df, on='SeriesInstanceUID', how='inner')\n",
    "\n",
    "# 画像パスとラベルの確認\n",
    "print(merged_df[['SeriesInstanceUID', 'image_path', 'Aneurysm Present']].head())\n"
   ]
  },
  {
   "cell_type": "markdown",
   "id": "a2304e8f",
   "metadata": {},
   "source": [
    "## 3. データ前処理とデータローダの作成\n",
    "- npyファイルを読み込むDatasetクラスの実装\n",
    "- データ拡張・正規化\n",
    "- train/val分割とDataLoader作成"
   ]
  },
  {
   "cell_type": "code",
   "execution_count": null,
   "id": "9d7df16a",
   "metadata": {},
   "outputs": [],
   "source": [
    "from torchvision import transforms\n",
    "\n",
    "class NPYDataset(Dataset):\n",
    "    def __init__(self, df, transform=None):\n",
    "        self.df = df.reset_index(drop=True)\n",
    "        self.transform = transform\n",
    "\n",
    "    def __len__(self):\n",
    "        return len(self.df)\n",
    "\n",
    "    def __getitem__(self, idx):\n",
    "        row = self.df.iloc[idx]\n",
    "        npy_path = row['image_path']\n",
    "        img = np.load(npy_path).astype(np.float32)  # (H, W) or (C, H, W)\n",
    "        if img.ndim == 2:\n",
    "            img = np.expand_dims(img, axis=0)  # (1, H, W)\n",
    "        if self.transform:\n",
    "            img = self.transform(torch.from_numpy(img))\n",
    "        label = row['Aneurysm Present']\n",
    "        return img, torch.tensor(label, dtype=torch.float32)\n",
    "\n",
    "# データ分割\n",
    "train_df, val_df = train_test_split(merged_df, test_size=0.2, random_state=42, stratify=merged_df['Aneurysm Present'])\n",
    "\n",
    "# 前処理・データ拡張\n",
    "transform = transforms.Compose([\n",
    "    transforms.Lambda(lambda x: x/255.0),\n",
    "    transforms.Normalize([0.5], [0.5])\n",
    "])\n",
    "\n",
    "train_dataset = NPYDataset(train_df, transform=transform)\n",
    "val_dataset = NPYDataset(val_df, transform=transform)\n",
    "\n",
    "train_loader = DataLoader(train_dataset, batch_size=16, shuffle=True, num_workers=2)\n",
    "val_loader = DataLoader(val_dataset, batch_size=16, shuffle=False, num_workers=2)\n"
   ]
  },
  {
   "cell_type": "markdown",
   "id": "ce58c3d3",
   "metadata": {},
   "source": [
    "## 4. Swin Transformer (swin_s) モデルの構築\n",
    "- timmからswin_sをロードし、出力層を本タスク用に変更"
   ]
  },
  {
   "cell_type": "code",
   "execution_count": null,
   "id": "b2d639fd",
   "metadata": {},
   "outputs": [],
   "source": [
    "device = torch.device('cuda' if torch.cuda.is_available() else 'cpu')\n",
    "\n",
    "# 入力チャンネル数（1チャンネル画像の場合）\n",
    "IN_CHANS = 1\n",
    "NUM_CLASSES = 1  # バイナリ分類\n",
    "\n",
    "model = timm.create_model('swin_small_patch4_window7_224', pretrained=True, in_chans=IN_CHANS)\n",
    "# 出力層をタスクに合わせて変更\n",
    "model.head = nn.Linear(model.head.in_features, NUM_CLASSES)\n",
    "model = model.to(device)\n",
    "\n",
    "print(model)\n"
   ]
  },
  {
   "cell_type": "markdown",
   "id": "628d968a",
   "metadata": {},
   "source": [
    "## 5. 損失関数・最適化手法の設定\n",
    "- BCEWithLogitsLoss, AdamW"
   ]
  },
  {
   "cell_type": "code",
   "execution_count": null,
   "id": "cf909c67",
   "metadata": {},
   "outputs": [],
   "source": [
    "criterion = nn.BCEWithLogitsLoss()\n",
    "optimizer = optim.AdamW(model.parameters(), lr=1e-4, weight_decay=1e-4)\n",
    "scheduler = optim.lr_scheduler.CosineAnnealingLR(optimizer, T_max=10)\n"
   ]
  },
  {
   "cell_type": "markdown",
   "id": "a0357aae",
   "metadata": {},
   "source": [
    "## 6. 学習ループの実装\n",
    "- train/valのループ\n",
    "- 損失・評価指標の記録"
   ]
  },
  {
   "cell_type": "code",
   "execution_count": null,
   "id": "f1915f2f",
   "metadata": {},
   "outputs": [],
   "source": [
    "def train_one_epoch(model, loader, optimizer, criterion, device):\n",
    "    model.train()\n",
    "    running_loss = 0.0\n",
    "    for imgs, labels in tqdm(loader):\n",
    "        imgs, labels = imgs.to(device), labels.to(device)\n",
    "        optimizer.zero_grad()\n",
    "        outputs = model(imgs)\n",
    "        outputs = outputs.squeeze(-1)\n",
    "        loss = criterion(outputs, labels)\n",
    "        loss.backward()\n",
    "        optimizer.step()\n",
    "        running_loss += loss.item() * imgs.size(0)\n",
    "    return running_loss / len(loader.dataset)\n",
    "\n",
    "def eval_one_epoch(model, loader, criterion, device):\n",
    "    model.eval()\n",
    "    running_loss = 0.0\n",
    "    preds, gts = [], []\n",
    "    with torch.no_grad():\n",
    "        for imgs, labels in loader:\n",
    "            imgs, labels = imgs.to(device), labels.to(device)\n",
    "            outputs = model(imgs)\n",
    "            outputs = outputs.squeeze(-1)\n",
    "            loss = criterion(outputs, labels)\n",
    "            running_loss += loss.item() * imgs.size(0)\n",
    "            preds.extend(torch.sigmoid(outputs).cpu().numpy())\n",
    "            gts.extend(labels.cpu().numpy())\n",
    "    return running_loss / len(loader.dataset), np.array(preds), np.array(gts)\n",
    "\n",
    "EPOCHS = 10\n",
    "best_auc = 0.0\n",
    "train_losses, val_losses, val_aucs = [], [], []\n",
    "best_model_wts = None\n",
    "\n",
    "for epoch in range(EPOCHS):\n",
    "    train_loss = train_one_epoch(model, train_loader, optimizer, criterion, device)\n",
    "    val_loss, val_preds, val_gts = eval_one_epoch(model, val_loader, criterion, device)\n",
    "    val_auc = roc_auc_score(val_gts, val_preds)\n",
    "    train_losses.append(train_loss)\n",
    "    val_losses.append(val_loss)\n",
    "    val_aucs.append(val_auc)\n",
    "    scheduler.step()\n",
    "    print(f\"Epoch {epoch+1}/{EPOCHS} | Train Loss: {train_loss:.4f} | Val Loss: {val_loss:.4f} | Val AUC: {val_auc:.4f}\")\n",
    "    if val_auc > best_auc:\n",
    "        best_auc = val_auc\n",
    "        best_model_wts = model.state_dict().copy()\n"
   ]
  },
  {
   "cell_type": "markdown",
   "id": "345b5ba4",
   "metadata": {},
   "source": [
    "## 7. 検証・評価指標の計算\n",
    "- バリデーションAUC・学習曲線の可視化"
   ]
  },
  {
   "cell_type": "code",
   "execution_count": null,
   "id": "bc099a25",
   "metadata": {},
   "outputs": [],
   "source": [
    "# 学習曲線の可視化\n",
    "plt.figure(figsize=(12,5))\n",
    "plt.subplot(1,2,1)\n",
    "plt.plot(train_losses, label='Train Loss')\n",
    "plt.plot(val_losses, label='Val Loss')\n",
    "plt.legend()\n",
    "plt.title('Loss')\n",
    "plt.subplot(1,2,2)\n",
    "plt.plot(val_aucs, label='Val AUC')\n",
    "plt.legend()\n",
    "plt.title('Validation AUC')\n",
    "plt.show()\n",
    "\n",
    "print(f'Best Validation AUC: {best_auc:.4f}')\n"
   ]
  },
  {
   "cell_type": "markdown",
   "id": "497dbf36",
   "metadata": {},
   "source": [
    "## 8. 学習済みモデルの保存\n",
    "- 最良モデルの重みを保存"
   ]
  },
  {
   "cell_type": "code",
   "execution_count": null,
   "id": "db37f23b",
   "metadata": {},
   "outputs": [],
   "source": [
    "# 最良モデルの保存\n",
    "os.makedirs('model_weights', exist_ok=True)\n",
    "torch.save(best_model_wts, 'model_weights/swin_s_best_256.pth')\n",
    "print('Saved best model weights.')\n"
   ]
  }
 ],
 "metadata": {
  "kernelspec": {
   "display_name": "Kaggle",
   "language": "python",
   "name": "python3"
  },
  "language_info": {
   "codemirror_mode": {
    "name": "ipython",
    "version": 3
   },
   "file_extension": ".py",
   "mimetype": "text/x-python",
   "name": "python",
   "nbconvert_exporter": "python",
   "pygments_lexer": "ipython3",
   "version": "3.11.13"
  }
 },
 "nbformat": 4,
 "nbformat_minor": 5
}
