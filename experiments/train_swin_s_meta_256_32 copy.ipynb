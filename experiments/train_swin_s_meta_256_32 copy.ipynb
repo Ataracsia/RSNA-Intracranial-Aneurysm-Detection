{
 "cells": [
  {
   "cell_type": "markdown",
   "id": "56e82235",
   "metadata": {},
   "source": [
    "このNotebookは、モデルを学習させるために作られたものである。"
   ]
  },
  {
   "cell_type": "markdown",
   "id": "e7afb930",
   "metadata": {},
   "source": [
    "# 1. Import"
   ]
  },
  {
   "cell_type": "code",
   "execution_count": 6,
   "id": "9933ea12",
   "metadata": {},
   "outputs": [],
   "source": [
    "import os\n",
    "import random\n",
    "import warnings\n",
    "warnings.filterwarnings('ignore')\n",
    "from pathlib import Path\n",
    "from collections import defaultdict\n",
    "from typing import List, Dict, Optional, Tuple\n",
    "from IPython.display import display\n",
    "import datetime\n",
    "import time\n",
    "from tqdm.notebook import tqdm\n",
    "\n",
    "# Data handling\n",
    "import numpy as np\n",
    "import polars as pl\n",
    "import pandas as pd\n",
    "from sklearn.model_selection import StratifiedShuffleSplit, StratifiedKFold\n",
    "from skmultilearn.model_selection import iterative_train_test_split\n",
    "\n",
    "# Medical imaging\n",
    "import pydicom\n",
    "import cv2\n",
    "\n",
    "# Machine Lerning \n",
    "import torch\n",
    "import torch.nn as nn\n",
    "import torch.nn.functional as F\n",
    "from torch.amp import autocast\n",
    "import torchvision\n",
    "import timm\n",
    "\n",
    "# Transformations\n",
    "import albumentations as A\n",
    "from albumentations.pytorch import ToTensorV2\n",
    "\n",
    "# Visualization\n",
    "import matplotlib.pyplot as plt\n",
    "import seaborn as sns\n",
    "import PIL.Image as Image\n",
    "\n",
    "# Experiment Management\n",
    "import wandb\n",
    "\n",
    "# Competition API\n",
    "# import kaggle_evaluation.rsna_inference_server\n"
   ]
  },
  {
   "cell_type": "markdown",
   "id": "79324f0b",
   "metadata": {},
   "source": [
    "# 2. Configuration"
   ]
  },
  {
   "cell_type": "code",
   "execution_count": 7,
   "id": "b76d9ee9",
   "metadata": {},
   "outputs": [],
   "source": [
    "# datetime for unique checkpoint filenames\n",
    "date_time = datetime.datetime.now()\n",
    "date_time = date_time.strftime('%Y-%m-%d_%H-%M-%S')\n"
   ]
  },
  {
   "cell_type": "code",
   "execution_count": 8,
   "id": "dd18a0cb",
   "metadata": {},
   "outputs": [],
   "source": [
    "# Run Configuration\n",
    "RUN_NAME = \"swin-s-meta-pretrained\"\n",
    "SAVE_DIR = \"../results\"\n",
    "TEST_RUN = True\n",
    "SEED = 42\n",
    "DEVICE = \"cuda\"\n",
    "\n",
    "# Input Data Configuration\n",
    "IMAGE_SIZE = 256\n",
    "NUM_SLICES = 32\n",
    "BATCH_SIZE = 5\n",
    "LABEL_NAMES = [\n",
    "    # 13 classes\n",
    "    'Left Infraclinoid Internal Carotid Artery',\n",
    "    'Right Infraclinoid Internal Carotid Artery',\n",
    "    'Left Supraclinoid Internal Carotid Artery',\n",
    "    'Right Supraclinoid Internal Carotid Artery',\n",
    "    'Left Middle Cerebral Artery',\n",
    "    'Right Middle Cerebral Artery',\n",
    "    'Anterior Communicating Artery',\n",
    "    'Left Anterior Cerebral Artery',\n",
    "    'Right Anterior Cerebral Artery',\n",
    "    'Left Posterior Communicating Artery',\n",
    "    'Right Posterior Communicating Artery',\n",
    "    'Basilar Tip',\n",
    "    'Other Posterior Circulation',\n",
    "    # 'Aneurysm Present',\n",
    "]\n",
    "NUM_LABELS = len(LABEL_NAMES)\n",
    "\n",
    "# Training Configuration\n",
    "NUM_EPOCHS = 20\n",
    "PATIENCE = 5\n"
   ]
  },
  {
   "cell_type": "code",
   "execution_count": 9,
   "id": "e01f6b29",
   "metadata": {},
   "outputs": [],
   "source": [
    "RUN_NAME = RUN_NAME + f'-{IMAGE_SIZE}-{NUM_SLICES}'\n",
    "SAVE_DIR = SAVE_DIR + '/' + RUN_NAME + f'-{date_time}'\n",
    "\n",
    "# Weights & Biases Configuration\n",
    "if TEST_RUN:\n",
    "    USE_WANDB = False\n",
    "    WANDB_INIT = {}\n",
    "    ARTIFACT = {}\n",
    "else:\n",
    "    USE_WANDB = True\n",
    "    WANDB_INIT = {\n",
    "        'project': 'RSNA-IAD',\n",
    "        'group': 'Image Classification',\n",
    "        'job_type': 'training_model',\n",
    "        'save_code': True,\n",
    "    }\n",
    "    ARTIFACT = {\n",
    "        'name': RUN_NAME,\n",
    "        'type': 'model, optimizer, scheduler',\n",
    "    }"
   ]
  },
  {
   "cell_type": "code",
   "execution_count": 10,
   "id": "9dff7a4b",
   "metadata": {},
   "outputs": [],
   "source": [
    "class Configuration:\n",
    "    \n",
    "    # Run\n",
    "    run_name = RUN_NAME\n",
    "    save_dir = SAVE_DIR\n",
    "    test_run = TEST_RUN\n",
    "    seed = SEED\n",
    "    device = DEVICE\n",
    "    \n",
    "    # Input Data\n",
    "    image_size = IMAGE_SIZE\n",
    "    num_slices = NUM_SLICES\n",
    "    batch_size = BATCH_SIZE\n",
    "    label_names = LABEL_NAMES\n",
    "    num_labels = NUM_LABELS\n",
    "    \n",
    "    # Training\n",
    "    num_epochs = NUM_EPOCHS\n",
    "    patience = PATIENCE\n",
    "    \n",
    "    # Weights & Biases\n",
    "    use_wandb = USE_WANDB\n",
    "    wandb_init = WANDB_INIT\n",
    "    artifact = ARTIFACT\n",
    "\n",
    "CFG = Configuration\n"
   ]
  },
  {
   "cell_type": "code",
   "execution_count": 11,
   "id": "a011861d",
   "metadata": {},
   "outputs": [
    {
     "name": "stdout",
     "output_type": "stream",
     "text": [
      "Using device: cuda\n"
     ]
    }
   ],
   "source": [
    "# set device\n",
    "device = torch.device('cuda' if torch.cuda.is_available() else 'cpu')\n",
    "\n",
    "if device == torch.device('cuda'):\n",
    "    CFG.device = 'cuda'\n",
    "    print(f\"Using device: {CFG.device}\")\n",
    "else:\n",
    "    print(\"CUDA is not available. Using CPU instead.\")\n"
   ]
  },
  {
   "cell_type": "code",
   "execution_count": 12,
   "id": "35d0f324",
   "metadata": {},
   "outputs": [],
   "source": [
    "def set_random_seed(seed=CFG.seed, deterministic=False):\n",
    "    \"\"\"\n",
    "    Set random seed.\n",
    "    \n",
    "    Args:\n",
    "        seed (int): Seed to be used.\n",
    "        deterministic (bool): Whether to set the deterministic option for\n",
    "            CUDNN backend, i.e., set `torch.backends.cudnn.deterministic`\n",
    "            to True and `torch.backends.cudnn.benchmark` to False.\n",
    "            Default: False.\n",
    "    \"\"\"\n",
    "    random.seed(seed)\n",
    "    os.environ['PYTHONHASHSEED'] = str(seed)\n",
    "    np.random.seed(seed)\n",
    "    torch.manual_seed(seed)\n",
    "    torch.cuda.manual_seed(seed)\n",
    "    torch.backends.cudnn.deterministic = True\n",
    "    \n",
    "    if deterministic:\n",
    "        torch.backends.cudnn.benchmark = True\n"
   ]
  },
  {
   "cell_type": "code",
   "execution_count": 13,
   "id": "869f959b",
   "metadata": {},
   "outputs": [],
   "source": [
    "set_random_seed(seed=CFG.seed, deterministic=True)\n"
   ]
  },
  {
   "cell_type": "markdown",
   "id": "5cf18207",
   "metadata": {},
   "source": [
    "# 3. Weights & Biases"
   ]
  },
  {
   "cell_type": "code",
   "execution_count": 14,
   "id": "7df88fa9",
   "metadata": {},
   "outputs": [],
   "source": [
    "if CFG.use_wandb:\n",
    "    os.environ['WANDB_NOTEBOOK_NAME'] = CFG.run_name\n",
    "    wandb.login()\n",
    "    run = wandb.init(**CFG.wandb_init)\n",
    "    artifact = wandb.Artifact(**CFG.artifact)\n",
    "else:\n",
    "    run = None\n",
    "    artifact = None\n"
   ]
  },
  {
   "cell_type": "code",
   "execution_count": 15,
   "id": "ce6b9cc2",
   "metadata": {},
   "outputs": [],
   "source": [
    "def alert_by_wandb(title='', text=''):\n",
    "    wandb.alert(title, text)\n"
   ]
  },
  {
   "cell_type": "markdown",
   "id": "0b593a9c",
   "metadata": {},
   "source": [
    "# 4. Model"
   ]
  },
  {
   "cell_type": "code",
   "execution_count": 16,
   "id": "71313d5a",
   "metadata": {},
   "outputs": [],
   "source": [
    "class SwinWithMetaModel(nn.Module):\n",
    "    def __init__(self, model_name, pretrained=False,\n",
    "                 num_classes=CFG.num_labels, drop_rate=0.3,\n",
    "                 drop_path_rate=0.2):\n",
    "        super().__init__()\n",
    "        self.model_name = model_name\n",
    "        \n",
    "        if model_name == 'swin_s':\n",
    "            self.backbone = timm.create_model(\n",
    "                'swin_small_patch4_window7_224',\n",
    "                pretrained=pretrained,\n",
    "                img_size=CFG.image_size,\n",
    "                drop_rate=drop_rate,\n",
    "                drop_path_rate=drop_path_rate,\n",
    "                global_poopling='',\n",
    "                num_classes=0)\n",
    "            \n",
    "            # input layer modification: 3 channels -> CFG.num_slices channels\n",
    "            self.backbone.patch_embed.proj = nn.Conv2d(\n",
    "                in_channels=CFG.num_slices,\n",
    "                out_channels=96,\n",
    "                kernel_size=4,\n",
    "                stride=4,\n",
    "            )\n",
    "        else:\n",
    "            raise ValueError(f\"Model {model_name} is not supported.\")\n",
    "        \n",
    "        self.meta_features = nn.Sequential(\n",
    "            nn.Linear(2, 16),\n",
    "            nn.ReLU(),\n",
    "            nn.Dropout(0.2),\n",
    "            nn.Linear(16, 32),\n",
    "            nn.ReLU()\n",
    "        )\n",
    "        \n",
    "        # According to \"LB #1\"\n",
    "        self.classifier = nn.Sequential(\n",
    "            nn.Linear(768 + 32, 512),\n",
    "            nn.BatchNorm1d(512),\n",
    "            nn.ReLU(),\n",
    "            nn.Dropout(drop_rate),\n",
    "            nn.Linear(512, 256),\n",
    "            nn.BatchNorm1d(256),\n",
    "            nn.ReLU(),\n",
    "            nn.Dropout(drop_rate),\n",
    "            nn.Linear(256, num_classes)\n",
    "        )\n",
    "        \n",
    "    def forward(self, images, meta): \n",
    "        image_features = self.backbone(images)\n",
    "        meta_fieatures = self.meta_features(meta)\n",
    "        x = torch.cat([image_features, meta_fieatures], dim=1)\n",
    "        x = self.classifier(x)\n",
    "        x = torch.nn.Sigmoid()(x)\n",
    "        return x\n",
    "\n",
    "model = SwinWithMetaModel(model_name='swin_s', pretrained=True)"
   ]
  },
  {
   "cell_type": "markdown",
   "id": "88a47ab9",
   "metadata": {},
   "source": [
    "-> timm.createmodel(num_classes=0)とすると、最後のnn.Linear()がnn.Identity()になる。"
   ]
  },
  {
   "cell_type": "code",
   "execution_count": 17,
   "id": "acbea94e",
   "metadata": {},
   "outputs": [
    {
     "name": "stdout",
     "output_type": "stream",
     "text": [
      "All parameters is in cuda\n"
     ]
    }
   ],
   "source": [
    "model.to(CFG.device)\n",
    "\n",
    "is_in_cuda_list = []\n",
    "\n",
    "for name, parameter in model.named_parameters():\n",
    "    # determination of cuda and its storage\n",
    "    is_in_cuda_list.append(parameter.is_cuda)\n",
    "    \n",
    "if all(is_in_cuda_list):\n",
    "    print('All parameters is in cuda')\n",
    "        \n",
    "else:\n",
    "    print('One of the parameters is not in the cuda.')\n"
   ]
  },
  {
   "cell_type": "code",
   "execution_count": 18,
   "id": "206e8241",
   "metadata": {},
   "outputs": [],
   "source": [
    "# Optimizer\n",
    "optimizer = torch.optim.AdamW(model.parameters())\n",
    "\n",
    "# Loss Function\n",
    "criterion = nn.BCEWithLogitsLoss()\n",
    "\n",
    "# Schedulers\n",
    "scheduler = torch.optim.lr_scheduler.CosineAnnealingLR(\n",
    "    optimizer,\n",
    "    T_max=CFG.num_epochs,\n",
    "    eta_min=1e-6\n",
    ")\n"
   ]
  },
  {
   "cell_type": "markdown",
   "id": "9314cd98",
   "metadata": {},
   "source": [
    "# 5. Dataset"
   ]
  },
  {
   "cell_type": "code",
   "execution_count": 19,
   "id": "97f1c259",
   "metadata": {},
   "outputs": [],
   "source": [
    "# SeriesInstanceUID list\n",
    "series_list = os.listdir(f'../series_npy/{CFG.image_size}')\n",
    "\n",
    "# .npy path DataFrame\n",
    "image_path_df = pd.read_csv(f'../npy_path/image_{CFG.image_size}_path_df.csv')\n",
    "\n",
    "# Meta DataFrame\n",
    "meta_df = pd.read_csv('../meta_data/meta.csv')\n",
    "\n",
    "# Label DataFrame\n",
    "label_df = pd.read_csv(f'../train.csv')\n",
    "label_df = label_df[['SeriesInstanceUID'] + CFG.label_names]\n"
   ]
  },
  {
   "cell_type": "code",
   "execution_count": 20,
   "id": "b3aaf1a2",
   "metadata": {},
   "outputs": [
    {
     "data": {
      "text/html": [
       "<div>\n",
       "<style scoped>\n",
       "    .dataframe tbody tr th:only-of-type {\n",
       "        vertical-align: middle;\n",
       "    }\n",
       "\n",
       "    .dataframe tbody tr th {\n",
       "        vertical-align: top;\n",
       "    }\n",
       "\n",
       "    .dataframe thead th {\n",
       "        text-align: right;\n",
       "    }\n",
       "</style>\n",
       "<table border=\"1\" class=\"dataframe\">\n",
       "  <thead>\n",
       "    <tr style=\"text-align: right;\">\n",
       "      <th></th>\n",
       "      <th>SeriesInstanceUID</th>\n",
       "      <th>modalisy</th>\n",
       "      <th>age</th>\n",
       "      <th>sex</th>\n",
       "    </tr>\n",
       "  </thead>\n",
       "  <tbody>\n",
       "    <tr>\n",
       "      <th>4296</th>\n",
       "      <td>1.2.826.0.1.3680043.8.498.98697915765488213704...</td>\n",
       "      <td>MR</td>\n",
       "      <td>60</td>\n",
       "      <td>1</td>\n",
       "    </tr>\n",
       "  </tbody>\n",
       "</table>\n",
       "</div>"
      ],
      "text/plain": [
       "                                      SeriesInstanceUID modalisy  age  sex\n",
       "4296  1.2.826.0.1.3680043.8.498.98697915765488213704...       MR   60    1"
      ]
     },
     "execution_count": 20,
     "metadata": {},
     "output_type": "execute_result"
    }
   ],
   "source": [
    "meta_df.loc[meta_df['SeriesInstanceUID'] == '1.2.826.0.1.3680043.8.498.98697915765488213704603518081182644986']\n"
   ]
  },
  {
   "cell_type": "code",
   "execution_count": 21,
   "id": "b4e6ade1",
   "metadata": {},
   "outputs": [],
   "source": [
    "# for training\n",
    "train_transform = A.Compose(\n",
    "    [\n",
    "        # # Elastic Transform <- あとで試したい\n",
    "        # A.ElasticTransform( p=0.5),\n",
    "        \n",
    "        # Rotation\n",
    "        A.Rotate(limit=(-3, 3), p=0.5, border_mode=cv2.BORDER_WRAP,  # cv2.BORDER_WRAP,\n",
    "                 seed=CFG.seed\n",
    "        ),\n",
    "        \n",
    "        # Normalization\n",
    "        A.Normalize(normalization='min_max'),\n",
    "        \n",
    "        # ToTensor\n",
    "        ToTensorV2(),\n",
    "    ]\n",
    ")\n",
    "\n",
    "# for inference\n",
    "inference_transform = A.Compose(\n",
    "    [\n",
    "        A.Normalize(mean=[0.485, 0.456, 0.406], std=[0.229, 0.224, 0.225]),\n",
    "        ToTensorV2()\n",
    "    ]\n",
    ")\n",
    "    \n",
    "# for TTA\n",
    "tta_transform = A.Compose(\n",
    "    [\n",
    "        A.Normalize(mean=[0.485, 0.456, 0.406], std=[0.229, 0.224, 0.225]),\n",
    "            \n",
    "        # Horizontal flip\n",
    "        A.HorizontalFlip(p=1.0),\n",
    "        A.Normalize(mean=[0.485, 0.456, 0.406], std=[0.229, 0.224, 0.225]),\n",
    "        \n",
    "        # Vertical flip\n",
    "        A.VerticalFlip(p=1.0),\n",
    "        A.Normalize(mean=[0.485, 0.456, 0.406], std=[0.229, 0.224, 0.225]),\n",
    "        \n",
    "        # 90 degree rotation\n",
    "        A.RandomRotate90(p=1.0),\n",
    "        A.Normalize(mean=[0.485, 0.456, 0.406], std=[0.229, 0.224, 0.225]),\n",
    "        \n",
    "        # ↓ Original\n",
    "        # Sharpen\n",
    "        A.Sharpen(alpha=(0, 1.0), p=1.0),\n",
    "        A.Normalize(mean=[0.485, 0.456, 0.406], std=[0.229, 0.224, 0.225]),\n",
    "        \n",
    "        ToTensorV2(),\n",
    "    ]\n",
    ")\n"
   ]
  },
  {
   "cell_type": "code",
   "execution_count": 22,
   "id": "7e1ffd20",
   "metadata": {},
   "outputs": [],
   "source": [
    "class BaseDataset(torch.utils.data.Dataset):\n",
    "    '''\n",
    "    Datasetの__getitem__()は、num_slicesの枚数分だけ画像を出力する。\n",
    "    \n",
    "    Arguments:\n",
    "    - series_list: 画像のSeriesInstanceUIDのリスト\n",
    "    - image_path_df: 画像のパスを含むDataFrame\n",
    "    - meta_df: 患者のメタデータが入ったDataFrame\n",
    "    - label_df: ラベルが入ったDataFrame\n",
    "    - num_slices: 1つのシリーズから抽出するスライス数\n",
    "    - transforms: 画像変換のためのAlbumentationsのComposeオブジェクト\n",
    "    '''\n",
    "    def __init__(self,\n",
    "                 series_list: list,\n",
    "                 image_path_df=image_path_df,\n",
    "                 meta_df=meta_df,\n",
    "                 label_df=label_df,\n",
    "                 transforms=None\n",
    "        ):\n",
    "        self.series_list = series_list\n",
    "        self.image_path_df = image_path_df\n",
    "        self.meta_df = meta_df\n",
    "        self.label_df = label_df\n",
    "        self.transforms = transforms\n",
    "        self.num_slices = CFG.num_slices\n",
    "\n",
    "    def __len__(self):\n",
    "        return len(self.series_list)\n",
    "\n",
    "    def __getitem__(self, index):\n",
    "        # Index to SeriesInstanceUID\n",
    "        series_id = self.series_list[index]\n",
    "        \n",
    "        # SeriesInstanceUID to Image Path\n",
    "        image_path_df = self.image_path_df[\n",
    "            self.image_path_df['series_id'] == series_id\n",
    "        ].reset_index(drop=True)\n",
    "        \n",
    "        # Load Images\n",
    "        indices = np.linspace(0,\n",
    "                              len(image_path_df) - 1,\n",
    "                              self.num_slices).astype(np.int32)\n",
    "        # Stack images to (H, W, CFG.num_slices)\n",
    "        images = []\n",
    "        for i in indices:\n",
    "            image_path = image_path_df.loc[i, 'npy_path']\n",
    "            image = np.load(image_path).astype(np.uint8)\n",
    "            images.append(image)\n",
    "        images = np.stack(images, axis=-1)\n",
    "        \n",
    "        # Transform\n",
    "        if self.transforms:\n",
    "            # ToTensorV2はnumpy.ndarrayをtorch.Tensorに変換する\n",
    "            augmented = self.transforms(image=images)\n",
    "            images = augmented['image']\n",
    "        else:\n",
    "            images = torch.tensor(images, dtype=torch.float32)\n",
    "            images = torch.permute(images, (2, 0, 1))\n",
    "            # Min-Max Normalization\n",
    "            if torch.max(images) > 1.0:\n",
    "                max_value = torch.max(images)\n",
    "                min_value = torch.min(images)\n",
    "                images = (images - min_value) / (max_value - min_value)\n",
    "                \n",
    "        # Meta data\n",
    "        meta = self.meta_df.loc[\n",
    "            self.meta_df['SeriesInstanceUID'] == series_id, ['age', 'sex']\n",
    "        ]\n",
    "        age = min(meta['age'].values[0], 100)\n",
    "        age = age / 100\n",
    "        sex = meta['sex'].values[0]\n",
    "        meta = torch.tensor([age, sex], dtype=torch.float32)\n",
    "\n",
    "        # Labels\n",
    "        labels = self.label_df.loc[\n",
    "            self.label_df['SeriesInstanceUID']==series_id, \\\n",
    "                CFG.label_names].values\n",
    "        labels = torch.tensor(labels, dtype=torch.float32)\n",
    "        labels = torch.squeeze(labels, dim=0)\n",
    "        \n",
    "        return (images, meta, labels)\n"
   ]
  },
  {
   "cell_type": "markdown",
   "id": "15340c5a",
   "metadata": {},
   "source": [
    "# 6. DataLoader"
   ]
  },
  {
   "cell_type": "code",
   "execution_count": 23,
   "id": "c52a3a90",
   "metadata": {},
   "outputs": [],
   "source": [
    "def build_dataloaders():\n",
    "\n",
    "    series = label_df[[\"SeriesInstanceUID\"]].values\n",
    "    labels = label_df[CFG.label_names].values\n",
    "\n",
    "    if CFG.test_run:\n",
    "        # As the absolute number of data points cannot be specified,\n",
    "        # split is executed in two stages.\n",
    "        train_series, train_labels, val_series, _ = iterative_train_test_split(\n",
    "            series, labels, test_size=(1/len(series)) \\\n",
    "                * 2\n",
    "        )\n",
    "        _, _, train_series, train_labels = iterative_train_test_split(\n",
    "            train_series, train_labels, test_size=(1/len(series)) \\\n",
    "                * 2\n",
    "        )\n",
    "        \n",
    "    else:\n",
    "        train_series, _, val_series, _ = iterative_train_test_split(\n",
    "            series, labels, test_size=0.2\n",
    "        )\n",
    "\n",
    "    # 2 dimensions -> 1 dimension\n",
    "    train_series, val_series = train_series.flatten(), val_series.flatten()\n",
    "    print(f\"Train size: {len(train_series)}, Val size: {len(val_series)}\")\n",
    "\n",
    "    # Datasets\n",
    "    train_dataset = BaseDataset(\n",
    "        series_list=train_series,\n",
    "        transforms=train_transform\n",
    "    )\n",
    "    val_dataset = BaseDataset(\n",
    "        series_list=val_series,\n",
    "        transforms=train_transform # or tta_transform\n",
    "    )\n",
    "    \n",
    "    # Dataloaders\n",
    "    train_dataloader = torch.utils.data.DataLoader(\n",
    "        train_dataset,\n",
    "        batch_size=CFG.batch_size,\n",
    "        shuffle=True,\n",
    "        num_workers=0\n",
    "    )\n",
    "    val_dataloader = torch.utils.data.DataLoader(\n",
    "        val_dataset,\n",
    "        batch_size=CFG.batch_size,\n",
    "        shuffle=False,\n",
    "        num_workers=0\n",
    "    )\n",
    "\n",
    "    return  train_dataloader, val_dataloader\n"
   ]
  },
  {
   "cell_type": "code",
   "execution_count": 24,
   "id": "536ec2e5",
   "metadata": {},
   "outputs": [
    {
     "name": "stdout",
     "output_type": "stream",
     "text": [
      "Train size: 2, Val size: 2\n"
     ]
    }
   ],
   "source": [
    "train_dataloader, val_dataloader = build_dataloaders()\n"
   ]
  },
  {
   "cell_type": "code",
   "execution_count": 25,
   "id": "018ebc65",
   "metadata": {},
   "outputs": [],
   "source": [
    "# _, ax = plt.subplots(1, 2, figsize=(12, 6))\n",
    "\n",
    "# # 元の画像とどのくらい違いがあるかを確認\n",
    "\n",
    "# # 元の画像(.npy)\n",
    "# src = np.load(f'../series_npy/{CFG.image_size}/1.2.826.0.1.3680043.8.498.10034081836061566510187499603024895557/00012.npy')\n",
    "# print(np.unique(src))\n",
    "# ax[0].imshow(src)\n",
    "\n",
    "# # Datasetから取り出した画像\n",
    "# images, _ = train_dataset[0]\n",
    "# image = images[8].numpy()  # shape: [H, W]\n",
    "\n",
    "# # 0-1のfloatなら0-255に変換\n",
    "# if image.max() <= 1.0:\n",
    "#     image = (image * 255).astype(np.uint8)\n",
    "# else:\n",
    "#     image = image.astype(np.uint8)\n",
    "\n",
    "# ax[1].imshow(image)\n"
   ]
  },
  {
   "cell_type": "code",
   "execution_count": 26,
   "id": "2b5b63f5",
   "metadata": {},
   "outputs": [],
   "source": [
    "# pil_image = Image.fromarray(image)\n",
    "# display(pil_image)\n"
   ]
  },
  {
   "cell_type": "markdown",
   "id": "a2732754",
   "metadata": {},
   "source": [
    "# 7. Functions"
   ]
  },
  {
   "cell_type": "code",
   "execution_count": 27,
   "id": "1161cd00",
   "metadata": {},
   "outputs": [],
   "source": [
    "# count execution time for one epoch\n",
    "def count_time(start:float) -> float:\n",
    "    \n",
    "    elapsed_time = time.time() - start\n",
    "    elapsed_time /= 60\n",
    "    \n",
    "    return elapsed_time\n"
   ]
  },
  {
   "cell_type": "code",
   "execution_count": 28,
   "id": "7d4611cf",
   "metadata": {},
   "outputs": [],
   "source": [
    "# to save model, optimizer, scheduler\n",
    "def save_checkpoint(model, optimizer, scheduler, save_dir=CFG.save_dir):\n",
    "    \n",
    "    model.to('cpu')\n",
    "    \n",
    "    model_state_dict =  model.state_dict()\n",
    "    optimizer_state_dict = optimizer.state_dict()\n",
    "    scheduler_state_dict = scheduler.state_dict()\n",
    "    \n",
    "    model_path = save_dir + f'/model.pth'\n",
    "    optimizer_path = save_dir + f'/optimizer.pth'\n",
    "    scheduler_path = save_dir + f'/scheduler.pth'\n",
    "        \n",
    "    torch.save(model_state_dict, model_path)\n",
    "    torch.save(optimizer_state_dict, optimizer_path)\n",
    "    torch.save(scheduler_state_dict, scheduler_path)\n",
    "    \n",
    "    model.to(device)\n",
    "    \n",
    "    print(f\"Model saved.\")\n",
    "\n",
    "# to load model, optimizer, scheduler\n",
    "def load_checkpoint(model, optimizer, scheduler, save_dir=''):\n",
    "    \n",
    "    model.to('cpu')\n",
    "    \n",
    "    model.load_state_dict(save_dir + '/model.pth')\n",
    "    optimizer.load_state_dict(save_dir + '/optimizer.pth')\n",
    "    scheduler.load_state_dict(save_dir + '/scheduler.pth')\n",
    "    \n",
    "    model.to(device)\n",
    "    \n",
    "    return model, optimizer, scheduler\n"
   ]
  },
  {
   "cell_type": "code",
   "execution_count": 29,
   "id": "680cfa7f",
   "metadata": {},
   "outputs": [],
   "source": [
    "# to log losses to W&B\n",
    "def log_by_wandb(time, losses):\n",
    "    epoch_data = {\n",
    "        'time': time,\n",
    "        'loss': losses,\n",
    "    }\n",
    "    wandb.log(epoch_data)\n"
   ]
  },
  {
   "cell_type": "code",
   "execution_count": 30,
   "id": "a98ad525",
   "metadata": {},
   "outputs": [],
   "source": [
    "# to log checkpoint\n",
    "def log_artifact(run=run, artifact=artifact, checkpoint_path=\"\"):\n",
    "    artifact.add_file(checkpoint_path)\n",
    "    run.log_artifact(artifact)\n",
    "    print('Artifact was logged to W&B')\n"
   ]
  },
  {
   "cell_type": "markdown",
   "id": "634e7cf3",
   "metadata": {},
   "source": [
    "# 8. Training"
   ]
  },
  {
   "cell_type": "code",
   "execution_count": 31,
   "id": "d6593236",
   "metadata": {},
   "outputs": [],
   "source": [
    "def train_one_epoch(epoch: int) -> Tuple[float, float]:\n",
    "    \n",
    "    print(f'----- Epoch {epoch + 1} -----')\n",
    "    \n",
    "    # Training\n",
    "    train_losses = []\n",
    "    model.train()\n",
    "    \n",
    "    for images, meta, labels in tqdm(train_dataloader):    \n",
    "        images = images.to(CFG.device)\n",
    "        meta = meta.to(CFG.device)\n",
    "        labels = labels.to(CFG.device)\n",
    "        optimizer.zero_grad()\n",
    "        with autocast(device_type=CFG.device):\n",
    "            outputs = model(images, meta)\n",
    "            loss = criterion(outputs, labels)\n",
    "            loss.backward()\n",
    "            optimizer.step()\n",
    "            train_losses.append(loss.item())\n",
    "    \n",
    "    mean_train_loss = np.mean(train_losses)\n",
    "    print(f'Last output:', outputs[0])\n",
    "    print(f'Mean Train Loss: {mean_train_loss:.4f}')\n",
    "    \n",
    "    # Validation\n",
    "    val_losses = []\n",
    "    model.eval()\n",
    "    \n",
    "    with torch.no_grad():\n",
    "        for images, meta, labels in tqdm(val_dataloader):\n",
    "            images = images.to(CFG.device)\n",
    "            meta = meta.to(CFG.device)\n",
    "            labels = labels.to(CFG.device)\n",
    "            with autocast(device_type=CFG.device):\n",
    "                outputs = model(images, meta)\n",
    "                loss = criterion(outputs, labels)\n",
    "                val_losses.append(loss.item())\n",
    "        \n",
    "    mean_val_loss = np.mean(val_losses)\n",
    "    print(f'Mean Validation Loss: {mean_val_loss:.4f}')\n",
    "        \n",
    "    scheduler.step()\n",
    "        \n",
    "    return mean_train_loss, mean_val_loss\n"
   ]
  },
  {
   "cell_type": "code",
   "execution_count": 32,
   "id": "7148edc8",
   "metadata": {},
   "outputs": [],
   "source": [
    "def main():\n",
    "    \n",
    "    os.makedirs(CFG.save_dir, exist_ok=True)\n",
    "    best_val_loss = np.inf\n",
    "    \n",
    "    for epoch in range(CFG.num_epochs):\n",
    "        \n",
    "        # Train & Validation\n",
    "        start_time = time.time()\n",
    "        train_loss, val_loss = train_one_epoch(epoch)\n",
    "        elapsed_time = count_time(start_time)\n",
    "        print(f'Elapsed time: {elapsed_time}')\n",
    "        \n",
    "        # Log to W&B\n",
    "        if CFG.use_wandb:\n",
    "            losses = {\n",
    "                'train_loss': train_loss,\n",
    "                'val_loss': val_loss\n",
    "            }\n",
    "            log_by_wandb(elapsed_time, losses)\n",
    "        \n",
    "        # Save best checkpoint\n",
    "        if val_loss < best_val_loss:\n",
    "            best_val_loss = val_loss\n",
    "            best_checkpoint_path = os.path.join(\n",
    "                CFG.save_dir,\n",
    "                f'best_checkpoint_{date_time}.pth'\n",
    "            )\n",
    "            best_checkpoint_path = best_checkpoint_path.replace('\\\\', '/')\n",
    "            save_checkpoint(model, optimizer, scheduler)\n",
    "            print(f'Best checkpoint saved at {best_checkpoint_path}')\n",
    "            \n",
    "        else:\n",
    "            # Save checkpoint\n",
    "            save_checkpoint(model, optimizer, scheduler)\n",
    "            print(f'Checkpoint saved at {CFG.save_dir}')\n",
    "    \n",
    "    # Log artifact to W&B\n",
    "    if CFG.use_wandb:\n",
    "        log_artifact(run, artifact, best_checkpoint_path)\n"
   ]
  },
  {
   "cell_type": "code",
   "execution_count": 33,
   "id": "35083e4d",
   "metadata": {},
   "outputs": [
    {
     "name": "stdout",
     "output_type": "stream",
     "text": [
      "----- Epoch 1 -----\n"
     ]
    },
    {
     "data": {
      "application/vnd.jupyter.widget-view+json": {
       "model_id": "d5f53ecea0f64dbe88fdb94d3e210873",
       "version_major": 2,
       "version_minor": 0
      },
      "text/plain": [
       "  0%|          | 0/1 [00:00<?, ?it/s]"
      ]
     },
     "metadata": {},
     "output_type": "display_data"
    },
    {
     "name": "stdout",
     "output_type": "stream",
     "text": [
      "Last output: tensor([0.5947, 0.5010, 0.6284, 0.4407, 0.4519, 0.6421, 0.5044, 0.6499, 0.4644,\n",
      "        0.4197, 0.4050, 0.3823, 0.4358], device='cuda:0', dtype=torch.float16,\n",
      "       grad_fn=<SelectBackward0>)\n",
      "Mean Train Loss: 0.9978\n"
     ]
    },
    {
     "data": {
      "application/vnd.jupyter.widget-view+json": {
       "model_id": "2c8a7beb1df04564aea280528688ae3a",
       "version_major": 2,
       "version_minor": 0
      },
      "text/plain": [
       "  0%|          | 0/1 [00:00<?, ?it/s]"
      ]
     },
     "metadata": {},
     "output_type": "display_data"
    },
    {
     "name": "stdout",
     "output_type": "stream",
     "text": [
      "Mean Validation Loss: 0.9731\n",
      "Elapsed time: 0.060632773240407306\n",
      "Model saved.\n",
      "Best checkpoint saved at ../results/swin-s-meta-pretrained-256-32-2025-09-30_01-43-33/best_checkpoint_2025-09-30_01-43-33.pth\n",
      "----- Epoch 2 -----\n"
     ]
    },
    {
     "data": {
      "application/vnd.jupyter.widget-view+json": {
       "model_id": "7aded62b04374ae4ad59ff75cd38ff6b",
       "version_major": 2,
       "version_minor": 0
      },
      "text/plain": [
       "  0%|          | 0/1 [00:00<?, ?it/s]"
      ]
     },
     "metadata": {},
     "output_type": "display_data"
    },
    {
     "name": "stdout",
     "output_type": "stream",
     "text": [
      "Last output: tensor([0.5342, 0.8203, 0.5405, 0.4380, 0.4258, 0.3574, 0.5767, 0.3757, 0.5034,\n",
      "        0.4346, 0.5610, 0.4001, 0.4517], device='cuda:0', dtype=torch.float16,\n",
      "       grad_fn=<SelectBackward0>)\n",
      "Mean Train Loss: 0.9764\n"
     ]
    },
    {
     "data": {
      "application/vnd.jupyter.widget-view+json": {
       "model_id": "9db507e51ca044bab44c1a8e917a2b40",
       "version_major": 2,
       "version_minor": 0
      },
      "text/plain": [
       "  0%|          | 0/1 [00:00<?, ?it/s]"
      ]
     },
     "metadata": {},
     "output_type": "display_data"
    },
    {
     "name": "stdout",
     "output_type": "stream",
     "text": [
      "Mean Validation Loss: 0.9729\n",
      "Elapsed time: 0.01326901912689209\n",
      "Model saved.\n",
      "Best checkpoint saved at ../results/swin-s-meta-pretrained-256-32-2025-09-30_01-43-33/best_checkpoint_2025-09-30_01-43-33.pth\n",
      "----- Epoch 3 -----\n"
     ]
    },
    {
     "data": {
      "application/vnd.jupyter.widget-view+json": {
       "model_id": "f3fd7413d8464f86819c7e1d8383e823",
       "version_major": 2,
       "version_minor": 0
      },
      "text/plain": [
       "  0%|          | 0/1 [00:00<?, ?it/s]"
      ]
     },
     "metadata": {},
     "output_type": "display_data"
    },
    {
     "name": "stdout",
     "output_type": "stream",
     "text": [
      "Last output: tensor([0.5781, 0.5781, 0.3591, 0.4062, 0.4465, 0.5225, 0.6182, 0.5127, 0.4819,\n",
      "        0.3955, 0.3723, 0.5078, 0.3333], device='cuda:0', dtype=torch.float16,\n",
      "       grad_fn=<SelectBackward0>)\n",
      "Mean Train Loss: 0.9809\n"
     ]
    },
    {
     "data": {
      "application/vnd.jupyter.widget-view+json": {
       "model_id": "ce5f274717784ee6ada5e5dc837034dc",
       "version_major": 2,
       "version_minor": 0
      },
      "text/plain": [
       "  0%|          | 0/1 [00:00<?, ?it/s]"
      ]
     },
     "metadata": {},
     "output_type": "display_data"
    },
    {
     "name": "stdout",
     "output_type": "stream",
     "text": [
      "Mean Validation Loss: 0.9665\n",
      "Elapsed time: 0.00986788272857666\n",
      "Model saved.\n",
      "Best checkpoint saved at ../results/swin-s-meta-pretrained-256-32-2025-09-30_01-43-33/best_checkpoint_2025-09-30_01-43-33.pth\n",
      "----- Epoch 4 -----\n"
     ]
    },
    {
     "data": {
      "application/vnd.jupyter.widget-view+json": {
       "model_id": "e160af2fc6c047e2a4bc0af9910aa71b",
       "version_major": 2,
       "version_minor": 0
      },
      "text/plain": [
       "  0%|          | 0/1 [00:00<?, ?it/s]"
      ]
     },
     "metadata": {},
     "output_type": "display_data"
    },
    {
     "name": "stdout",
     "output_type": "stream",
     "text": [
      "Last output: tensor([0.6187, 0.5894, 0.2793, 0.2520, 0.3972, 0.4529, 0.3743, 0.5571, 0.4001,\n",
      "        0.3840, 0.4287, 0.5103, 0.3667], device='cuda:0', dtype=torch.float16,\n",
      "       grad_fn=<SelectBackward0>)\n",
      "Mean Train Loss: 0.9398\n"
     ]
    },
    {
     "data": {
      "application/vnd.jupyter.widget-view+json": {
       "model_id": "4a072b64829b4d959deb513511171f6a",
       "version_major": 2,
       "version_minor": 0
      },
      "text/plain": [
       "  0%|          | 0/1 [00:00<?, ?it/s]"
      ]
     },
     "metadata": {},
     "output_type": "display_data"
    },
    {
     "name": "stdout",
     "output_type": "stream",
     "text": [
      "Mean Validation Loss: 0.9677\n",
      "Elapsed time: 0.010467274983723959\n",
      "Model saved.\n",
      "Checkpoint saved at ../results/swin-s-meta-pretrained-256-32-2025-09-30_01-43-33\n",
      "----- Epoch 5 -----\n"
     ]
    },
    {
     "data": {
      "application/vnd.jupyter.widget-view+json": {
       "model_id": "ac460424f083443b8d464f17033e9de5",
       "version_major": 2,
       "version_minor": 0
      },
      "text/plain": [
       "  0%|          | 0/1 [00:00<?, ?it/s]"
      ]
     },
     "metadata": {},
     "output_type": "display_data"
    },
    {
     "name": "stdout",
     "output_type": "stream",
     "text": [
      "Last output: tensor([0.5293, 0.4648, 0.4131, 0.3020, 0.5967, 0.4553, 0.4644, 0.5342, 0.6611,\n",
      "        0.4268, 0.2134, 0.5640, 0.3213], device='cuda:0', dtype=torch.float16,\n",
      "       grad_fn=<SelectBackward0>)\n",
      "Mean Train Loss: 0.9459\n"
     ]
    },
    {
     "data": {
      "application/vnd.jupyter.widget-view+json": {
       "model_id": "5e084e4ca2004d429a5f34e9cd7f75fb",
       "version_major": 2,
       "version_minor": 0
      },
      "text/plain": [
       "  0%|          | 0/1 [00:00<?, ?it/s]"
      ]
     },
     "metadata": {},
     "output_type": "display_data"
    },
    {
     "name": "stdout",
     "output_type": "stream",
     "text": [
      "Mean Validation Loss: 0.9599\n",
      "Elapsed time: 0.010349400838216146\n",
      "Model saved.\n",
      "Best checkpoint saved at ../results/swin-s-meta-pretrained-256-32-2025-09-30_01-43-33/best_checkpoint_2025-09-30_01-43-33.pth\n",
      "----- Epoch 6 -----\n"
     ]
    },
    {
     "data": {
      "application/vnd.jupyter.widget-view+json": {
       "model_id": "81f2eed767574dd2b2bc47efdc563935",
       "version_major": 2,
       "version_minor": 0
      },
      "text/plain": [
       "  0%|          | 0/1 [00:00<?, ?it/s]"
      ]
     },
     "metadata": {},
     "output_type": "display_data"
    },
    {
     "name": "stdout",
     "output_type": "stream",
     "text": [
      "Last output: tensor([0.7207, 0.4692, 0.4429, 0.4148, 0.2969, 0.6172, 0.4309, 0.3953, 0.5659,\n",
      "        0.3135, 0.3650, 0.2930, 0.5684], device='cuda:0', dtype=torch.float16,\n",
      "       grad_fn=<SelectBackward0>)\n",
      "Mean Train Loss: 0.9334\n"
     ]
    },
    {
     "data": {
      "application/vnd.jupyter.widget-view+json": {
       "model_id": "d63c209662304d3991c91d9250ce66aa",
       "version_major": 2,
       "version_minor": 0
      },
      "text/plain": [
       "  0%|          | 0/1 [00:00<?, ?it/s]"
      ]
     },
     "metadata": {},
     "output_type": "display_data"
    },
    {
     "name": "stdout",
     "output_type": "stream",
     "text": [
      "Mean Validation Loss: 0.9567\n",
      "Elapsed time: 0.010804462432861327\n",
      "Model saved.\n",
      "Best checkpoint saved at ../results/swin-s-meta-pretrained-256-32-2025-09-30_01-43-33/best_checkpoint_2025-09-30_01-43-33.pth\n",
      "----- Epoch 7 -----\n"
     ]
    },
    {
     "data": {
      "application/vnd.jupyter.widget-view+json": {
       "model_id": "a42cd6d767bd45ddabb6b8097d186181",
       "version_major": 2,
       "version_minor": 0
      },
      "text/plain": [
       "  0%|          | 0/1 [00:00<?, ?it/s]"
      ]
     },
     "metadata": {},
     "output_type": "display_data"
    },
    {
     "name": "stdout",
     "output_type": "stream",
     "text": [
      "Last output: tensor([0.6230, 0.6479, 0.2130, 0.2255, 0.5679, 0.2812, 0.2334, 0.5205, 0.4053,\n",
      "        0.4116, 0.2852, 0.4697, 0.3638], device='cuda:0', dtype=torch.float16,\n",
      "       grad_fn=<SelectBackward0>)\n",
      "Mean Train Loss: 0.9148\n"
     ]
    },
    {
     "data": {
      "application/vnd.jupyter.widget-view+json": {
       "model_id": "9614111621b2449793006d897c41d960",
       "version_major": 2,
       "version_minor": 0
      },
      "text/plain": [
       "  0%|          | 0/1 [00:00<?, ?it/s]"
      ]
     },
     "metadata": {},
     "output_type": "display_data"
    },
    {
     "name": "stdout",
     "output_type": "stream",
     "text": [
      "Mean Validation Loss: 0.9522\n",
      "Elapsed time: 0.00937637488047282\n",
      "Model saved.\n",
      "Best checkpoint saved at ../results/swin-s-meta-pretrained-256-32-2025-09-30_01-43-33/best_checkpoint_2025-09-30_01-43-33.pth\n",
      "----- Epoch 8 -----\n"
     ]
    },
    {
     "data": {
      "application/vnd.jupyter.widget-view+json": {
       "model_id": "e62ee71aa71c417e98270a69e323f7a3",
       "version_major": 2,
       "version_minor": 0
      },
      "text/plain": [
       "  0%|          | 0/1 [00:00<?, ?it/s]"
      ]
     },
     "metadata": {},
     "output_type": "display_data"
    },
    {
     "name": "stdout",
     "output_type": "stream",
     "text": [
      "Last output: tensor([0.5308, 0.4346, 0.5537, 0.4202, 0.3735, 0.3047, 0.4746, 0.3855, 0.4253,\n",
      "        0.3635, 0.3074, 0.4612, 0.3850], device='cuda:0', dtype=torch.float16,\n",
      "       grad_fn=<SelectBackward0>)\n",
      "Mean Train Loss: 0.9157\n"
     ]
    },
    {
     "data": {
      "application/vnd.jupyter.widget-view+json": {
       "model_id": "a021babdbdbb486f87cc0643687fe611",
       "version_major": 2,
       "version_minor": 0
      },
      "text/plain": [
       "  0%|          | 0/1 [00:00<?, ?it/s]"
      ]
     },
     "metadata": {},
     "output_type": "display_data"
    },
    {
     "name": "stdout",
     "output_type": "stream",
     "text": [
      "Mean Validation Loss: 0.9483\n",
      "Elapsed time: 0.01021809975306193\n",
      "Model saved.\n",
      "Best checkpoint saved at ../results/swin-s-meta-pretrained-256-32-2025-09-30_01-43-33/best_checkpoint_2025-09-30_01-43-33.pth\n",
      "----- Epoch 9 -----\n"
     ]
    },
    {
     "data": {
      "application/vnd.jupyter.widget-view+json": {
       "model_id": "e54ee282d8274bc7b8143ed502a96ea5",
       "version_major": 2,
       "version_minor": 0
      },
      "text/plain": [
       "  0%|          | 0/1 [00:00<?, ?it/s]"
      ]
     },
     "metadata": {},
     "output_type": "display_data"
    },
    {
     "name": "stdout",
     "output_type": "stream",
     "text": [
      "Last output: tensor([0.4861, 0.3042, 0.4045, 0.2101, 0.2512, 0.3330, 0.3745, 0.3752, 0.3284,\n",
      "        0.4888, 0.3811, 0.5024, 0.2979], device='cuda:0', dtype=torch.float16,\n",
      "       grad_fn=<SelectBackward0>)\n",
      "Mean Train Loss: 0.9000\n"
     ]
    },
    {
     "data": {
      "application/vnd.jupyter.widget-view+json": {
       "model_id": "b2ce70327ca443b3bc51659c461c538e",
       "version_major": 2,
       "version_minor": 0
      },
      "text/plain": [
       "  0%|          | 0/1 [00:00<?, ?it/s]"
      ]
     },
     "metadata": {},
     "output_type": "display_data"
    },
    {
     "name": "stdout",
     "output_type": "stream",
     "text": [
      "Mean Validation Loss: 0.9442\n",
      "Elapsed time: 0.009954063097635905\n",
      "Model saved.\n",
      "Best checkpoint saved at ../results/swin-s-meta-pretrained-256-32-2025-09-30_01-43-33/best_checkpoint_2025-09-30_01-43-33.pth\n",
      "----- Epoch 10 -----\n"
     ]
    },
    {
     "data": {
      "application/vnd.jupyter.widget-view+json": {
       "model_id": "83c0daef842a4226b7aceb78e43341f8",
       "version_major": 2,
       "version_minor": 0
      },
      "text/plain": [
       "  0%|          | 0/1 [00:00<?, ?it/s]"
      ]
     },
     "metadata": {},
     "output_type": "display_data"
    },
    {
     "name": "stdout",
     "output_type": "stream",
     "text": [
      "Last output: tensor([0.4426, 0.4741, 0.2578, 0.2056, 0.2905, 0.2581, 0.3574, 0.3638, 0.4019,\n",
      "        0.3240, 0.3496, 0.2837, 0.3840], device='cuda:0', dtype=torch.float16,\n",
      "       grad_fn=<SelectBackward0>)\n",
      "Mean Train Loss: 0.8802\n"
     ]
    },
    {
     "data": {
      "application/vnd.jupyter.widget-view+json": {
       "model_id": "1c3d9f7dce634f77b93e438ae613b30d",
       "version_major": 2,
       "version_minor": 0
      },
      "text/plain": [
       "  0%|          | 0/1 [00:00<?, ?it/s]"
      ]
     },
     "metadata": {},
     "output_type": "display_data"
    },
    {
     "name": "stdout",
     "output_type": "stream",
     "text": [
      "Mean Validation Loss: 0.9391\n",
      "Elapsed time: 0.008951906363169353\n",
      "Model saved.\n",
      "Best checkpoint saved at ../results/swin-s-meta-pretrained-256-32-2025-09-30_01-43-33/best_checkpoint_2025-09-30_01-43-33.pth\n",
      "----- Epoch 11 -----\n"
     ]
    },
    {
     "data": {
      "application/vnd.jupyter.widget-view+json": {
       "model_id": "96d29bc8cee1459f82669ad176c5d3da",
       "version_major": 2,
       "version_minor": 0
      },
      "text/plain": [
       "  0%|          | 0/1 [00:00<?, ?it/s]"
      ]
     },
     "metadata": {},
     "output_type": "display_data"
    },
    {
     "name": "stdout",
     "output_type": "stream",
     "text": [
      "Last output: tensor([0.7153, 0.3535, 0.1948, 0.1700, 0.1559, 0.2015, 0.3623, 0.2722, 0.2935,\n",
      "        0.3611, 0.2478, 0.2144, 0.1791], device='cuda:0', dtype=torch.float16,\n",
      "       grad_fn=<SelectBackward0>)\n",
      "Mean Train Loss: 0.8736\n"
     ]
    },
    {
     "data": {
      "application/vnd.jupyter.widget-view+json": {
       "model_id": "8ae8677473234d4ab807564f39624d7d",
       "version_major": 2,
       "version_minor": 0
      },
      "text/plain": [
       "  0%|          | 0/1 [00:00<?, ?it/s]"
      ]
     },
     "metadata": {},
     "output_type": "display_data"
    },
    {
     "name": "stdout",
     "output_type": "stream",
     "text": [
      "Mean Validation Loss: 0.9350\n",
      "Elapsed time: 0.009624107678731283\n",
      "Model saved.\n",
      "Best checkpoint saved at ../results/swin-s-meta-pretrained-256-32-2025-09-30_01-43-33/best_checkpoint_2025-09-30_01-43-33.pth\n",
      "----- Epoch 12 -----\n"
     ]
    },
    {
     "data": {
      "application/vnd.jupyter.widget-view+json": {
       "model_id": "24cf7adb22394584a72a87adf810565a",
       "version_major": 2,
       "version_minor": 0
      },
      "text/plain": [
       "  0%|          | 0/1 [00:00<?, ?it/s]"
      ]
     },
     "metadata": {},
     "output_type": "display_data"
    },
    {
     "name": "stdout",
     "output_type": "stream",
     "text": [
      "Last output: tensor([0.2961, 0.5186, 0.3501, 0.1401, 0.3000, 0.4260, 0.3662, 0.2961, 0.3811,\n",
      "        0.3572, 0.1516, 0.1974, 0.1473], device='cuda:0', dtype=torch.float16,\n",
      "       grad_fn=<SelectBackward0>)\n",
      "Mean Train Loss: 0.8705\n"
     ]
    },
    {
     "data": {
      "application/vnd.jupyter.widget-view+json": {
       "model_id": "81ac96172be6425481a5a9b1828982b9",
       "version_major": 2,
       "version_minor": 0
      },
      "text/plain": [
       "  0%|          | 0/1 [00:00<?, ?it/s]"
      ]
     },
     "metadata": {},
     "output_type": "display_data"
    },
    {
     "name": "stdout",
     "output_type": "stream",
     "text": [
      "Mean Validation Loss: 0.9341\n",
      "Elapsed time: 0.00958633025487264\n",
      "Model saved.\n",
      "Best checkpoint saved at ../results/swin-s-meta-pretrained-256-32-2025-09-30_01-43-33/best_checkpoint_2025-09-30_01-43-33.pth\n",
      "----- Epoch 13 -----\n"
     ]
    },
    {
     "data": {
      "application/vnd.jupyter.widget-view+json": {
       "model_id": "81ec75194ce849488d923c6857c6baae",
       "version_major": 2,
       "version_minor": 0
      },
      "text/plain": [
       "  0%|          | 0/1 [00:00<?, ?it/s]"
      ]
     },
     "metadata": {},
     "output_type": "display_data"
    },
    {
     "name": "stdout",
     "output_type": "stream",
     "text": [
      "Last output: tensor([0.4807, 0.3628, 0.2144, 0.2671, 0.2327, 0.3911, 0.2751, 0.4778, 0.2644,\n",
      "        0.4417, 0.2927, 0.3313, 0.2756], device='cuda:0', dtype=torch.float16,\n",
      "       grad_fn=<SelectBackward0>)\n",
      "Mean Train Loss: 0.8792\n"
     ]
    },
    {
     "data": {
      "application/vnd.jupyter.widget-view+json": {
       "model_id": "9457d6b740a943648158e2cc79c1e347",
       "version_major": 2,
       "version_minor": 0
      },
      "text/plain": [
       "  0%|          | 0/1 [00:00<?, ?it/s]"
      ]
     },
     "metadata": {},
     "output_type": "display_data"
    },
    {
     "name": "stdout",
     "output_type": "stream",
     "text": [
      "Mean Validation Loss: 0.9324\n",
      "Elapsed time: 0.008929212888081869\n",
      "Model saved.\n",
      "Best checkpoint saved at ../results/swin-s-meta-pretrained-256-32-2025-09-30_01-43-33/best_checkpoint_2025-09-30_01-43-33.pth\n",
      "----- Epoch 14 -----\n"
     ]
    },
    {
     "data": {
      "application/vnd.jupyter.widget-view+json": {
       "model_id": "d560c2908e824c979b7e96bd064c2554",
       "version_major": 2,
       "version_minor": 0
      },
      "text/plain": [
       "  0%|          | 0/1 [00:00<?, ?it/s]"
      ]
     },
     "metadata": {},
     "output_type": "display_data"
    },
    {
     "name": "stdout",
     "output_type": "stream",
     "text": [
      "Last output: tensor([0.3997, 0.4058, 0.1658, 0.2280, 0.2163, 0.2104, 0.4075, 0.4460, 0.2820,\n",
      "        0.3032, 0.3875, 0.3027, 0.1608], device='cuda:0', dtype=torch.float16,\n",
      "       grad_fn=<SelectBackward0>)\n",
      "Mean Train Loss: 0.8638\n"
     ]
    },
    {
     "data": {
      "application/vnd.jupyter.widget-view+json": {
       "model_id": "c6198bcbf1f34af49e4f5c2eea030054",
       "version_major": 2,
       "version_minor": 0
      },
      "text/plain": [
       "  0%|          | 0/1 [00:00<?, ?it/s]"
      ]
     },
     "metadata": {},
     "output_type": "display_data"
    },
    {
     "name": "stdout",
     "output_type": "stream",
     "text": [
      "Mean Validation Loss: 0.9292\n",
      "Elapsed time: 0.00969847838083903\n",
      "Model saved.\n",
      "Best checkpoint saved at ../results/swin-s-meta-pretrained-256-32-2025-09-30_01-43-33/best_checkpoint_2025-09-30_01-43-33.pth\n",
      "----- Epoch 15 -----\n"
     ]
    },
    {
     "data": {
      "application/vnd.jupyter.widget-view+json": {
       "model_id": "4543500f880d4b4d946e7d3593813a6c",
       "version_major": 2,
       "version_minor": 0
      },
      "text/plain": [
       "  0%|          | 0/1 [00:00<?, ?it/s]"
      ]
     },
     "metadata": {},
     "output_type": "display_data"
    },
    {
     "name": "stdout",
     "output_type": "stream",
     "text": [
      "Last output: tensor([0.3728, 0.3181, 0.2673, 0.1714, 0.1910, 0.2629, 0.2627, 0.2646, 0.3899,\n",
      "        0.3513, 0.2012, 0.5073, 0.3235], device='cuda:0', dtype=torch.float16,\n",
      "       grad_fn=<SelectBackward0>)\n",
      "Mean Train Loss: 0.8549\n"
     ]
    },
    {
     "data": {
      "application/vnd.jupyter.widget-view+json": {
       "model_id": "d0237f2c2ba34a999d687818dd2ddd34",
       "version_major": 2,
       "version_minor": 0
      },
      "text/plain": [
       "  0%|          | 0/1 [00:00<?, ?it/s]"
      ]
     },
     "metadata": {},
     "output_type": "display_data"
    },
    {
     "name": "stdout",
     "output_type": "stream",
     "text": [
      "Mean Validation Loss: 0.9283\n",
      "Elapsed time: 0.01177981694539388\n",
      "Model saved.\n",
      "Best checkpoint saved at ../results/swin-s-meta-pretrained-256-32-2025-09-30_01-43-33/best_checkpoint_2025-09-30_01-43-33.pth\n",
      "----- Epoch 16 -----\n"
     ]
    },
    {
     "data": {
      "application/vnd.jupyter.widget-view+json": {
       "model_id": "00985f5cfaaa460ab578614af9cb909e",
       "version_major": 2,
       "version_minor": 0
      },
      "text/plain": [
       "  0%|          | 0/1 [00:00<?, ?it/s]"
      ]
     },
     "metadata": {},
     "output_type": "display_data"
    },
    {
     "name": "stdout",
     "output_type": "stream",
     "text": [
      "Last output: tensor([0.4302, 0.2920, 0.2676, 0.1918, 0.2157, 0.2246, 0.2681, 0.1990, 0.1694,\n",
      "        0.3997, 0.2510, 0.3289, 0.2344], device='cuda:0', dtype=torch.float16,\n",
      "       grad_fn=<SelectBackward0>)\n",
      "Mean Train Loss: 0.8527\n"
     ]
    },
    {
     "data": {
      "application/vnd.jupyter.widget-view+json": {
       "model_id": "ace2de0c3b3f453b9ff40e3b49d93872",
       "version_major": 2,
       "version_minor": 0
      },
      "text/plain": [
       "  0%|          | 0/1 [00:00<?, ?it/s]"
      ]
     },
     "metadata": {},
     "output_type": "display_data"
    },
    {
     "name": "stdout",
     "output_type": "stream",
     "text": [
      "Mean Validation Loss: 0.9286\n",
      "Elapsed time: 0.008686308066050212\n",
      "Model saved.\n",
      "Checkpoint saved at ../results/swin-s-meta-pretrained-256-32-2025-09-30_01-43-33\n",
      "----- Epoch 17 -----\n"
     ]
    },
    {
     "data": {
      "application/vnd.jupyter.widget-view+json": {
       "model_id": "ff9c6c4432804b6198b376cf5e7f3e89",
       "version_major": 2,
       "version_minor": 0
      },
      "text/plain": [
       "  0%|          | 0/1 [00:00<?, ?it/s]"
      ]
     },
     "metadata": {},
     "output_type": "display_data"
    },
    {
     "name": "stdout",
     "output_type": "stream",
     "text": [
      "Last output: tensor([0.3032, 0.4531, 0.4207, 0.3782, 0.2729, 0.2871, 0.3352, 0.2869, 0.3208,\n",
      "        0.3408, 0.2144, 0.4739, 0.2327], device='cuda:0', dtype=torch.float16,\n",
      "       grad_fn=<SelectBackward0>)\n",
      "Mean Train Loss: 0.8565\n"
     ]
    },
    {
     "data": {
      "application/vnd.jupyter.widget-view+json": {
       "model_id": "eed62f27c6d14b2baf30783d06d09415",
       "version_major": 2,
       "version_minor": 0
      },
      "text/plain": [
       "  0%|          | 0/1 [00:00<?, ?it/s]"
      ]
     },
     "metadata": {},
     "output_type": "display_data"
    },
    {
     "name": "stdout",
     "output_type": "stream",
     "text": [
      "Mean Validation Loss: 0.9278\n",
      "Elapsed time: 0.010979731877644857\n",
      "Model saved.\n",
      "Best checkpoint saved at ../results/swin-s-meta-pretrained-256-32-2025-09-30_01-43-33/best_checkpoint_2025-09-30_01-43-33.pth\n",
      "----- Epoch 18 -----\n"
     ]
    },
    {
     "data": {
      "application/vnd.jupyter.widget-view+json": {
       "model_id": "935d2ced2aae4bbc947ac7981ec1c418",
       "version_major": 2,
       "version_minor": 0
      },
      "text/plain": [
       "  0%|          | 0/1 [00:00<?, ?it/s]"
      ]
     },
     "metadata": {},
     "output_type": "display_data"
    },
    {
     "name": "stdout",
     "output_type": "stream",
     "text": [
      "Last output: tensor([0.4146, 0.2424, 0.4492, 0.2832, 0.3367, 0.1765, 0.3140, 0.3372, 0.1857,\n",
      "        0.2147, 0.1757, 0.2391, 0.3164], device='cuda:0', dtype=torch.float16,\n",
      "       grad_fn=<SelectBackward0>)\n",
      "Mean Train Loss: 0.8576\n"
     ]
    },
    {
     "data": {
      "application/vnd.jupyter.widget-view+json": {
       "model_id": "2f960e3b97744c789b5dacf0ee460025",
       "version_major": 2,
       "version_minor": 0
      },
      "text/plain": [
       "  0%|          | 0/1 [00:00<?, ?it/s]"
      ]
     },
     "metadata": {},
     "output_type": "display_data"
    },
    {
     "name": "stdout",
     "output_type": "stream",
     "text": [
      "Mean Validation Loss: 0.9286\n",
      "Elapsed time: 0.009926187992095947\n",
      "Model saved.\n",
      "Checkpoint saved at ../results/swin-s-meta-pretrained-256-32-2025-09-30_01-43-33\n",
      "----- Epoch 19 -----\n"
     ]
    },
    {
     "data": {
      "application/vnd.jupyter.widget-view+json": {
       "model_id": "f4230334f1134bf0880ef8f9510988c1",
       "version_major": 2,
       "version_minor": 0
      },
      "text/plain": [
       "  0%|          | 0/1 [00:00<?, ?it/s]"
      ]
     },
     "metadata": {},
     "output_type": "display_data"
    },
    {
     "name": "stdout",
     "output_type": "stream",
     "text": [
      "Last output: tensor([0.3691, 0.3694, 0.2693, 0.2391, 0.3088, 0.3909, 0.1638, 0.2588, 0.4119,\n",
      "        0.2839, 0.2698, 0.2700, 0.1810], device='cuda:0', dtype=torch.float16,\n",
      "       grad_fn=<SelectBackward0>)\n",
      "Mean Train Loss: 0.8493\n"
     ]
    },
    {
     "data": {
      "application/vnd.jupyter.widget-view+json": {
       "model_id": "5f66258a622544d5acc02dfd44104b0c",
       "version_major": 2,
       "version_minor": 0
      },
      "text/plain": [
       "  0%|          | 0/1 [00:00<?, ?it/s]"
      ]
     },
     "metadata": {},
     "output_type": "display_data"
    },
    {
     "name": "stdout",
     "output_type": "stream",
     "text": [
      "Mean Validation Loss: 0.9250\n",
      "Elapsed time: 0.01095363696416219\n",
      "Model saved.\n",
      "Best checkpoint saved at ../results/swin-s-meta-pretrained-256-32-2025-09-30_01-43-33/best_checkpoint_2025-09-30_01-43-33.pth\n",
      "----- Epoch 20 -----\n"
     ]
    },
    {
     "data": {
      "application/vnd.jupyter.widget-view+json": {
       "model_id": "9ecbb12781924a1ca812fdaa8c9cb690",
       "version_major": 2,
       "version_minor": 0
      },
      "text/plain": [
       "  0%|          | 0/1 [00:00<?, ?it/s]"
      ]
     },
     "metadata": {},
     "output_type": "display_data"
    },
    {
     "name": "stdout",
     "output_type": "stream",
     "text": [
      "Last output: tensor([0.3484, 0.4189, 0.2363, 0.2754, 0.3552, 0.3967, 0.2979, 0.2310, 0.3516,\n",
      "        0.2559, 0.1782, 0.2981, 0.1985], device='cuda:0', dtype=torch.float16,\n",
      "       grad_fn=<SelectBackward0>)\n",
      "Mean Train Loss: 0.8457\n"
     ]
    },
    {
     "data": {
      "application/vnd.jupyter.widget-view+json": {
       "model_id": "dd3d9dcbbfbc40a7a5c69d2eeeb180c4",
       "version_major": 2,
       "version_minor": 0
      },
      "text/plain": [
       "  0%|          | 0/1 [00:00<?, ?it/s]"
      ]
     },
     "metadata": {},
     "output_type": "display_data"
    },
    {
     "name": "stdout",
     "output_type": "stream",
     "text": [
      "Mean Validation Loss: 0.9245\n",
      "Elapsed time: 0.012459063529968261\n",
      "Model saved.\n",
      "Best checkpoint saved at ../results/swin-s-meta-pretrained-256-32-2025-09-30_01-43-33/best_checkpoint_2025-09-30_01-43-33.pth\n"
     ]
    }
   ],
   "source": [
    "main()\n"
   ]
  },
  {
   "cell_type": "code",
   "execution_count": 34,
   "id": "f94bd995",
   "metadata": {},
   "outputs": [],
   "source": [
    "if CFG.use_wandb:\n",
    "    run.finish()\n"
   ]
  }
 ],
 "metadata": {
  "kernelspec": {
   "display_name": "Kaggle",
   "language": "python",
   "name": "python3"
  },
  "language_info": {
   "codemirror_mode": {
    "name": "ipython",
    "version": 3
   },
   "file_extension": ".py",
   "mimetype": "text/x-python",
   "name": "python",
   "nbconvert_exporter": "python",
   "pygments_lexer": "ipython3",
   "version": "3.11.13"
  }
 },
 "nbformat": 4,
 "nbformat_minor": 5
}
