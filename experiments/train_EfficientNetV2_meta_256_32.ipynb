{
 "cells": [
  {
   "cell_type": "markdown",
   "id": "56e82235",
   "metadata": {},
   "source": [
    "このNotebookは、モデルを学習させるために作られたものである。"
   ]
  },
  {
   "cell_type": "markdown",
   "id": "79324f0b",
   "metadata": {},
   "source": [
    "# 1. Configuration"
   ]
  },
  {
   "cell_type": "code",
   "execution_count": 1,
   "id": "dd18a0cb",
   "metadata": {},
   "outputs": [],
   "source": [
    "# Run Configuration\n",
    "RUN_NAME = \"efficientnetv2-s-meta\"\n",
    "SAVE_DIR = \"../results/\" + RUN_NAME\n",
    "TEST_RUN = False\n",
    "SEED = 42\n",
    "DEVICE = \"cuda\"\n",
    "\n",
    "# Input Data Configuration\n",
    "IMAGE_SIZE = 256\n",
    "NUM_SLICES = 32\n",
    "BATCH_SIZE = 5\n",
    "LABEL_NAMES = [\n",
    "    # 13 classes\n",
    "    'Left Infraclinoid Internal Carotid Artery',\n",
    "    'Right Infraclinoid Internal Carotid Artery',\n",
    "    'Left Supraclinoid Internal Carotid Artery',\n",
    "    'Right Supraclinoid Internal Carotid Artery',\n",
    "    'Left Middle Cerebral Artery',\n",
    "    'Right Middle Cerebral Artery',\n",
    "    'Anterior Communicating Artery',\n",
    "    'Left Anterior Cerebral Artery',\n",
    "    'Right Anterior Cerebral Artery',\n",
    "    'Left Posterior Communicating Artery',\n",
    "    'Right Posterior Communicating Artery',\n",
    "    'Basilar Tip',\n",
    "    'Other Posterior Circulation',\n",
    "    # 'Aneurysm Present',\n",
    "]\n",
    "NUM_LABELS = len(LABEL_NAMES)\n",
    "\n",
    "# Training Configuration\n",
    "NUM_EPOCHS = 25\n",
    "PATIENCE = 5\n"
   ]
  },
  {
   "cell_type": "code",
   "execution_count": 2,
   "id": "e01f6b29",
   "metadata": {},
   "outputs": [],
   "source": [
    "RUN_NAME = RUN_NAME + f'-{IMAGE_SIZE}-{NUM_SLICES}'\n",
    "\n",
    "# Weights & Biases Configuration\n",
    "if TEST_RUN:\n",
    "    USE_WANDB = False\n",
    "else:\n",
    "    USE_WANDB = True\n",
    "WANDB_INIT = {\n",
    "    'project': 'RSNA-IAD',\n",
    "    'group': 'Image Classification',\n",
    "    'job_type': 'training_model',\n",
    "    'save_code': True,\n",
    "}\n",
    "ARTIFACT = {\n",
    "    'name': RUN_NAME,\n",
    "    'type': 'model, optimizer, scheduler',\n",
    "}\n"
   ]
  },
  {
   "cell_type": "code",
   "execution_count": 3,
   "id": "9dff7a4b",
   "metadata": {},
   "outputs": [],
   "source": [
    "class Configuration:\n",
    "    \n",
    "    # Run\n",
    "    run_name = RUN_NAME\n",
    "    save_dir = SAVE_DIR\n",
    "    test_run = TEST_RUN\n",
    "    seed = SEED\n",
    "    device = DEVICE\n",
    "    \n",
    "    # Input Data\n",
    "    image_size = IMAGE_SIZE\n",
    "    num_slices = NUM_SLICES\n",
    "    batch_size = BATCH_SIZE\n",
    "    label_names = LABEL_NAMES\n",
    "    num_labels = NUM_LABELS\n",
    "    \n",
    "    # Training\n",
    "    num_epochs = NUM_EPOCHS\n",
    "    patience = PATIENCE\n",
    "    \n",
    "    # Weights & Biases\n",
    "    use_wandb = USE_WANDB\n",
    "    wandb_init = WANDB_INIT\n",
    "    artifact = ARTIFACT\n",
    "\n",
    "CFG = Configuration\n"
   ]
  },
  {
   "cell_type": "markdown",
   "id": "42800cbd",
   "metadata": {},
   "source": [
    "# 2. Import"
   ]
  },
  {
   "cell_type": "code",
   "execution_count": 4,
   "id": "4b9b7111",
   "metadata": {},
   "outputs": [],
   "source": [
    "import os\n",
    "import random\n",
    "import warnings\n",
    "warnings.filterwarnings('ignore')\n",
    "from pathlib import Path\n",
    "from collections import defaultdict\n",
    "from typing import List, Dict, Optional, Tuple\n",
    "from IPython.display import display\n",
    "import datetime\n",
    "import time\n",
    "from tqdm.notebook import tqdm\n",
    "\n",
    "# Data handling\n",
    "import numpy as np\n",
    "import polars as pl\n",
    "import pandas as pd\n",
    "from sklearn.model_selection import StratifiedShuffleSplit, StratifiedKFold\n",
    "from skmultilearn.model_selection import iterative_train_test_split\n",
    "\n",
    "# Medical imaging\n",
    "import pydicom\n",
    "import cv2\n",
    "\n",
    "# Machine Lerning \n",
    "import torch\n",
    "import torch.nn as nn\n",
    "import torch.nn.functional as F\n",
    "from torch.amp import autocast\n",
    "import torchvision\n",
    "import timm\n",
    "\n",
    "# Transformations\n",
    "import albumentations as A\n",
    "from albumentations.pytorch import ToTensorV2\n",
    "\n",
    "# Visualization\n",
    "import matplotlib.pyplot as plt\n",
    "import seaborn as sns\n",
    "import PIL.Image as Image\n",
    "\n",
    "# Experiment Management\n",
    "import wandb\n",
    "\n",
    "# Competition API\n",
    "# import kaggle_evaluation.rsna_inference_server\n"
   ]
  },
  {
   "cell_type": "code",
   "execution_count": 5,
   "id": "d17163be",
   "metadata": {},
   "outputs": [
    {
     "name": "stdout",
     "output_type": "stream",
     "text": [
      "Using device: cuda\n"
     ]
    }
   ],
   "source": [
    "# datetime for unique checkpoint filenames\n",
    "date_time = datetime.datetime.now()\n",
    "date_time = date_time.strftime('%Y-%m-%d_%H-%M-%S')\n",
    "\n",
    "# Set device\n",
    "device = torch.device('cuda' if torch.cuda.is_available() else 'cpu')\n",
    "print(f\"Using device: {device}\")\n"
   ]
  },
  {
   "cell_type": "code",
   "execution_count": 6,
   "id": "35d0f324",
   "metadata": {},
   "outputs": [],
   "source": [
    "def set_random_seeds(seed=CFG.seed, deterministic=False):\n",
    "    \"\"\"\n",
    "    Set random seed.\n",
    "    \n",
    "    Args:\n",
    "        seed (int): Seed to be used.\n",
    "        deterministic (bool): Whether to set the deterministic option for\n",
    "            CUDNN backend, i.e., set `torch.backends.cudnn.deterministic`\n",
    "            to True and `torch.backends.cudnn.benchmark` to False.\n",
    "            Default: False.\n",
    "    \"\"\"\n",
    "    random.seed(seed)\n",
    "    os.environ['PYTHONHASHSEED'] = str(seed)\n",
    "    np.random.seed(seed)\n",
    "    torch.manual_seed(seed)\n",
    "    torch.cuda.manual_seed(seed)\n",
    "    torch.backends.cudnn.deterministic = True\n",
    "    \n",
    "    if deterministic:\n",
    "        torch.backends.cudnn.benchmark = True\n",
    "\n",
    "set_random_seeds(seed=CFG.seed, deterministic=True)\n"
   ]
  },
  {
   "cell_type": "markdown",
   "id": "5cf18207",
   "metadata": {},
   "source": [
    "# 3. Weights & Biases"
   ]
  },
  {
   "cell_type": "code",
   "execution_count": 7,
   "id": "7df88fa9",
   "metadata": {},
   "outputs": [
    {
     "name": "stderr",
     "output_type": "stream",
     "text": [
      "\u001b[34m\u001b[1mwandb\u001b[0m: \u001b[33mWARNING\u001b[0m WANDB_NOTEBOOK_NAME should be a path to a notebook file, couldn't find efficientnetv2-s-meta-256-32.\n",
      "\u001b[34m\u001b[1mwandb\u001b[0m: Currently logged in as: \u001b[33mataracsia\u001b[0m to \u001b[32mhttps://api.wandb.ai\u001b[0m. Use \u001b[1m`wandb login --relogin`\u001b[0m to force relogin\n"
     ]
    },
    {
     "data": {
      "text/html": [
       "Tracking run with wandb version 0.21.1"
      ],
      "text/plain": [
       "<IPython.core.display.HTML object>"
      ]
     },
     "metadata": {},
     "output_type": "display_data"
    },
    {
     "data": {
      "text/html": [
       "Run data is saved locally in <code>c:\\Users\\emanon\\Library\\Kaggle\\rsna-intracranial-aneurysm-detection_ver2\\experiments\\wandb\\run-20250928_004839-aiirz394</code>"
      ],
      "text/plain": [
       "<IPython.core.display.HTML object>"
      ]
     },
     "metadata": {},
     "output_type": "display_data"
    },
    {
     "data": {
      "text/html": [
       "Syncing run <strong><a href='https://wandb.ai/ataracsia/RSNA-IAD/runs/aiirz394' target=\"_blank\">vague-dawn-6</a></strong> to <a href='https://wandb.ai/ataracsia/RSNA-IAD' target=\"_blank\">Weights & Biases</a> (<a href='https://wandb.me/developer-guide' target=\"_blank\">docs</a>)<br>"
      ],
      "text/plain": [
       "<IPython.core.display.HTML object>"
      ]
     },
     "metadata": {},
     "output_type": "display_data"
    },
    {
     "data": {
      "text/html": [
       " View project at <a href='https://wandb.ai/ataracsia/RSNA-IAD' target=\"_blank\">https://wandb.ai/ataracsia/RSNA-IAD</a>"
      ],
      "text/plain": [
       "<IPython.core.display.HTML object>"
      ]
     },
     "metadata": {},
     "output_type": "display_data"
    },
    {
     "data": {
      "text/html": [
       " View run at <a href='https://wandb.ai/ataracsia/RSNA-IAD/runs/aiirz394' target=\"_blank\">https://wandb.ai/ataracsia/RSNA-IAD/runs/aiirz394</a>"
      ],
      "text/plain": [
       "<IPython.core.display.HTML object>"
      ]
     },
     "metadata": {},
     "output_type": "display_data"
    },
    {
     "name": "stdout",
     "output_type": "stream",
     "text": [
      "WANDB is enabled. Run name: efficientnetv2-s-meta-256-32\n"
     ]
    }
   ],
   "source": [
    "if CFG.use_wandb:\n",
    "    os.environ['WANDB_NOTEBOOK_NAME'] = CFG.run_name\n",
    "    wandb.login()\n",
    "    run = wandb.init(**CFG.wandb_init)\n",
    "    artifact = wandb.Artifact(**CFG.artifact)\n",
    "    print(f\"WANDB is enabled. Run name: {CFG.run_name}\")\n",
    "else:\n",
    "    run = None\n",
    "    artifact = None\n",
    "    print(\"WANDB is disabled.\")\n"
   ]
  },
  {
   "cell_type": "code",
   "execution_count": 8,
   "id": "ce6b9cc2",
   "metadata": {},
   "outputs": [],
   "source": [
    "def alert_by_wandb(title='', text=''):\n",
    "    wandb.alert(title, text)\n"
   ]
  },
  {
   "cell_type": "markdown",
   "id": "0b593a9c",
   "metadata": {},
   "source": [
    "# 4. Model"
   ]
  },
  {
   "cell_type": "code",
   "execution_count": 9,
   "id": "71313d5a",
   "metadata": {},
   "outputs": [
    {
     "data": {
      "text/plain": [
       "EfficientNetV2WithMetaModel(\n",
       "  (backbone): EfficientNet(\n",
       "    (conv_stem): Conv2d(32, 24, kernel_size=(3, 3), stride=(2, 2), padding=(1, 1))\n",
       "    (bn1): BatchNormAct2d(\n",
       "      24, eps=1e-05, momentum=0.1, affine=True, track_running_stats=True\n",
       "      (drop): Identity()\n",
       "      (act): SiLU(inplace=True)\n",
       "    )\n",
       "    (blocks): Sequential(\n",
       "      (0): Sequential(\n",
       "        (0): ConvBnAct(\n",
       "          (conv): Conv2d(24, 24, kernel_size=(3, 3), stride=(1, 1), padding=(1, 1), bias=False)\n",
       "          (bn1): BatchNormAct2d(\n",
       "            24, eps=1e-05, momentum=0.1, affine=True, track_running_stats=True\n",
       "            (drop): Identity()\n",
       "            (act): SiLU(inplace=True)\n",
       "          )\n",
       "          (aa): Identity()\n",
       "          (drop_path): Identity()\n",
       "        )\n",
       "        (1): ConvBnAct(\n",
       "          (conv): Conv2d(24, 24, kernel_size=(3, 3), stride=(1, 1), padding=(1, 1), bias=False)\n",
       "          (bn1): BatchNormAct2d(\n",
       "            24, eps=1e-05, momentum=0.1, affine=True, track_running_stats=True\n",
       "            (drop): Identity()\n",
       "            (act): SiLU(inplace=True)\n",
       "          )\n",
       "          (aa): Identity()\n",
       "          (drop_path): DropPath(drop_prob=0.005)\n",
       "        )\n",
       "      )\n",
       "      (1): Sequential(\n",
       "        (0): EdgeResidual(\n",
       "          (conv_exp): Conv2d(24, 96, kernel_size=(3, 3), stride=(2, 2), padding=(1, 1), bias=False)\n",
       "          (bn1): BatchNormAct2d(\n",
       "            96, eps=1e-05, momentum=0.1, affine=True, track_running_stats=True\n",
       "            (drop): Identity()\n",
       "            (act): SiLU(inplace=True)\n",
       "          )\n",
       "          (aa): Identity()\n",
       "          (se): Identity()\n",
       "          (conv_pwl): Conv2d(96, 48, kernel_size=(1, 1), stride=(1, 1), bias=False)\n",
       "          (bn2): BatchNormAct2d(\n",
       "            48, eps=1e-05, momentum=0.1, affine=True, track_running_stats=True\n",
       "            (drop): Identity()\n",
       "            (act): Identity()\n",
       "          )\n",
       "          (drop_path): DropPath(drop_prob=0.010)\n",
       "        )\n",
       "        (1): EdgeResidual(\n",
       "          (conv_exp): Conv2d(48, 192, kernel_size=(3, 3), stride=(1, 1), padding=(1, 1), bias=False)\n",
       "          (bn1): BatchNormAct2d(\n",
       "            192, eps=1e-05, momentum=0.1, affine=True, track_running_stats=True\n",
       "            (drop): Identity()\n",
       "            (act): SiLU(inplace=True)\n",
       "          )\n",
       "          (aa): Identity()\n",
       "          (se): Identity()\n",
       "          (conv_pwl): Conv2d(192, 48, kernel_size=(1, 1), stride=(1, 1), bias=False)\n",
       "          (bn2): BatchNormAct2d(\n",
       "            48, eps=1e-05, momentum=0.1, affine=True, track_running_stats=True\n",
       "            (drop): Identity()\n",
       "            (act): Identity()\n",
       "          )\n",
       "          (drop_path): DropPath(drop_prob=0.015)\n",
       "        )\n",
       "        (2): EdgeResidual(\n",
       "          (conv_exp): Conv2d(48, 192, kernel_size=(3, 3), stride=(1, 1), padding=(1, 1), bias=False)\n",
       "          (bn1): BatchNormAct2d(\n",
       "            192, eps=1e-05, momentum=0.1, affine=True, track_running_stats=True\n",
       "            (drop): Identity()\n",
       "            (act): SiLU(inplace=True)\n",
       "          )\n",
       "          (aa): Identity()\n",
       "          (se): Identity()\n",
       "          (conv_pwl): Conv2d(192, 48, kernel_size=(1, 1), stride=(1, 1), bias=False)\n",
       "          (bn2): BatchNormAct2d(\n",
       "            48, eps=1e-05, momentum=0.1, affine=True, track_running_stats=True\n",
       "            (drop): Identity()\n",
       "            (act): Identity()\n",
       "          )\n",
       "          (drop_path): DropPath(drop_prob=0.020)\n",
       "        )\n",
       "        (3): EdgeResidual(\n",
       "          (conv_exp): Conv2d(48, 192, kernel_size=(3, 3), stride=(1, 1), padding=(1, 1), bias=False)\n",
       "          (bn1): BatchNormAct2d(\n",
       "            192, eps=1e-05, momentum=0.1, affine=True, track_running_stats=True\n",
       "            (drop): Identity()\n",
       "            (act): SiLU(inplace=True)\n",
       "          )\n",
       "          (aa): Identity()\n",
       "          (se): Identity()\n",
       "          (conv_pwl): Conv2d(192, 48, kernel_size=(1, 1), stride=(1, 1), bias=False)\n",
       "          (bn2): BatchNormAct2d(\n",
       "            48, eps=1e-05, momentum=0.1, affine=True, track_running_stats=True\n",
       "            (drop): Identity()\n",
       "            (act): Identity()\n",
       "          )\n",
       "          (drop_path): DropPath(drop_prob=0.025)\n",
       "        )\n",
       "      )\n",
       "      (2): Sequential(\n",
       "        (0): EdgeResidual(\n",
       "          (conv_exp): Conv2d(48, 192, kernel_size=(3, 3), stride=(2, 2), padding=(1, 1), bias=False)\n",
       "          (bn1): BatchNormAct2d(\n",
       "            192, eps=1e-05, momentum=0.1, affine=True, track_running_stats=True\n",
       "            (drop): Identity()\n",
       "            (act): SiLU(inplace=True)\n",
       "          )\n",
       "          (aa): Identity()\n",
       "          (se): Identity()\n",
       "          (conv_pwl): Conv2d(192, 64, kernel_size=(1, 1), stride=(1, 1), bias=False)\n",
       "          (bn2): BatchNormAct2d(\n",
       "            64, eps=1e-05, momentum=0.1, affine=True, track_running_stats=True\n",
       "            (drop): Identity()\n",
       "            (act): Identity()\n",
       "          )\n",
       "          (drop_path): DropPath(drop_prob=0.030)\n",
       "        )\n",
       "        (1): EdgeResidual(\n",
       "          (conv_exp): Conv2d(64, 256, kernel_size=(3, 3), stride=(1, 1), padding=(1, 1), bias=False)\n",
       "          (bn1): BatchNormAct2d(\n",
       "            256, eps=1e-05, momentum=0.1, affine=True, track_running_stats=True\n",
       "            (drop): Identity()\n",
       "            (act): SiLU(inplace=True)\n",
       "          )\n",
       "          (aa): Identity()\n",
       "          (se): Identity()\n",
       "          (conv_pwl): Conv2d(256, 64, kernel_size=(1, 1), stride=(1, 1), bias=False)\n",
       "          (bn2): BatchNormAct2d(\n",
       "            64, eps=1e-05, momentum=0.1, affine=True, track_running_stats=True\n",
       "            (drop): Identity()\n",
       "            (act): Identity()\n",
       "          )\n",
       "          (drop_path): DropPath(drop_prob=0.035)\n",
       "        )\n",
       "        (2): EdgeResidual(\n",
       "          (conv_exp): Conv2d(64, 256, kernel_size=(3, 3), stride=(1, 1), padding=(1, 1), bias=False)\n",
       "          (bn1): BatchNormAct2d(\n",
       "            256, eps=1e-05, momentum=0.1, affine=True, track_running_stats=True\n",
       "            (drop): Identity()\n",
       "            (act): SiLU(inplace=True)\n",
       "          )\n",
       "          (aa): Identity()\n",
       "          (se): Identity()\n",
       "          (conv_pwl): Conv2d(256, 64, kernel_size=(1, 1), stride=(1, 1), bias=False)\n",
       "          (bn2): BatchNormAct2d(\n",
       "            64, eps=1e-05, momentum=0.1, affine=True, track_running_stats=True\n",
       "            (drop): Identity()\n",
       "            (act): Identity()\n",
       "          )\n",
       "          (drop_path): DropPath(drop_prob=0.040)\n",
       "        )\n",
       "        (3): EdgeResidual(\n",
       "          (conv_exp): Conv2d(64, 256, kernel_size=(3, 3), stride=(1, 1), padding=(1, 1), bias=False)\n",
       "          (bn1): BatchNormAct2d(\n",
       "            256, eps=1e-05, momentum=0.1, affine=True, track_running_stats=True\n",
       "            (drop): Identity()\n",
       "            (act): SiLU(inplace=True)\n",
       "          )\n",
       "          (aa): Identity()\n",
       "          (se): Identity()\n",
       "          (conv_pwl): Conv2d(256, 64, kernel_size=(1, 1), stride=(1, 1), bias=False)\n",
       "          (bn2): BatchNormAct2d(\n",
       "            64, eps=1e-05, momentum=0.1, affine=True, track_running_stats=True\n",
       "            (drop): Identity()\n",
       "            (act): Identity()\n",
       "          )\n",
       "          (drop_path): DropPath(drop_prob=0.045)\n",
       "        )\n",
       "      )\n",
       "      (3): Sequential(\n",
       "        (0): InvertedResidual(\n",
       "          (conv_pw): Conv2d(64, 256, kernel_size=(1, 1), stride=(1, 1), bias=False)\n",
       "          (bn1): BatchNormAct2d(\n",
       "            256, eps=1e-05, momentum=0.1, affine=True, track_running_stats=True\n",
       "            (drop): Identity()\n",
       "            (act): SiLU(inplace=True)\n",
       "          )\n",
       "          (conv_dw): Conv2d(256, 256, kernel_size=(3, 3), stride=(2, 2), padding=(1, 1), groups=256, bias=False)\n",
       "          (bn2): BatchNormAct2d(\n",
       "            256, eps=1e-05, momentum=0.1, affine=True, track_running_stats=True\n",
       "            (drop): Identity()\n",
       "            (act): SiLU(inplace=True)\n",
       "          )\n",
       "          (aa): Identity()\n",
       "          (se): SqueezeExcite(\n",
       "            (conv_reduce): Conv2d(256, 16, kernel_size=(1, 1), stride=(1, 1))\n",
       "            (act1): SiLU(inplace=True)\n",
       "            (conv_expand): Conv2d(16, 256, kernel_size=(1, 1), stride=(1, 1))\n",
       "            (gate): Sigmoid()\n",
       "          )\n",
       "          (conv_pwl): Conv2d(256, 128, kernel_size=(1, 1), stride=(1, 1), bias=False)\n",
       "          (bn3): BatchNormAct2d(\n",
       "            128, eps=1e-05, momentum=0.1, affine=True, track_running_stats=True\n",
       "            (drop): Identity()\n",
       "            (act): Identity()\n",
       "          )\n",
       "          (drop_path): DropPath(drop_prob=0.050)\n",
       "        )\n",
       "        (1): InvertedResidual(\n",
       "          (conv_pw): Conv2d(128, 512, kernel_size=(1, 1), stride=(1, 1), bias=False)\n",
       "          (bn1): BatchNormAct2d(\n",
       "            512, eps=1e-05, momentum=0.1, affine=True, track_running_stats=True\n",
       "            (drop): Identity()\n",
       "            (act): SiLU(inplace=True)\n",
       "          )\n",
       "          (conv_dw): Conv2d(512, 512, kernel_size=(3, 3), stride=(1, 1), padding=(1, 1), groups=512, bias=False)\n",
       "          (bn2): BatchNormAct2d(\n",
       "            512, eps=1e-05, momentum=0.1, affine=True, track_running_stats=True\n",
       "            (drop): Identity()\n",
       "            (act): SiLU(inplace=True)\n",
       "          )\n",
       "          (aa): Identity()\n",
       "          (se): SqueezeExcite(\n",
       "            (conv_reduce): Conv2d(512, 32, kernel_size=(1, 1), stride=(1, 1))\n",
       "            (act1): SiLU(inplace=True)\n",
       "            (conv_expand): Conv2d(32, 512, kernel_size=(1, 1), stride=(1, 1))\n",
       "            (gate): Sigmoid()\n",
       "          )\n",
       "          (conv_pwl): Conv2d(512, 128, kernel_size=(1, 1), stride=(1, 1), bias=False)\n",
       "          (bn3): BatchNormAct2d(\n",
       "            128, eps=1e-05, momentum=0.1, affine=True, track_running_stats=True\n",
       "            (drop): Identity()\n",
       "            (act): Identity()\n",
       "          )\n",
       "          (drop_path): DropPath(drop_prob=0.055)\n",
       "        )\n",
       "        (2): InvertedResidual(\n",
       "          (conv_pw): Conv2d(128, 512, kernel_size=(1, 1), stride=(1, 1), bias=False)\n",
       "          (bn1): BatchNormAct2d(\n",
       "            512, eps=1e-05, momentum=0.1, affine=True, track_running_stats=True\n",
       "            (drop): Identity()\n",
       "            (act): SiLU(inplace=True)\n",
       "          )\n",
       "          (conv_dw): Conv2d(512, 512, kernel_size=(3, 3), stride=(1, 1), padding=(1, 1), groups=512, bias=False)\n",
       "          (bn2): BatchNormAct2d(\n",
       "            512, eps=1e-05, momentum=0.1, affine=True, track_running_stats=True\n",
       "            (drop): Identity()\n",
       "            (act): SiLU(inplace=True)\n",
       "          )\n",
       "          (aa): Identity()\n",
       "          (se): SqueezeExcite(\n",
       "            (conv_reduce): Conv2d(512, 32, kernel_size=(1, 1), stride=(1, 1))\n",
       "            (act1): SiLU(inplace=True)\n",
       "            (conv_expand): Conv2d(32, 512, kernel_size=(1, 1), stride=(1, 1))\n",
       "            (gate): Sigmoid()\n",
       "          )\n",
       "          (conv_pwl): Conv2d(512, 128, kernel_size=(1, 1), stride=(1, 1), bias=False)\n",
       "          (bn3): BatchNormAct2d(\n",
       "            128, eps=1e-05, momentum=0.1, affine=True, track_running_stats=True\n",
       "            (drop): Identity()\n",
       "            (act): Identity()\n",
       "          )\n",
       "          (drop_path): DropPath(drop_prob=0.060)\n",
       "        )\n",
       "        (3): InvertedResidual(\n",
       "          (conv_pw): Conv2d(128, 512, kernel_size=(1, 1), stride=(1, 1), bias=False)\n",
       "          (bn1): BatchNormAct2d(\n",
       "            512, eps=1e-05, momentum=0.1, affine=True, track_running_stats=True\n",
       "            (drop): Identity()\n",
       "            (act): SiLU(inplace=True)\n",
       "          )\n",
       "          (conv_dw): Conv2d(512, 512, kernel_size=(3, 3), stride=(1, 1), padding=(1, 1), groups=512, bias=False)\n",
       "          (bn2): BatchNormAct2d(\n",
       "            512, eps=1e-05, momentum=0.1, affine=True, track_running_stats=True\n",
       "            (drop): Identity()\n",
       "            (act): SiLU(inplace=True)\n",
       "          )\n",
       "          (aa): Identity()\n",
       "          (se): SqueezeExcite(\n",
       "            (conv_reduce): Conv2d(512, 32, kernel_size=(1, 1), stride=(1, 1))\n",
       "            (act1): SiLU(inplace=True)\n",
       "            (conv_expand): Conv2d(32, 512, kernel_size=(1, 1), stride=(1, 1))\n",
       "            (gate): Sigmoid()\n",
       "          )\n",
       "          (conv_pwl): Conv2d(512, 128, kernel_size=(1, 1), stride=(1, 1), bias=False)\n",
       "          (bn3): BatchNormAct2d(\n",
       "            128, eps=1e-05, momentum=0.1, affine=True, track_running_stats=True\n",
       "            (drop): Identity()\n",
       "            (act): Identity()\n",
       "          )\n",
       "          (drop_path): DropPath(drop_prob=0.065)\n",
       "        )\n",
       "        (4): InvertedResidual(\n",
       "          (conv_pw): Conv2d(128, 512, kernel_size=(1, 1), stride=(1, 1), bias=False)\n",
       "          (bn1): BatchNormAct2d(\n",
       "            512, eps=1e-05, momentum=0.1, affine=True, track_running_stats=True\n",
       "            (drop): Identity()\n",
       "            (act): SiLU(inplace=True)\n",
       "          )\n",
       "          (conv_dw): Conv2d(512, 512, kernel_size=(3, 3), stride=(1, 1), padding=(1, 1), groups=512, bias=False)\n",
       "          (bn2): BatchNormAct2d(\n",
       "            512, eps=1e-05, momentum=0.1, affine=True, track_running_stats=True\n",
       "            (drop): Identity()\n",
       "            (act): SiLU(inplace=True)\n",
       "          )\n",
       "          (aa): Identity()\n",
       "          (se): SqueezeExcite(\n",
       "            (conv_reduce): Conv2d(512, 32, kernel_size=(1, 1), stride=(1, 1))\n",
       "            (act1): SiLU(inplace=True)\n",
       "            (conv_expand): Conv2d(32, 512, kernel_size=(1, 1), stride=(1, 1))\n",
       "            (gate): Sigmoid()\n",
       "          )\n",
       "          (conv_pwl): Conv2d(512, 128, kernel_size=(1, 1), stride=(1, 1), bias=False)\n",
       "          (bn3): BatchNormAct2d(\n",
       "            128, eps=1e-05, momentum=0.1, affine=True, track_running_stats=True\n",
       "            (drop): Identity()\n",
       "            (act): Identity()\n",
       "          )\n",
       "          (drop_path): DropPath(drop_prob=0.070)\n",
       "        )\n",
       "        (5): InvertedResidual(\n",
       "          (conv_pw): Conv2d(128, 512, kernel_size=(1, 1), stride=(1, 1), bias=False)\n",
       "          (bn1): BatchNormAct2d(\n",
       "            512, eps=1e-05, momentum=0.1, affine=True, track_running_stats=True\n",
       "            (drop): Identity()\n",
       "            (act): SiLU(inplace=True)\n",
       "          )\n",
       "          (conv_dw): Conv2d(512, 512, kernel_size=(3, 3), stride=(1, 1), padding=(1, 1), groups=512, bias=False)\n",
       "          (bn2): BatchNormAct2d(\n",
       "            512, eps=1e-05, momentum=0.1, affine=True, track_running_stats=True\n",
       "            (drop): Identity()\n",
       "            (act): SiLU(inplace=True)\n",
       "          )\n",
       "          (aa): Identity()\n",
       "          (se): SqueezeExcite(\n",
       "            (conv_reduce): Conv2d(512, 32, kernel_size=(1, 1), stride=(1, 1))\n",
       "            (act1): SiLU(inplace=True)\n",
       "            (conv_expand): Conv2d(32, 512, kernel_size=(1, 1), stride=(1, 1))\n",
       "            (gate): Sigmoid()\n",
       "          )\n",
       "          (conv_pwl): Conv2d(512, 128, kernel_size=(1, 1), stride=(1, 1), bias=False)\n",
       "          (bn3): BatchNormAct2d(\n",
       "            128, eps=1e-05, momentum=0.1, affine=True, track_running_stats=True\n",
       "            (drop): Identity()\n",
       "            (act): Identity()\n",
       "          )\n",
       "          (drop_path): DropPath(drop_prob=0.075)\n",
       "        )\n",
       "      )\n",
       "      (4): Sequential(\n",
       "        (0): InvertedResidual(\n",
       "          (conv_pw): Conv2d(128, 768, kernel_size=(1, 1), stride=(1, 1), bias=False)\n",
       "          (bn1): BatchNormAct2d(\n",
       "            768, eps=1e-05, momentum=0.1, affine=True, track_running_stats=True\n",
       "            (drop): Identity()\n",
       "            (act): SiLU(inplace=True)\n",
       "          )\n",
       "          (conv_dw): Conv2d(768, 768, kernel_size=(3, 3), stride=(1, 1), padding=(1, 1), groups=768, bias=False)\n",
       "          (bn2): BatchNormAct2d(\n",
       "            768, eps=1e-05, momentum=0.1, affine=True, track_running_stats=True\n",
       "            (drop): Identity()\n",
       "            (act): SiLU(inplace=True)\n",
       "          )\n",
       "          (aa): Identity()\n",
       "          (se): SqueezeExcite(\n",
       "            (conv_reduce): Conv2d(768, 32, kernel_size=(1, 1), stride=(1, 1))\n",
       "            (act1): SiLU(inplace=True)\n",
       "            (conv_expand): Conv2d(32, 768, kernel_size=(1, 1), stride=(1, 1))\n",
       "            (gate): Sigmoid()\n",
       "          )\n",
       "          (conv_pwl): Conv2d(768, 160, kernel_size=(1, 1), stride=(1, 1), bias=False)\n",
       "          (bn3): BatchNormAct2d(\n",
       "            160, eps=1e-05, momentum=0.1, affine=True, track_running_stats=True\n",
       "            (drop): Identity()\n",
       "            (act): Identity()\n",
       "          )\n",
       "          (drop_path): DropPath(drop_prob=0.080)\n",
       "        )\n",
       "        (1): InvertedResidual(\n",
       "          (conv_pw): Conv2d(160, 960, kernel_size=(1, 1), stride=(1, 1), bias=False)\n",
       "          (bn1): BatchNormAct2d(\n",
       "            960, eps=1e-05, momentum=0.1, affine=True, track_running_stats=True\n",
       "            (drop): Identity()\n",
       "            (act): SiLU(inplace=True)\n",
       "          )\n",
       "          (conv_dw): Conv2d(960, 960, kernel_size=(3, 3), stride=(1, 1), padding=(1, 1), groups=960, bias=False)\n",
       "          (bn2): BatchNormAct2d(\n",
       "            960, eps=1e-05, momentum=0.1, affine=True, track_running_stats=True\n",
       "            (drop): Identity()\n",
       "            (act): SiLU(inplace=True)\n",
       "          )\n",
       "          (aa): Identity()\n",
       "          (se): SqueezeExcite(\n",
       "            (conv_reduce): Conv2d(960, 40, kernel_size=(1, 1), stride=(1, 1))\n",
       "            (act1): SiLU(inplace=True)\n",
       "            (conv_expand): Conv2d(40, 960, kernel_size=(1, 1), stride=(1, 1))\n",
       "            (gate): Sigmoid()\n",
       "          )\n",
       "          (conv_pwl): Conv2d(960, 160, kernel_size=(1, 1), stride=(1, 1), bias=False)\n",
       "          (bn3): BatchNormAct2d(\n",
       "            160, eps=1e-05, momentum=0.1, affine=True, track_running_stats=True\n",
       "            (drop): Identity()\n",
       "            (act): Identity()\n",
       "          )\n",
       "          (drop_path): DropPath(drop_prob=0.085)\n",
       "        )\n",
       "        (2): InvertedResidual(\n",
       "          (conv_pw): Conv2d(160, 960, kernel_size=(1, 1), stride=(1, 1), bias=False)\n",
       "          (bn1): BatchNormAct2d(\n",
       "            960, eps=1e-05, momentum=0.1, affine=True, track_running_stats=True\n",
       "            (drop): Identity()\n",
       "            (act): SiLU(inplace=True)\n",
       "          )\n",
       "          (conv_dw): Conv2d(960, 960, kernel_size=(3, 3), stride=(1, 1), padding=(1, 1), groups=960, bias=False)\n",
       "          (bn2): BatchNormAct2d(\n",
       "            960, eps=1e-05, momentum=0.1, affine=True, track_running_stats=True\n",
       "            (drop): Identity()\n",
       "            (act): SiLU(inplace=True)\n",
       "          )\n",
       "          (aa): Identity()\n",
       "          (se): SqueezeExcite(\n",
       "            (conv_reduce): Conv2d(960, 40, kernel_size=(1, 1), stride=(1, 1))\n",
       "            (act1): SiLU(inplace=True)\n",
       "            (conv_expand): Conv2d(40, 960, kernel_size=(1, 1), stride=(1, 1))\n",
       "            (gate): Sigmoid()\n",
       "          )\n",
       "          (conv_pwl): Conv2d(960, 160, kernel_size=(1, 1), stride=(1, 1), bias=False)\n",
       "          (bn3): BatchNormAct2d(\n",
       "            160, eps=1e-05, momentum=0.1, affine=True, track_running_stats=True\n",
       "            (drop): Identity()\n",
       "            (act): Identity()\n",
       "          )\n",
       "          (drop_path): DropPath(drop_prob=0.090)\n",
       "        )\n",
       "        (3): InvertedResidual(\n",
       "          (conv_pw): Conv2d(160, 960, kernel_size=(1, 1), stride=(1, 1), bias=False)\n",
       "          (bn1): BatchNormAct2d(\n",
       "            960, eps=1e-05, momentum=0.1, affine=True, track_running_stats=True\n",
       "            (drop): Identity()\n",
       "            (act): SiLU(inplace=True)\n",
       "          )\n",
       "          (conv_dw): Conv2d(960, 960, kernel_size=(3, 3), stride=(1, 1), padding=(1, 1), groups=960, bias=False)\n",
       "          (bn2): BatchNormAct2d(\n",
       "            960, eps=1e-05, momentum=0.1, affine=True, track_running_stats=True\n",
       "            (drop): Identity()\n",
       "            (act): SiLU(inplace=True)\n",
       "          )\n",
       "          (aa): Identity()\n",
       "          (se): SqueezeExcite(\n",
       "            (conv_reduce): Conv2d(960, 40, kernel_size=(1, 1), stride=(1, 1))\n",
       "            (act1): SiLU(inplace=True)\n",
       "            (conv_expand): Conv2d(40, 960, kernel_size=(1, 1), stride=(1, 1))\n",
       "            (gate): Sigmoid()\n",
       "          )\n",
       "          (conv_pwl): Conv2d(960, 160, kernel_size=(1, 1), stride=(1, 1), bias=False)\n",
       "          (bn3): BatchNormAct2d(\n",
       "            160, eps=1e-05, momentum=0.1, affine=True, track_running_stats=True\n",
       "            (drop): Identity()\n",
       "            (act): Identity()\n",
       "          )\n",
       "          (drop_path): DropPath(drop_prob=0.095)\n",
       "        )\n",
       "        (4): InvertedResidual(\n",
       "          (conv_pw): Conv2d(160, 960, kernel_size=(1, 1), stride=(1, 1), bias=False)\n",
       "          (bn1): BatchNormAct2d(\n",
       "            960, eps=1e-05, momentum=0.1, affine=True, track_running_stats=True\n",
       "            (drop): Identity()\n",
       "            (act): SiLU(inplace=True)\n",
       "          )\n",
       "          (conv_dw): Conv2d(960, 960, kernel_size=(3, 3), stride=(1, 1), padding=(1, 1), groups=960, bias=False)\n",
       "          (bn2): BatchNormAct2d(\n",
       "            960, eps=1e-05, momentum=0.1, affine=True, track_running_stats=True\n",
       "            (drop): Identity()\n",
       "            (act): SiLU(inplace=True)\n",
       "          )\n",
       "          (aa): Identity()\n",
       "          (se): SqueezeExcite(\n",
       "            (conv_reduce): Conv2d(960, 40, kernel_size=(1, 1), stride=(1, 1))\n",
       "            (act1): SiLU(inplace=True)\n",
       "            (conv_expand): Conv2d(40, 960, kernel_size=(1, 1), stride=(1, 1))\n",
       "            (gate): Sigmoid()\n",
       "          )\n",
       "          (conv_pwl): Conv2d(960, 160, kernel_size=(1, 1), stride=(1, 1), bias=False)\n",
       "          (bn3): BatchNormAct2d(\n",
       "            160, eps=1e-05, momentum=0.1, affine=True, track_running_stats=True\n",
       "            (drop): Identity()\n",
       "            (act): Identity()\n",
       "          )\n",
       "          (drop_path): DropPath(drop_prob=0.100)\n",
       "        )\n",
       "        (5): InvertedResidual(\n",
       "          (conv_pw): Conv2d(160, 960, kernel_size=(1, 1), stride=(1, 1), bias=False)\n",
       "          (bn1): BatchNormAct2d(\n",
       "            960, eps=1e-05, momentum=0.1, affine=True, track_running_stats=True\n",
       "            (drop): Identity()\n",
       "            (act): SiLU(inplace=True)\n",
       "          )\n",
       "          (conv_dw): Conv2d(960, 960, kernel_size=(3, 3), stride=(1, 1), padding=(1, 1), groups=960, bias=False)\n",
       "          (bn2): BatchNormAct2d(\n",
       "            960, eps=1e-05, momentum=0.1, affine=True, track_running_stats=True\n",
       "            (drop): Identity()\n",
       "            (act): SiLU(inplace=True)\n",
       "          )\n",
       "          (aa): Identity()\n",
       "          (se): SqueezeExcite(\n",
       "            (conv_reduce): Conv2d(960, 40, kernel_size=(1, 1), stride=(1, 1))\n",
       "            (act1): SiLU(inplace=True)\n",
       "            (conv_expand): Conv2d(40, 960, kernel_size=(1, 1), stride=(1, 1))\n",
       "            (gate): Sigmoid()\n",
       "          )\n",
       "          (conv_pwl): Conv2d(960, 160, kernel_size=(1, 1), stride=(1, 1), bias=False)\n",
       "          (bn3): BatchNormAct2d(\n",
       "            160, eps=1e-05, momentum=0.1, affine=True, track_running_stats=True\n",
       "            (drop): Identity()\n",
       "            (act): Identity()\n",
       "          )\n",
       "          (drop_path): DropPath(drop_prob=0.105)\n",
       "        )\n",
       "        (6): InvertedResidual(\n",
       "          (conv_pw): Conv2d(160, 960, kernel_size=(1, 1), stride=(1, 1), bias=False)\n",
       "          (bn1): BatchNormAct2d(\n",
       "            960, eps=1e-05, momentum=0.1, affine=True, track_running_stats=True\n",
       "            (drop): Identity()\n",
       "            (act): SiLU(inplace=True)\n",
       "          )\n",
       "          (conv_dw): Conv2d(960, 960, kernel_size=(3, 3), stride=(1, 1), padding=(1, 1), groups=960, bias=False)\n",
       "          (bn2): BatchNormAct2d(\n",
       "            960, eps=1e-05, momentum=0.1, affine=True, track_running_stats=True\n",
       "            (drop): Identity()\n",
       "            (act): SiLU(inplace=True)\n",
       "          )\n",
       "          (aa): Identity()\n",
       "          (se): SqueezeExcite(\n",
       "            (conv_reduce): Conv2d(960, 40, kernel_size=(1, 1), stride=(1, 1))\n",
       "            (act1): SiLU(inplace=True)\n",
       "            (conv_expand): Conv2d(40, 960, kernel_size=(1, 1), stride=(1, 1))\n",
       "            (gate): Sigmoid()\n",
       "          )\n",
       "          (conv_pwl): Conv2d(960, 160, kernel_size=(1, 1), stride=(1, 1), bias=False)\n",
       "          (bn3): BatchNormAct2d(\n",
       "            160, eps=1e-05, momentum=0.1, affine=True, track_running_stats=True\n",
       "            (drop): Identity()\n",
       "            (act): Identity()\n",
       "          )\n",
       "          (drop_path): DropPath(drop_prob=0.110)\n",
       "        )\n",
       "        (7): InvertedResidual(\n",
       "          (conv_pw): Conv2d(160, 960, kernel_size=(1, 1), stride=(1, 1), bias=False)\n",
       "          (bn1): BatchNormAct2d(\n",
       "            960, eps=1e-05, momentum=0.1, affine=True, track_running_stats=True\n",
       "            (drop): Identity()\n",
       "            (act): SiLU(inplace=True)\n",
       "          )\n",
       "          (conv_dw): Conv2d(960, 960, kernel_size=(3, 3), stride=(1, 1), padding=(1, 1), groups=960, bias=False)\n",
       "          (bn2): BatchNormAct2d(\n",
       "            960, eps=1e-05, momentum=0.1, affine=True, track_running_stats=True\n",
       "            (drop): Identity()\n",
       "            (act): SiLU(inplace=True)\n",
       "          )\n",
       "          (aa): Identity()\n",
       "          (se): SqueezeExcite(\n",
       "            (conv_reduce): Conv2d(960, 40, kernel_size=(1, 1), stride=(1, 1))\n",
       "            (act1): SiLU(inplace=True)\n",
       "            (conv_expand): Conv2d(40, 960, kernel_size=(1, 1), stride=(1, 1))\n",
       "            (gate): Sigmoid()\n",
       "          )\n",
       "          (conv_pwl): Conv2d(960, 160, kernel_size=(1, 1), stride=(1, 1), bias=False)\n",
       "          (bn3): BatchNormAct2d(\n",
       "            160, eps=1e-05, momentum=0.1, affine=True, track_running_stats=True\n",
       "            (drop): Identity()\n",
       "            (act): Identity()\n",
       "          )\n",
       "          (drop_path): DropPath(drop_prob=0.115)\n",
       "        )\n",
       "        (8): InvertedResidual(\n",
       "          (conv_pw): Conv2d(160, 960, kernel_size=(1, 1), stride=(1, 1), bias=False)\n",
       "          (bn1): BatchNormAct2d(\n",
       "            960, eps=1e-05, momentum=0.1, affine=True, track_running_stats=True\n",
       "            (drop): Identity()\n",
       "            (act): SiLU(inplace=True)\n",
       "          )\n",
       "          (conv_dw): Conv2d(960, 960, kernel_size=(3, 3), stride=(1, 1), padding=(1, 1), groups=960, bias=False)\n",
       "          (bn2): BatchNormAct2d(\n",
       "            960, eps=1e-05, momentum=0.1, affine=True, track_running_stats=True\n",
       "            (drop): Identity()\n",
       "            (act): SiLU(inplace=True)\n",
       "          )\n",
       "          (aa): Identity()\n",
       "          (se): SqueezeExcite(\n",
       "            (conv_reduce): Conv2d(960, 40, kernel_size=(1, 1), stride=(1, 1))\n",
       "            (act1): SiLU(inplace=True)\n",
       "            (conv_expand): Conv2d(40, 960, kernel_size=(1, 1), stride=(1, 1))\n",
       "            (gate): Sigmoid()\n",
       "          )\n",
       "          (conv_pwl): Conv2d(960, 160, kernel_size=(1, 1), stride=(1, 1), bias=False)\n",
       "          (bn3): BatchNormAct2d(\n",
       "            160, eps=1e-05, momentum=0.1, affine=True, track_running_stats=True\n",
       "            (drop): Identity()\n",
       "            (act): Identity()\n",
       "          )\n",
       "          (drop_path): DropPath(drop_prob=0.120)\n",
       "        )\n",
       "      )\n",
       "      (5): Sequential(\n",
       "        (0): InvertedResidual(\n",
       "          (conv_pw): Conv2d(160, 960, kernel_size=(1, 1), stride=(1, 1), bias=False)\n",
       "          (bn1): BatchNormAct2d(\n",
       "            960, eps=1e-05, momentum=0.1, affine=True, track_running_stats=True\n",
       "            (drop): Identity()\n",
       "            (act): SiLU(inplace=True)\n",
       "          )\n",
       "          (conv_dw): Conv2d(960, 960, kernel_size=(3, 3), stride=(2, 2), padding=(1, 1), groups=960, bias=False)\n",
       "          (bn2): BatchNormAct2d(\n",
       "            960, eps=1e-05, momentum=0.1, affine=True, track_running_stats=True\n",
       "            (drop): Identity()\n",
       "            (act): SiLU(inplace=True)\n",
       "          )\n",
       "          (aa): Identity()\n",
       "          (se): SqueezeExcite(\n",
       "            (conv_reduce): Conv2d(960, 40, kernel_size=(1, 1), stride=(1, 1))\n",
       "            (act1): SiLU(inplace=True)\n",
       "            (conv_expand): Conv2d(40, 960, kernel_size=(1, 1), stride=(1, 1))\n",
       "            (gate): Sigmoid()\n",
       "          )\n",
       "          (conv_pwl): Conv2d(960, 256, kernel_size=(1, 1), stride=(1, 1), bias=False)\n",
       "          (bn3): BatchNormAct2d(\n",
       "            256, eps=1e-05, momentum=0.1, affine=True, track_running_stats=True\n",
       "            (drop): Identity()\n",
       "            (act): Identity()\n",
       "          )\n",
       "          (drop_path): DropPath(drop_prob=0.125)\n",
       "        )\n",
       "        (1): InvertedResidual(\n",
       "          (conv_pw): Conv2d(256, 1536, kernel_size=(1, 1), stride=(1, 1), bias=False)\n",
       "          (bn1): BatchNormAct2d(\n",
       "            1536, eps=1e-05, momentum=0.1, affine=True, track_running_stats=True\n",
       "            (drop): Identity()\n",
       "            (act): SiLU(inplace=True)\n",
       "          )\n",
       "          (conv_dw): Conv2d(1536, 1536, kernel_size=(3, 3), stride=(1, 1), padding=(1, 1), groups=1536, bias=False)\n",
       "          (bn2): BatchNormAct2d(\n",
       "            1536, eps=1e-05, momentum=0.1, affine=True, track_running_stats=True\n",
       "            (drop): Identity()\n",
       "            (act): SiLU(inplace=True)\n",
       "          )\n",
       "          (aa): Identity()\n",
       "          (se): SqueezeExcite(\n",
       "            (conv_reduce): Conv2d(1536, 64, kernel_size=(1, 1), stride=(1, 1))\n",
       "            (act1): SiLU(inplace=True)\n",
       "            (conv_expand): Conv2d(64, 1536, kernel_size=(1, 1), stride=(1, 1))\n",
       "            (gate): Sigmoid()\n",
       "          )\n",
       "          (conv_pwl): Conv2d(1536, 256, kernel_size=(1, 1), stride=(1, 1), bias=False)\n",
       "          (bn3): BatchNormAct2d(\n",
       "            256, eps=1e-05, momentum=0.1, affine=True, track_running_stats=True\n",
       "            (drop): Identity()\n",
       "            (act): Identity()\n",
       "          )\n",
       "          (drop_path): DropPath(drop_prob=0.130)\n",
       "        )\n",
       "        (2): InvertedResidual(\n",
       "          (conv_pw): Conv2d(256, 1536, kernel_size=(1, 1), stride=(1, 1), bias=False)\n",
       "          (bn1): BatchNormAct2d(\n",
       "            1536, eps=1e-05, momentum=0.1, affine=True, track_running_stats=True\n",
       "            (drop): Identity()\n",
       "            (act): SiLU(inplace=True)\n",
       "          )\n",
       "          (conv_dw): Conv2d(1536, 1536, kernel_size=(3, 3), stride=(1, 1), padding=(1, 1), groups=1536, bias=False)\n",
       "          (bn2): BatchNormAct2d(\n",
       "            1536, eps=1e-05, momentum=0.1, affine=True, track_running_stats=True\n",
       "            (drop): Identity()\n",
       "            (act): SiLU(inplace=True)\n",
       "          )\n",
       "          (aa): Identity()\n",
       "          (se): SqueezeExcite(\n",
       "            (conv_reduce): Conv2d(1536, 64, kernel_size=(1, 1), stride=(1, 1))\n",
       "            (act1): SiLU(inplace=True)\n",
       "            (conv_expand): Conv2d(64, 1536, kernel_size=(1, 1), stride=(1, 1))\n",
       "            (gate): Sigmoid()\n",
       "          )\n",
       "          (conv_pwl): Conv2d(1536, 256, kernel_size=(1, 1), stride=(1, 1), bias=False)\n",
       "          (bn3): BatchNormAct2d(\n",
       "            256, eps=1e-05, momentum=0.1, affine=True, track_running_stats=True\n",
       "            (drop): Identity()\n",
       "            (act): Identity()\n",
       "          )\n",
       "          (drop_path): DropPath(drop_prob=0.135)\n",
       "        )\n",
       "        (3): InvertedResidual(\n",
       "          (conv_pw): Conv2d(256, 1536, kernel_size=(1, 1), stride=(1, 1), bias=False)\n",
       "          (bn1): BatchNormAct2d(\n",
       "            1536, eps=1e-05, momentum=0.1, affine=True, track_running_stats=True\n",
       "            (drop): Identity()\n",
       "            (act): SiLU(inplace=True)\n",
       "          )\n",
       "          (conv_dw): Conv2d(1536, 1536, kernel_size=(3, 3), stride=(1, 1), padding=(1, 1), groups=1536, bias=False)\n",
       "          (bn2): BatchNormAct2d(\n",
       "            1536, eps=1e-05, momentum=0.1, affine=True, track_running_stats=True\n",
       "            (drop): Identity()\n",
       "            (act): SiLU(inplace=True)\n",
       "          )\n",
       "          (aa): Identity()\n",
       "          (se): SqueezeExcite(\n",
       "            (conv_reduce): Conv2d(1536, 64, kernel_size=(1, 1), stride=(1, 1))\n",
       "            (act1): SiLU(inplace=True)\n",
       "            (conv_expand): Conv2d(64, 1536, kernel_size=(1, 1), stride=(1, 1))\n",
       "            (gate): Sigmoid()\n",
       "          )\n",
       "          (conv_pwl): Conv2d(1536, 256, kernel_size=(1, 1), stride=(1, 1), bias=False)\n",
       "          (bn3): BatchNormAct2d(\n",
       "            256, eps=1e-05, momentum=0.1, affine=True, track_running_stats=True\n",
       "            (drop): Identity()\n",
       "            (act): Identity()\n",
       "          )\n",
       "          (drop_path): DropPath(drop_prob=0.140)\n",
       "        )\n",
       "        (4): InvertedResidual(\n",
       "          (conv_pw): Conv2d(256, 1536, kernel_size=(1, 1), stride=(1, 1), bias=False)\n",
       "          (bn1): BatchNormAct2d(\n",
       "            1536, eps=1e-05, momentum=0.1, affine=True, track_running_stats=True\n",
       "            (drop): Identity()\n",
       "            (act): SiLU(inplace=True)\n",
       "          )\n",
       "          (conv_dw): Conv2d(1536, 1536, kernel_size=(3, 3), stride=(1, 1), padding=(1, 1), groups=1536, bias=False)\n",
       "          (bn2): BatchNormAct2d(\n",
       "            1536, eps=1e-05, momentum=0.1, affine=True, track_running_stats=True\n",
       "            (drop): Identity()\n",
       "            (act): SiLU(inplace=True)\n",
       "          )\n",
       "          (aa): Identity()\n",
       "          (se): SqueezeExcite(\n",
       "            (conv_reduce): Conv2d(1536, 64, kernel_size=(1, 1), stride=(1, 1))\n",
       "            (act1): SiLU(inplace=True)\n",
       "            (conv_expand): Conv2d(64, 1536, kernel_size=(1, 1), stride=(1, 1))\n",
       "            (gate): Sigmoid()\n",
       "          )\n",
       "          (conv_pwl): Conv2d(1536, 256, kernel_size=(1, 1), stride=(1, 1), bias=False)\n",
       "          (bn3): BatchNormAct2d(\n",
       "            256, eps=1e-05, momentum=0.1, affine=True, track_running_stats=True\n",
       "            (drop): Identity()\n",
       "            (act): Identity()\n",
       "          )\n",
       "          (drop_path): DropPath(drop_prob=0.145)\n",
       "        )\n",
       "        (5): InvertedResidual(\n",
       "          (conv_pw): Conv2d(256, 1536, kernel_size=(1, 1), stride=(1, 1), bias=False)\n",
       "          (bn1): BatchNormAct2d(\n",
       "            1536, eps=1e-05, momentum=0.1, affine=True, track_running_stats=True\n",
       "            (drop): Identity()\n",
       "            (act): SiLU(inplace=True)\n",
       "          )\n",
       "          (conv_dw): Conv2d(1536, 1536, kernel_size=(3, 3), stride=(1, 1), padding=(1, 1), groups=1536, bias=False)\n",
       "          (bn2): BatchNormAct2d(\n",
       "            1536, eps=1e-05, momentum=0.1, affine=True, track_running_stats=True\n",
       "            (drop): Identity()\n",
       "            (act): SiLU(inplace=True)\n",
       "          )\n",
       "          (aa): Identity()\n",
       "          (se): SqueezeExcite(\n",
       "            (conv_reduce): Conv2d(1536, 64, kernel_size=(1, 1), stride=(1, 1))\n",
       "            (act1): SiLU(inplace=True)\n",
       "            (conv_expand): Conv2d(64, 1536, kernel_size=(1, 1), stride=(1, 1))\n",
       "            (gate): Sigmoid()\n",
       "          )\n",
       "          (conv_pwl): Conv2d(1536, 256, kernel_size=(1, 1), stride=(1, 1), bias=False)\n",
       "          (bn3): BatchNormAct2d(\n",
       "            256, eps=1e-05, momentum=0.1, affine=True, track_running_stats=True\n",
       "            (drop): Identity()\n",
       "            (act): Identity()\n",
       "          )\n",
       "          (drop_path): DropPath(drop_prob=0.150)\n",
       "        )\n",
       "        (6): InvertedResidual(\n",
       "          (conv_pw): Conv2d(256, 1536, kernel_size=(1, 1), stride=(1, 1), bias=False)\n",
       "          (bn1): BatchNormAct2d(\n",
       "            1536, eps=1e-05, momentum=0.1, affine=True, track_running_stats=True\n",
       "            (drop): Identity()\n",
       "            (act): SiLU(inplace=True)\n",
       "          )\n",
       "          (conv_dw): Conv2d(1536, 1536, kernel_size=(3, 3), stride=(1, 1), padding=(1, 1), groups=1536, bias=False)\n",
       "          (bn2): BatchNormAct2d(\n",
       "            1536, eps=1e-05, momentum=0.1, affine=True, track_running_stats=True\n",
       "            (drop): Identity()\n",
       "            (act): SiLU(inplace=True)\n",
       "          )\n",
       "          (aa): Identity()\n",
       "          (se): SqueezeExcite(\n",
       "            (conv_reduce): Conv2d(1536, 64, kernel_size=(1, 1), stride=(1, 1))\n",
       "            (act1): SiLU(inplace=True)\n",
       "            (conv_expand): Conv2d(64, 1536, kernel_size=(1, 1), stride=(1, 1))\n",
       "            (gate): Sigmoid()\n",
       "          )\n",
       "          (conv_pwl): Conv2d(1536, 256, kernel_size=(1, 1), stride=(1, 1), bias=False)\n",
       "          (bn3): BatchNormAct2d(\n",
       "            256, eps=1e-05, momentum=0.1, affine=True, track_running_stats=True\n",
       "            (drop): Identity()\n",
       "            (act): Identity()\n",
       "          )\n",
       "          (drop_path): DropPath(drop_prob=0.155)\n",
       "        )\n",
       "        (7): InvertedResidual(\n",
       "          (conv_pw): Conv2d(256, 1536, kernel_size=(1, 1), stride=(1, 1), bias=False)\n",
       "          (bn1): BatchNormAct2d(\n",
       "            1536, eps=1e-05, momentum=0.1, affine=True, track_running_stats=True\n",
       "            (drop): Identity()\n",
       "            (act): SiLU(inplace=True)\n",
       "          )\n",
       "          (conv_dw): Conv2d(1536, 1536, kernel_size=(3, 3), stride=(1, 1), padding=(1, 1), groups=1536, bias=False)\n",
       "          (bn2): BatchNormAct2d(\n",
       "            1536, eps=1e-05, momentum=0.1, affine=True, track_running_stats=True\n",
       "            (drop): Identity()\n",
       "            (act): SiLU(inplace=True)\n",
       "          )\n",
       "          (aa): Identity()\n",
       "          (se): SqueezeExcite(\n",
       "            (conv_reduce): Conv2d(1536, 64, kernel_size=(1, 1), stride=(1, 1))\n",
       "            (act1): SiLU(inplace=True)\n",
       "            (conv_expand): Conv2d(64, 1536, kernel_size=(1, 1), stride=(1, 1))\n",
       "            (gate): Sigmoid()\n",
       "          )\n",
       "          (conv_pwl): Conv2d(1536, 256, kernel_size=(1, 1), stride=(1, 1), bias=False)\n",
       "          (bn3): BatchNormAct2d(\n",
       "            256, eps=1e-05, momentum=0.1, affine=True, track_running_stats=True\n",
       "            (drop): Identity()\n",
       "            (act): Identity()\n",
       "          )\n",
       "          (drop_path): DropPath(drop_prob=0.160)\n",
       "        )\n",
       "        (8): InvertedResidual(\n",
       "          (conv_pw): Conv2d(256, 1536, kernel_size=(1, 1), stride=(1, 1), bias=False)\n",
       "          (bn1): BatchNormAct2d(\n",
       "            1536, eps=1e-05, momentum=0.1, affine=True, track_running_stats=True\n",
       "            (drop): Identity()\n",
       "            (act): SiLU(inplace=True)\n",
       "          )\n",
       "          (conv_dw): Conv2d(1536, 1536, kernel_size=(3, 3), stride=(1, 1), padding=(1, 1), groups=1536, bias=False)\n",
       "          (bn2): BatchNormAct2d(\n",
       "            1536, eps=1e-05, momentum=0.1, affine=True, track_running_stats=True\n",
       "            (drop): Identity()\n",
       "            (act): SiLU(inplace=True)\n",
       "          )\n",
       "          (aa): Identity()\n",
       "          (se): SqueezeExcite(\n",
       "            (conv_reduce): Conv2d(1536, 64, kernel_size=(1, 1), stride=(1, 1))\n",
       "            (act1): SiLU(inplace=True)\n",
       "            (conv_expand): Conv2d(64, 1536, kernel_size=(1, 1), stride=(1, 1))\n",
       "            (gate): Sigmoid()\n",
       "          )\n",
       "          (conv_pwl): Conv2d(1536, 256, kernel_size=(1, 1), stride=(1, 1), bias=False)\n",
       "          (bn3): BatchNormAct2d(\n",
       "            256, eps=1e-05, momentum=0.1, affine=True, track_running_stats=True\n",
       "            (drop): Identity()\n",
       "            (act): Identity()\n",
       "          )\n",
       "          (drop_path): DropPath(drop_prob=0.165)\n",
       "        )\n",
       "        (9): InvertedResidual(\n",
       "          (conv_pw): Conv2d(256, 1536, kernel_size=(1, 1), stride=(1, 1), bias=False)\n",
       "          (bn1): BatchNormAct2d(\n",
       "            1536, eps=1e-05, momentum=0.1, affine=True, track_running_stats=True\n",
       "            (drop): Identity()\n",
       "            (act): SiLU(inplace=True)\n",
       "          )\n",
       "          (conv_dw): Conv2d(1536, 1536, kernel_size=(3, 3), stride=(1, 1), padding=(1, 1), groups=1536, bias=False)\n",
       "          (bn2): BatchNormAct2d(\n",
       "            1536, eps=1e-05, momentum=0.1, affine=True, track_running_stats=True\n",
       "            (drop): Identity()\n",
       "            (act): SiLU(inplace=True)\n",
       "          )\n",
       "          (aa): Identity()\n",
       "          (se): SqueezeExcite(\n",
       "            (conv_reduce): Conv2d(1536, 64, kernel_size=(1, 1), stride=(1, 1))\n",
       "            (act1): SiLU(inplace=True)\n",
       "            (conv_expand): Conv2d(64, 1536, kernel_size=(1, 1), stride=(1, 1))\n",
       "            (gate): Sigmoid()\n",
       "          )\n",
       "          (conv_pwl): Conv2d(1536, 256, kernel_size=(1, 1), stride=(1, 1), bias=False)\n",
       "          (bn3): BatchNormAct2d(\n",
       "            256, eps=1e-05, momentum=0.1, affine=True, track_running_stats=True\n",
       "            (drop): Identity()\n",
       "            (act): Identity()\n",
       "          )\n",
       "          (drop_path): DropPath(drop_prob=0.170)\n",
       "        )\n",
       "        (10): InvertedResidual(\n",
       "          (conv_pw): Conv2d(256, 1536, kernel_size=(1, 1), stride=(1, 1), bias=False)\n",
       "          (bn1): BatchNormAct2d(\n",
       "            1536, eps=1e-05, momentum=0.1, affine=True, track_running_stats=True\n",
       "            (drop): Identity()\n",
       "            (act): SiLU(inplace=True)\n",
       "          )\n",
       "          (conv_dw): Conv2d(1536, 1536, kernel_size=(3, 3), stride=(1, 1), padding=(1, 1), groups=1536, bias=False)\n",
       "          (bn2): BatchNormAct2d(\n",
       "            1536, eps=1e-05, momentum=0.1, affine=True, track_running_stats=True\n",
       "            (drop): Identity()\n",
       "            (act): SiLU(inplace=True)\n",
       "          )\n",
       "          (aa): Identity()\n",
       "          (se): SqueezeExcite(\n",
       "            (conv_reduce): Conv2d(1536, 64, kernel_size=(1, 1), stride=(1, 1))\n",
       "            (act1): SiLU(inplace=True)\n",
       "            (conv_expand): Conv2d(64, 1536, kernel_size=(1, 1), stride=(1, 1))\n",
       "            (gate): Sigmoid()\n",
       "          )\n",
       "          (conv_pwl): Conv2d(1536, 256, kernel_size=(1, 1), stride=(1, 1), bias=False)\n",
       "          (bn3): BatchNormAct2d(\n",
       "            256, eps=1e-05, momentum=0.1, affine=True, track_running_stats=True\n",
       "            (drop): Identity()\n",
       "            (act): Identity()\n",
       "          )\n",
       "          (drop_path): DropPath(drop_prob=0.175)\n",
       "        )\n",
       "        (11): InvertedResidual(\n",
       "          (conv_pw): Conv2d(256, 1536, kernel_size=(1, 1), stride=(1, 1), bias=False)\n",
       "          (bn1): BatchNormAct2d(\n",
       "            1536, eps=1e-05, momentum=0.1, affine=True, track_running_stats=True\n",
       "            (drop): Identity()\n",
       "            (act): SiLU(inplace=True)\n",
       "          )\n",
       "          (conv_dw): Conv2d(1536, 1536, kernel_size=(3, 3), stride=(1, 1), padding=(1, 1), groups=1536, bias=False)\n",
       "          (bn2): BatchNormAct2d(\n",
       "            1536, eps=1e-05, momentum=0.1, affine=True, track_running_stats=True\n",
       "            (drop): Identity()\n",
       "            (act): SiLU(inplace=True)\n",
       "          )\n",
       "          (aa): Identity()\n",
       "          (se): SqueezeExcite(\n",
       "            (conv_reduce): Conv2d(1536, 64, kernel_size=(1, 1), stride=(1, 1))\n",
       "            (act1): SiLU(inplace=True)\n",
       "            (conv_expand): Conv2d(64, 1536, kernel_size=(1, 1), stride=(1, 1))\n",
       "            (gate): Sigmoid()\n",
       "          )\n",
       "          (conv_pwl): Conv2d(1536, 256, kernel_size=(1, 1), stride=(1, 1), bias=False)\n",
       "          (bn3): BatchNormAct2d(\n",
       "            256, eps=1e-05, momentum=0.1, affine=True, track_running_stats=True\n",
       "            (drop): Identity()\n",
       "            (act): Identity()\n",
       "          )\n",
       "          (drop_path): DropPath(drop_prob=0.180)\n",
       "        )\n",
       "        (12): InvertedResidual(\n",
       "          (conv_pw): Conv2d(256, 1536, kernel_size=(1, 1), stride=(1, 1), bias=False)\n",
       "          (bn1): BatchNormAct2d(\n",
       "            1536, eps=1e-05, momentum=0.1, affine=True, track_running_stats=True\n",
       "            (drop): Identity()\n",
       "            (act): SiLU(inplace=True)\n",
       "          )\n",
       "          (conv_dw): Conv2d(1536, 1536, kernel_size=(3, 3), stride=(1, 1), padding=(1, 1), groups=1536, bias=False)\n",
       "          (bn2): BatchNormAct2d(\n",
       "            1536, eps=1e-05, momentum=0.1, affine=True, track_running_stats=True\n",
       "            (drop): Identity()\n",
       "            (act): SiLU(inplace=True)\n",
       "          )\n",
       "          (aa): Identity()\n",
       "          (se): SqueezeExcite(\n",
       "            (conv_reduce): Conv2d(1536, 64, kernel_size=(1, 1), stride=(1, 1))\n",
       "            (act1): SiLU(inplace=True)\n",
       "            (conv_expand): Conv2d(64, 1536, kernel_size=(1, 1), stride=(1, 1))\n",
       "            (gate): Sigmoid()\n",
       "          )\n",
       "          (conv_pwl): Conv2d(1536, 256, kernel_size=(1, 1), stride=(1, 1), bias=False)\n",
       "          (bn3): BatchNormAct2d(\n",
       "            256, eps=1e-05, momentum=0.1, affine=True, track_running_stats=True\n",
       "            (drop): Identity()\n",
       "            (act): Identity()\n",
       "          )\n",
       "          (drop_path): DropPath(drop_prob=0.185)\n",
       "        )\n",
       "        (13): InvertedResidual(\n",
       "          (conv_pw): Conv2d(256, 1536, kernel_size=(1, 1), stride=(1, 1), bias=False)\n",
       "          (bn1): BatchNormAct2d(\n",
       "            1536, eps=1e-05, momentum=0.1, affine=True, track_running_stats=True\n",
       "            (drop): Identity()\n",
       "            (act): SiLU(inplace=True)\n",
       "          )\n",
       "          (conv_dw): Conv2d(1536, 1536, kernel_size=(3, 3), stride=(1, 1), padding=(1, 1), groups=1536, bias=False)\n",
       "          (bn2): BatchNormAct2d(\n",
       "            1536, eps=1e-05, momentum=0.1, affine=True, track_running_stats=True\n",
       "            (drop): Identity()\n",
       "            (act): SiLU(inplace=True)\n",
       "          )\n",
       "          (aa): Identity()\n",
       "          (se): SqueezeExcite(\n",
       "            (conv_reduce): Conv2d(1536, 64, kernel_size=(1, 1), stride=(1, 1))\n",
       "            (act1): SiLU(inplace=True)\n",
       "            (conv_expand): Conv2d(64, 1536, kernel_size=(1, 1), stride=(1, 1))\n",
       "            (gate): Sigmoid()\n",
       "          )\n",
       "          (conv_pwl): Conv2d(1536, 256, kernel_size=(1, 1), stride=(1, 1), bias=False)\n",
       "          (bn3): BatchNormAct2d(\n",
       "            256, eps=1e-05, momentum=0.1, affine=True, track_running_stats=True\n",
       "            (drop): Identity()\n",
       "            (act): Identity()\n",
       "          )\n",
       "          (drop_path): DropPath(drop_prob=0.190)\n",
       "        )\n",
       "        (14): InvertedResidual(\n",
       "          (conv_pw): Conv2d(256, 1536, kernel_size=(1, 1), stride=(1, 1), bias=False)\n",
       "          (bn1): BatchNormAct2d(\n",
       "            1536, eps=1e-05, momentum=0.1, affine=True, track_running_stats=True\n",
       "            (drop): Identity()\n",
       "            (act): SiLU(inplace=True)\n",
       "          )\n",
       "          (conv_dw): Conv2d(1536, 1536, kernel_size=(3, 3), stride=(1, 1), padding=(1, 1), groups=1536, bias=False)\n",
       "          (bn2): BatchNormAct2d(\n",
       "            1536, eps=1e-05, momentum=0.1, affine=True, track_running_stats=True\n",
       "            (drop): Identity()\n",
       "            (act): SiLU(inplace=True)\n",
       "          )\n",
       "          (aa): Identity()\n",
       "          (se): SqueezeExcite(\n",
       "            (conv_reduce): Conv2d(1536, 64, kernel_size=(1, 1), stride=(1, 1))\n",
       "            (act1): SiLU(inplace=True)\n",
       "            (conv_expand): Conv2d(64, 1536, kernel_size=(1, 1), stride=(1, 1))\n",
       "            (gate): Sigmoid()\n",
       "          )\n",
       "          (conv_pwl): Conv2d(1536, 256, kernel_size=(1, 1), stride=(1, 1), bias=False)\n",
       "          (bn3): BatchNormAct2d(\n",
       "            256, eps=1e-05, momentum=0.1, affine=True, track_running_stats=True\n",
       "            (drop): Identity()\n",
       "            (act): Identity()\n",
       "          )\n",
       "          (drop_path): DropPath(drop_prob=0.195)\n",
       "        )\n",
       "      )\n",
       "    )\n",
       "    (conv_head): Conv2d(256, 1280, kernel_size=(1, 1), stride=(1, 1), bias=False)\n",
       "    (bn2): BatchNormAct2d(\n",
       "      1280, eps=1e-05, momentum=0.1, affine=True, track_running_stats=True\n",
       "      (drop): Identity()\n",
       "      (act): SiLU(inplace=True)\n",
       "    )\n",
       "    (global_pool): SelectAdaptivePool2d(pool_type=avg, flatten=Flatten(start_dim=1, end_dim=-1))\n",
       "    (classifier): Identity()\n",
       "  )\n",
       "  (meta_features): Sequential(\n",
       "    (0): Linear(in_features=2, out_features=16, bias=True)\n",
       "    (1): ReLU()\n",
       "    (2): Dropout(p=0.2, inplace=False)\n",
       "    (3): Linear(in_features=16, out_features=32, bias=True)\n",
       "    (4): ReLU()\n",
       "  )\n",
       "  (classifier): Sequential(\n",
       "    (0): Linear(in_features=1312, out_features=512, bias=True)\n",
       "    (1): BatchNorm1d(512, eps=1e-05, momentum=0.1, affine=True, track_running_stats=True)\n",
       "    (2): ReLU()\n",
       "    (3): Dropout(p=0.3, inplace=False)\n",
       "    (4): Linear(in_features=512, out_features=256, bias=True)\n",
       "    (5): BatchNorm1d(256, eps=1e-05, momentum=0.1, affine=True, track_running_stats=True)\n",
       "    (6): ReLU()\n",
       "    (7): Dropout(p=0.3, inplace=False)\n",
       "    (8): Linear(in_features=256, out_features=13, bias=True)\n",
       "  )\n",
       ")"
      ]
     },
     "execution_count": 9,
     "metadata": {},
     "output_type": "execute_result"
    }
   ],
   "source": [
    "class EfficientNetV2WithMetaModel(nn.Module):\n",
    "    def __init__(self, model_name, pretrained=False,\n",
    "                 num_classes=CFG.num_labels, drop_rate=0.3,\n",
    "                 drop_path_rate=0.2):\n",
    "        super().__init__()\n",
    "        self.model_name = model_name\n",
    "        \n",
    "        if model_name == 'efficientnetv2':\n",
    "            self.backbone = timm.create_model(\n",
    "                'efficientnetv2_s',\n",
    "                pretrained=pretrained,\n",
    "                drop_rate=drop_rate,\n",
    "                drop_path_rate=drop_path_rate,\n",
    "                num_classes=0)\n",
    "            \n",
    "            # input layer modification: 3 channels -> CFG.num_slices channels\n",
    "            self.backbone.conv_stem = nn.Conv2d(\n",
    "                in_channels=CFG.num_slices,\n",
    "                out_channels=24,\n",
    "                kernel_size=3,\n",
    "                stride=2,\n",
    "                padding=1\n",
    "            )\n",
    "        else:\n",
    "            raise ValueError(f\"Model {model_name} is not supported.\")\n",
    "        \n",
    "        self.meta_features = nn.Sequential(\n",
    "            nn.Linear(2, 16),\n",
    "            nn.ReLU(),\n",
    "            nn.Dropout(0.2),\n",
    "            nn.Linear(16, 32),\n",
    "            nn.ReLU()\n",
    "        )\n",
    "        \n",
    "        # According to \"LB #1\"\n",
    "        self.classifier = nn.Sequential(\n",
    "            nn.Linear(1280 + 32, 512),\n",
    "            nn.BatchNorm1d(512),\n",
    "            nn.ReLU(),\n",
    "            nn.Dropout(drop_rate),\n",
    "            nn.Linear(512, 256),\n",
    "            nn.BatchNorm1d(256),\n",
    "            nn.ReLU(),\n",
    "            nn.Dropout(drop_rate),\n",
    "            nn.Linear(256, num_classes)\n",
    "        )\n",
    "        \n",
    "    def forward(self, images, meta): \n",
    "        image_features = self.backbone(images)\n",
    "        meta_fieatures = self.meta_features(meta)\n",
    "        x = torch.cat([image_features, meta_fieatures], dim=1)\n",
    "        x = self.classifier(x)\n",
    "        x = torch.nn.Sigmoid()(x)\n",
    "        return x\n",
    "\n",
    "model = EfficientNetV2WithMetaModel(\n",
    "    model_name='efficientnetv2',\n",
    "    pretrained=False\n",
    ")\n",
    "model\n"
   ]
  },
  {
   "cell_type": "markdown",
   "id": "88a47ab9",
   "metadata": {},
   "source": [
    "-> timm.createmodel(num_classes=0)とすると、最後のnn.Linear()がnn.Identity()になる。"
   ]
  },
  {
   "cell_type": "code",
   "execution_count": 10,
   "id": "acbea94e",
   "metadata": {},
   "outputs": [
    {
     "name": "stdout",
     "output_type": "stream",
     "text": [
      "All parameters is in cuda\n"
     ]
    }
   ],
   "source": [
    "model.to(device)\n",
    "\n",
    "is_in_cuda_list = []\n",
    "\n",
    "for name, parameter in model.named_parameters():\n",
    "    # determination of cuda and its storage\n",
    "    is_in_cuda_list.append(parameter.is_cuda)\n",
    "    \n",
    "if all(is_in_cuda_list):\n",
    "    print('All parameters is in cuda')\n",
    "        \n",
    "else:\n",
    "    print('One of the parameters is not in the cuda.')\n"
   ]
  },
  {
   "cell_type": "code",
   "execution_count": 11,
   "id": "206e8241",
   "metadata": {},
   "outputs": [],
   "source": [
    "# Optimizer\n",
    "optimizer = torch.optim.AdamW(model.parameters())\n",
    "\n",
    "# Loss Function\n",
    "criterion = nn.BCEWithLogitsLoss()\n",
    "\n",
    "# Schedulers\n",
    "scheduler = torch.optim.lr_scheduler.CosineAnnealingLR(\n",
    "    optimizer,\n",
    "    T_max=CFG.num_epochs,\n",
    "    eta_min=1e-6\n",
    ")\n"
   ]
  },
  {
   "cell_type": "markdown",
   "id": "9314cd98",
   "metadata": {},
   "source": [
    "# 5. Dataset"
   ]
  },
  {
   "cell_type": "code",
   "execution_count": 12,
   "id": "97f1c259",
   "metadata": {},
   "outputs": [],
   "source": [
    "# SeriesInstanceUID list\n",
    "series_list = os.listdir(f'../series_npy/{CFG.image_size}')\n",
    "\n",
    "# .npy path DataFrame\n",
    "image_path_df = pd.read_csv(f'../npy_path/image_{CFG.image_size}_path_df.csv')\n",
    "\n",
    "# Meta DataFrame\n",
    "meta_df = pd.read_csv('../meta_data/meta.csv')\n",
    "\n",
    "# Label DataFrame\n",
    "label_df = pd.read_csv(f'../train.csv')\n",
    "label_df = label_df[['SeriesInstanceUID'] + CFG.label_names]\n"
   ]
  },
  {
   "cell_type": "code",
   "execution_count": 13,
   "id": "b3aaf1a2",
   "metadata": {},
   "outputs": [
    {
     "data": {
      "text/html": [
       "<div>\n",
       "<style scoped>\n",
       "    .dataframe tbody tr th:only-of-type {\n",
       "        vertical-align: middle;\n",
       "    }\n",
       "\n",
       "    .dataframe tbody tr th {\n",
       "        vertical-align: top;\n",
       "    }\n",
       "\n",
       "    .dataframe thead th {\n",
       "        text-align: right;\n",
       "    }\n",
       "</style>\n",
       "<table border=\"1\" class=\"dataframe\">\n",
       "  <thead>\n",
       "    <tr style=\"text-align: right;\">\n",
       "      <th></th>\n",
       "      <th>SeriesInstanceUID</th>\n",
       "      <th>modalisy</th>\n",
       "      <th>age</th>\n",
       "      <th>sex</th>\n",
       "    </tr>\n",
       "  </thead>\n",
       "  <tbody>\n",
       "    <tr>\n",
       "      <th>4296</th>\n",
       "      <td>1.2.826.0.1.3680043.8.498.98697915765488213704...</td>\n",
       "      <td>MR</td>\n",
       "      <td>60</td>\n",
       "      <td>1</td>\n",
       "    </tr>\n",
       "  </tbody>\n",
       "</table>\n",
       "</div>"
      ],
      "text/plain": [
       "                                      SeriesInstanceUID modalisy  age  sex\n",
       "4296  1.2.826.0.1.3680043.8.498.98697915765488213704...       MR   60    1"
      ]
     },
     "execution_count": 13,
     "metadata": {},
     "output_type": "execute_result"
    }
   ],
   "source": [
    "meta_df.loc[meta_df['SeriesInstanceUID'] == '1.2.826.0.1.3680043.8.498.98697915765488213704603518081182644986']\n"
   ]
  },
  {
   "cell_type": "code",
   "execution_count": 14,
   "id": "020d475a",
   "metadata": {},
   "outputs": [],
   "source": [
    "def minmax_scaling(images: torch.Tensor) -> torch.Tensor:\n",
    "    if torch.max(images) > 1.0:\n",
    "        images = images / 255\n",
    "    return images\n"
   ]
  },
  {
   "cell_type": "code",
   "execution_count": 15,
   "id": "b4e6ade1",
   "metadata": {},
   "outputs": [],
   "source": [
    "# for training\n",
    "train_transform = A.Compose(\n",
    "    [\n",
    "        # # Elastic Transform <- あとで試したい\n",
    "        # A.ElasticTransform( p=0.5),\n",
    "        \n",
    "        # Rotation\n",
    "        A.Rotate(limit=(-3, 3), p=0.5, border_mode=cv2.BORDER_WRAP,  # cv2.BORDER_WRAP,\n",
    "                 seed=CFG.seed\n",
    "        ),\n",
    "        \n",
    "        # Normalization\n",
    "        A.Normalize(normalization='min_max'),\n",
    "        \n",
    "        # ToTensor\n",
    "        ToTensorV2(),\n",
    "    ]\n",
    ")\n",
    "\n",
    "# for inference\n",
    "inference_transform = A.Compose(\n",
    "    [\n",
    "        A.Normalize(mean=[0.485, 0.456, 0.406], std=[0.229, 0.224, 0.225]),\n",
    "        ToTensorV2()\n",
    "    ]\n",
    ")\n",
    "    \n",
    "# for TTA\n",
    "tta_transform = A.Compose(\n",
    "    [\n",
    "        A.Normalize(mean=[0.485, 0.456, 0.406], std=[0.229, 0.224, 0.225]),\n",
    "            \n",
    "        # Horizontal flip\n",
    "        A.HorizontalFlip(p=1.0),\n",
    "        A.Normalize(mean=[0.485, 0.456, 0.406], std=[0.229, 0.224, 0.225]),\n",
    "        \n",
    "        # Vertical flip\n",
    "        A.VerticalFlip(p=1.0),\n",
    "        A.Normalize(mean=[0.485, 0.456, 0.406], std=[0.229, 0.224, 0.225]),\n",
    "        \n",
    "        # 90 degree rotation\n",
    "        A.RandomRotate90(p=1.0),\n",
    "        A.Normalize(mean=[0.485, 0.456, 0.406], std=[0.229, 0.224, 0.225]),\n",
    "        \n",
    "        # ↓ Original\n",
    "        # Sharpen\n",
    "        A.Sharpen(alpha=(0, 1.0), p=1.0),\n",
    "        A.Normalize(mean=[0.485, 0.456, 0.406], std=[0.229, 0.224, 0.225]),\n",
    "        \n",
    "        ToTensorV2(),\n",
    "    ]\n",
    ")\n"
   ]
  },
  {
   "cell_type": "code",
   "execution_count": 16,
   "id": "7e1ffd20",
   "metadata": {},
   "outputs": [],
   "source": [
    "class BaseDataset(torch.utils.data.Dataset):\n",
    "    '''\n",
    "    Datasetの__getitem__()は、num_slicesの枚数分だけ画像を出力する。\n",
    "    \n",
    "    Arguments:\n",
    "    - series_list: 画像のSeriesInstanceUIDのリスト\n",
    "    - image_path_df: 画像のパスを含むDataFrame\n",
    "    - meta_df: 患者のメタデータが入ったDataFrame\n",
    "    - label_df: ラベルが入ったDataFrame\n",
    "    - num_slices: 1つのシリーズから抽出するスライス数\n",
    "    - transforms: 画像変換のためのAlbumentationsのComposeオブジェクト\n",
    "    '''\n",
    "    def __init__(self,\n",
    "                 series_list: list,\n",
    "                 image_path_df=image_path_df,\n",
    "                 meta_df=meta_df,\n",
    "                 label_df=label_df,\n",
    "                 transforms=None\n",
    "        ):\n",
    "        self.series_list = series_list\n",
    "        self.image_path_df = image_path_df\n",
    "        self.meta_df = meta_df\n",
    "        self.label_df = label_df\n",
    "        self.transforms = transforms\n",
    "        self.num_slices = CFG.num_slices\n",
    "\n",
    "    def __len__(self):\n",
    "        return len(self.series_list)\n",
    "\n",
    "    def __getitem__(self, index):\n",
    "        # Index to SeriesInstanceUID\n",
    "        series_id = self.series_list[index]\n",
    "        \n",
    "        # SeriesInstanceUID to Image Path\n",
    "        image_path_df = self.image_path_df[\n",
    "            self.image_path_df['series_id'] == series_id\n",
    "        ].reset_index(drop=True)\n",
    "        \n",
    "        # Load Images\n",
    "        indices = np.linspace(0,\n",
    "                              len(image_path_df) - 1,\n",
    "                              self.num_slices).astype(np.int32)\n",
    "        # Stack images to (H, W, CFG.num_slices)\n",
    "        images = []\n",
    "        for i in indices:\n",
    "            image_path = image_path_df.loc[i, 'npy_path']\n",
    "            image = np.load(image_path).astype(np.uint8)\n",
    "            images.append(image)\n",
    "        images = np.stack(images, axis=-1)\n",
    "        \n",
    "        # Transform\n",
    "        if self.transforms:\n",
    "            # ToTensorV2はnumpy.ndarrayをtorch.Tensorに変換する\n",
    "            augmented = self.transforms(image=images)\n",
    "            images = augmented['image']\n",
    "        else:\n",
    "            images = torch.tensor(images, dtype=torch.float32)\n",
    "            images = torch.permute(images, (2, 0, 1))\n",
    "            # Normlization\n",
    "            if torch.max(images) > 1.0:\n",
    "                images = images / 255\n",
    "                \n",
    "        # Meta data\n",
    "        meta = self.meta_df.loc[\n",
    "            self.meta_df['SeriesInstanceUID'] == series_id, ['age', 'sex']\n",
    "        ]\n",
    "        age = min(meta['age'].values[0], 100)\n",
    "        age = age / 100\n",
    "        sex = meta['sex'].values[0]\n",
    "        meta = torch.tensor([age, sex], dtype=torch.float32)\n",
    "\n",
    "        # Labels\n",
    "        labels = self.label_df.loc[\n",
    "            self.label_df['SeriesInstanceUID']==series_id, \\\n",
    "                CFG.label_names].values\n",
    "        labels = torch.tensor(labels, dtype=torch.float32)\n",
    "        labels = torch.squeeze(labels, dim=0)\n",
    "        \n",
    "        return (images, meta, labels)\n"
   ]
  },
  {
   "cell_type": "markdown",
   "id": "15340c5a",
   "metadata": {},
   "source": [
    "# 6. DataLoader"
   ]
  },
  {
   "cell_type": "code",
   "execution_count": 17,
   "id": "86d0077f",
   "metadata": {},
   "outputs": [],
   "source": [
    "def build_dataloaders():\n",
    "\n",
    "    series = label_df[[\"SeriesInstanceUID\"]].values\n",
    "    labels = label_df[CFG.label_names].values\n",
    "\n",
    "    if CFG.test_run:\n",
    "        # As the absolute number of data points cannot be specified,\n",
    "        # split is executed in two stages.\n",
    "        train_series, train_labels, val_series, _ = iterative_train_test_split(\n",
    "            series, labels, test_size=(1/len(series)) \\\n",
    "                * 2\n",
    "        )\n",
    "        _, _, train_series, train_labels = iterative_train_test_split(\n",
    "            train_series, train_labels, test_size=(1/len(series)) \\\n",
    "                * 2\n",
    "        )\n",
    "        \n",
    "    else:\n",
    "        train_series, _, val_series, _ = \\\n",
    "            iterative_train_test_split(\n",
    "                series, labels, test_size=0.2\n",
    "            )\n",
    "\n",
    "    # 2 dimensions -> 1 dimension\n",
    "    train_series, val_series = train_series.flatten(), val_series.flatten()\n",
    "    # train_series = [\n",
    "        # '1.2.826.0.1.3680043.8.498.10034081836061566510187499603024895557',\n",
    "        # '1.2.826.0.1.3680043.8.498.10034081836061566510187499603024895557'\n",
    "    # ]\n",
    "    print(f\"Train size: {len(train_series)}, Val size: {len(val_series)}\")\n",
    "\n",
    "    # train_image_path_df = \\\n",
    "    #     image_path_df[image_path_df['series_id'] \\\n",
    "    #     .isin(train_series)].reset_index(drop=True)\n",
    "    # val_image_path_df = \\\n",
    "    #     image_path_df[image_path_df['series_id'] \\\n",
    "    #     .isin(val_series)].reset_index(drop=True)\n",
    "        \n",
    "    # train_label_df = label_df[label_df['SeriesInstanceUID']\n",
    "    #     .isin(train_series)].set_index('SeriesInstanceUID')\n",
    "    # val_label_df = label_df[label_df['SeriesInstanceUID']\n",
    "    #     .isin(val_series)].set_index('SeriesInstanceUID')\n",
    "\n",
    "    train_dataset = BaseDataset(\n",
    "        series_list=train_series,\n",
    "        transforms=train_transform\n",
    "    )\n",
    "    val_dataset = BaseDataset(\n",
    "        series_list=val_series,\n",
    "        transforms=train_transform # tta_transform\n",
    "    )\n",
    "    train_dataloader = torch.utils.data.DataLoader(\n",
    "        train_dataset,\n",
    "        batch_size=CFG.batch_size,\n",
    "        shuffle=True,\n",
    "        num_workers=0\n",
    "    )\n",
    "    val_dataloader = torch.utils.data.DataLoader(\n",
    "        val_dataset,\n",
    "        batch_size=CFG.batch_size,\n",
    "        shuffle=False,\n",
    "        num_workers=0\n",
    "    )\n",
    "\n",
    "    return train_dataset, train_dataloader, val_dataloader\n"
   ]
  },
  {
   "cell_type": "code",
   "execution_count": 18,
   "id": "c52a3a90",
   "metadata": {},
   "outputs": [],
   "source": [
    "def build_dataloaders():\n",
    "\n",
    "    series = label_df[[\"SeriesInstanceUID\"]].values\n",
    "    labels = label_df[CFG.label_names].values\n",
    "\n",
    "    if CFG.test_run:\n",
    "        # As the absolute number of data points cannot be specified,\n",
    "        # split is executed in two stages.\n",
    "        train_series, train_labels, val_series, _ = iterative_train_test_split(\n",
    "            series, labels, test_size=(1/len(series)) \\\n",
    "                * 2\n",
    "        )\n",
    "        _, _, train_series, train_labels = iterative_train_test_split(\n",
    "            train_series, train_labels, test_size=(1/len(series)) \\\n",
    "                * 2\n",
    "        )\n",
    "        \n",
    "    else:\n",
    "        train_series, _, val_series, _ = iterative_train_test_split(\n",
    "            series, labels, test_size=0.2\n",
    "        )\n",
    "\n",
    "    # 2 dimensions -> 1 dimension\n",
    "    train_series, val_series = train_series.flatten(), val_series.flatten()\n",
    "    # train_series = [\n",
    "        # '1.2.826.0.1.3680043.8.498.10034081836061566510187499603024895557',\n",
    "        # '1.2.826.0.1.3680043.8.498.10034081836061566510187499603024895557'\n",
    "    # ]\n",
    "    print(f\"Train size: {len(train_series)}, Val size: {len(val_series)}\")\n",
    "\n",
    "    # train_image_path_df = \\\n",
    "    #     image_path_df[image_path_df['series_id'] \\\n",
    "    #     .isin(train_series)].reset_index(drop=True)\n",
    "    # val_image_path_df = \\\n",
    "    #     image_path_df[image_path_df['series_id'] \\\n",
    "    #     .isin(val_series)].reset_index(drop=True)\n",
    "        \n",
    "    # train_label_df = label_df[label_df['SeriesInstanceUID']\n",
    "    #     .isin(train_series)].set_index('SeriesInstanceUID')\n",
    "    # val_label_df = label_df[label_df['SeriesInstanceUID']\n",
    "    #     .isin(val_series)].set_index('SeriesInstanceUID')\n",
    "\n",
    "    # Datasets\n",
    "    train_dataset = BaseDataset(\n",
    "        series_list=train_series,\n",
    "        transforms=train_transform\n",
    "    )\n",
    "    val_dataset = BaseDataset(\n",
    "        series_list=val_series,\n",
    "        transforms=train_transform # or tta_transform\n",
    "    )\n",
    "    \n",
    "    # Dataloaders\n",
    "    train_dataloader = torch.utils.data.DataLoader(\n",
    "        train_dataset,\n",
    "        batch_size=CFG.batch_size,\n",
    "        shuffle=True,\n",
    "        num_workers=0\n",
    "    )\n",
    "    val_dataloader = torch.utils.data.DataLoader(\n",
    "        val_dataset,\n",
    "        batch_size=CFG.batch_size,\n",
    "        shuffle=False,\n",
    "        num_workers=0\n",
    "    )\n",
    "\n",
    "    return  train_dataloader, val_dataloader\n"
   ]
  },
  {
   "cell_type": "code",
   "execution_count": 19,
   "id": "536ec2e5",
   "metadata": {},
   "outputs": [
    {
     "name": "stdout",
     "output_type": "stream",
     "text": [
      "Train size: 3478, Val size: 870\n"
     ]
    }
   ],
   "source": [
    "train_dataloader, val_dataloader = build_dataloaders()\n"
   ]
  },
  {
   "cell_type": "code",
   "execution_count": 20,
   "id": "018ebc65",
   "metadata": {},
   "outputs": [],
   "source": [
    "# _, ax = plt.subplots(1, 2, figsize=(12, 6))\n",
    "\n",
    "# # 元の画像とどのくらい違いがあるかを確認\n",
    "\n",
    "# # 元の画像(.npy)\n",
    "# src = np.load(f'../series_npy/{CFG.image_size}/1.2.826.0.1.3680043.8.498.10034081836061566510187499603024895557/00012.npy')\n",
    "# print(np.unique(src))\n",
    "# ax[0].imshow(src)\n",
    "\n",
    "# # Datasetから取り出した画像\n",
    "# images, _ = train_dataset[0]\n",
    "# image = images[8].numpy()  # shape: [H, W]\n",
    "\n",
    "# # 0-1のfloatなら0-255に変換\n",
    "# if image.max() <= 1.0:\n",
    "#     image = (image * 255).astype(np.uint8)\n",
    "# else:\n",
    "#     image = image.astype(np.uint8)\n",
    "\n",
    "# ax[1].imshow(image)\n"
   ]
  },
  {
   "cell_type": "code",
   "execution_count": 21,
   "id": "2b5b63f5",
   "metadata": {},
   "outputs": [],
   "source": [
    "# pil_image = Image.fromarray(image)\n",
    "# display(pil_image)\n"
   ]
  },
  {
   "cell_type": "markdown",
   "id": "a2732754",
   "metadata": {},
   "source": [
    "# 7. Functions"
   ]
  },
  {
   "cell_type": "code",
   "execution_count": 22,
   "id": "1161cd00",
   "metadata": {},
   "outputs": [],
   "source": [
    "# count execution time for one epoch\n",
    "def count_time(start:float) -> float:\n",
    "    \n",
    "    elapsed_time = time.time() - start\n",
    "    elapsed_time /= 60\n",
    "    \n",
    "    return elapsed_time\n"
   ]
  },
  {
   "cell_type": "code",
   "execution_count": 23,
   "id": "7d4611cf",
   "metadata": {},
   "outputs": [],
   "source": [
    "# to save model, optimizer, scheduler\n",
    "def save_checkpoint(model, optimizer, scheduler, path=\"\"):\n",
    "    \n",
    "    path = path.replace('\\\\', '/')\n",
    "    \n",
    "    checkpoint = {\n",
    "        'model_state_dict': model.state_dict(),\n",
    "        'optimizer_state_dict': optimizer.state_dict(),\n",
    "        'scheduler_state_dict': scheduler.state_dict() if scheduler is not None else None,\n",
    "    }\n",
    "    torch.save(checkpoint, path)\n",
    "\n",
    "# to load model, optimizer, scheduler\n",
    "def load_checkpoint(model, optimizer, scheduler, path=\"\"):\n",
    "    \n",
    "    path = path.replace('\\\\', '/')\n",
    "    \n",
    "    checkpoint = torch.load(path)\n",
    "    \n",
    "    model.load_state_dict(checkpoint['model_state_dict'])\n",
    "    optimizer.load_state_dict(checkpoint['optimizer_state_dict'])\n",
    "    if scheduler is not None and checkpoint['scheduler_state_dict'] is not None:\n",
    "        scheduler.load_state_dict(checkpoint['scheduler_state_dict'])\n",
    "    \n",
    "    return model, optimizer, scheduler\n"
   ]
  },
  {
   "cell_type": "code",
   "execution_count": 24,
   "id": "680cfa7f",
   "metadata": {},
   "outputs": [],
   "source": [
    "# to log losses to W&B\n",
    "def log_by_wandb(time, losses):\n",
    "    epoch_data = {\n",
    "        'time': time,\n",
    "        'loss': losses,\n",
    "    }\n",
    "    wandb.log(epoch_data)\n"
   ]
  },
  {
   "cell_type": "code",
   "execution_count": 25,
   "id": "a98ad525",
   "metadata": {},
   "outputs": [],
   "source": [
    "# to log checkpoint\n",
    "def log_artifact(run=run, artifact=artifact, checkpoint_path=\"\"):\n",
    "    artifact.add_file(checkpoint_path)\n",
    "    run.log_artifact(artifact)\n",
    "    print('Artifact was logged to W&B')\n"
   ]
  },
  {
   "cell_type": "markdown",
   "id": "634e7cf3",
   "metadata": {},
   "source": [
    "# 8. Training"
   ]
  },
  {
   "cell_type": "code",
   "execution_count": 26,
   "id": "d6593236",
   "metadata": {},
   "outputs": [],
   "source": [
    "def train_one_epoch(epoch: int) -> Tuple[float, float]:\n",
    "    \n",
    "    print(f'----- Epoch {epoch + 1} -----')\n",
    "    \n",
    "    # Training\n",
    "    train_losses = []\n",
    "    model.train()\n",
    "    \n",
    "    for images, meta, labels in tqdm(train_dataloader):    \n",
    "        images = images.to(device)\n",
    "        meta = meta.to(device)\n",
    "        labels = labels.to(device)\n",
    "        optimizer.zero_grad()\n",
    "        with autocast(device_type=CFG.device):\n",
    "            outputs = model(images, meta)\n",
    "            loss = criterion(outputs, labels)\n",
    "            loss.backward()\n",
    "            optimizer.step()\n",
    "            train_losses.append(loss.item())\n",
    "    \n",
    "    mean_train_loss = np.mean(train_losses)\n",
    "    print(f'Last output:', outputs[0])\n",
    "    print(f'Mean Train Loss: {mean_train_loss:.4f}')\n",
    "    \n",
    "    # Validation\n",
    "    val_losses = []\n",
    "    model.eval()\n",
    "    \n",
    "    with torch.no_grad():\n",
    "        for images, meta, labels in tqdm(val_dataloader):\n",
    "            images = images.to(device)\n",
    "            meta = meta.to(device)\n",
    "            labels = labels.to(device)\n",
    "            with autocast(device_type=CFG.device):\n",
    "                outputs = model(images, meta)\n",
    "                loss = criterion(outputs, labels)\n",
    "                val_losses.append(loss.item())\n",
    "        \n",
    "    mean_val_loss = np.mean(val_losses)\n",
    "    print(f'Mean Validation Loss: {mean_val_loss:.4f}')\n",
    "        \n",
    "    scheduler.step()\n",
    "        \n",
    "    return mean_train_loss, mean_val_loss\n"
   ]
  },
  {
   "cell_type": "code",
   "execution_count": 27,
   "id": "7148edc8",
   "metadata": {},
   "outputs": [],
   "source": [
    "def main():\n",
    "    \n",
    "    os.makedirs(CFG.save_dir, exist_ok=True)\n",
    "    best_val_loss = np.inf\n",
    "    \n",
    "    for epoch in range(CFG.num_epochs):\n",
    "        \n",
    "        # Train & Validation\n",
    "        start_time = time.time()\n",
    "        train_loss, val_loss = train_one_epoch(epoch)\n",
    "        elapsed_time = count_time(start_time)\n",
    "        print(f'Elapsed time: {elapsed_time}')\n",
    "        \n",
    "        # Log to W&B\n",
    "        if CFG.use_wandb:\n",
    "            losses = {\n",
    "                'train_loss': train_loss,\n",
    "                'val_loss': val_loss\n",
    "            }\n",
    "            log_by_wandb(elapsed_time, losses)\n",
    "        \n",
    "        # Save all checkpoints\n",
    "        checkpoint_path = os.path.join(\n",
    "            CFG.save_dir,\n",
    "            f'checkpoint_{date_time}.pth'\n",
    "        )\n",
    "        checkpoint_path = checkpoint_path.replace('\\\\', '/')\n",
    "        save_checkpoint(model, optimizer, scheduler, checkpoint_path)\n",
    "        print(f'Checkpoint saved at {checkpoint_path}')\n",
    "        \n",
    "        # Save best checkpoint\n",
    "        if val_loss < best_val_loss:\n",
    "            best_val_loss = val_loss\n",
    "            best_checkpoint_path = os.path.join(\n",
    "                CFG.save_dir,\n",
    "                f'best_checkpoint_{date_time}.pth'\n",
    "            )\n",
    "            best_checkpoint_path = best_checkpoint_path.replace('\\\\', '/')\n",
    "            save_checkpoint(model, optimizer, scheduler, best_checkpoint_path)\n",
    "            print(f'Best checkpoint updated at {best_checkpoint_path}')\n",
    "    \n",
    "    # Log artifact to W&B\n",
    "    if CFG.use_wandb:\n",
    "        log_artifact(run, artifact, best_checkpoint_path)\n"
   ]
  },
  {
   "cell_type": "code",
   "execution_count": 28,
   "id": "35083e4d",
   "metadata": {},
   "outputs": [
    {
     "name": "stdout",
     "output_type": "stream",
     "text": [
      "----- Epoch 1 -----\n"
     ]
    },
    {
     "data": {
      "application/vnd.jupyter.widget-view+json": {
       "model_id": "0a5d06bb410c4572963dae9d3655a853",
       "version_major": 2,
       "version_minor": 0
      },
      "text/plain": [
       "  0%|          | 0/696 [00:00<?, ?it/s]"
      ]
     },
     "metadata": {},
     "output_type": "display_data"
    },
    {
     "name": "stdout",
     "output_type": "stream",
     "text": [
      "Last output: tensor([1.5557e-05, 1.0729e-05, 2.4498e-05, 2.6286e-05, 1.3709e-05, 2.3723e-05,\n",
      "        2.2829e-05, 1.4961e-05, 1.3232e-05, 5.6624e-06, 9.1791e-06, 1.8060e-05,\n",
      "        1.1563e-05], device='cuda:0', dtype=torch.float16,\n",
      "       grad_fn=<SelectBackward0>)\n",
      "Mean Train Loss: 0.7004\n"
     ]
    },
    {
     "data": {
      "application/vnd.jupyter.widget-view+json": {
       "model_id": "0b33e38de2984a81a689fc67b3ed3263",
       "version_major": 2,
       "version_minor": 0
      },
      "text/plain": [
       "  0%|          | 0/174 [00:00<?, ?it/s]"
      ]
     },
     "metadata": {},
     "output_type": "display_data"
    },
    {
     "name": "stdout",
     "output_type": "stream",
     "text": [
      "Mean Validation Loss: 0.6934\n",
      "Elapsed time: 38.08044960101446\n",
      "Checkpoint saved at ../results/efficientnetv2-s-meta/checkpoint_2025-09-28_00-48-38.pth\n",
      "Best checkpoint updated at ../results/efficientnetv2-s-meta/best_checkpoint_2025-09-28_00-48-38.pth\n",
      "----- Epoch 2 -----\n"
     ]
    },
    {
     "data": {
      "application/vnd.jupyter.widget-view+json": {
       "model_id": "7badb3b08fc349d68b39db242212714d",
       "version_major": 2,
       "version_minor": 0
      },
      "text/plain": [
       "  0%|          | 0/696 [00:00<?, ?it/s]"
      ]
     },
     "metadata": {},
     "output_type": "display_data"
    },
    {
     "name": "stdout",
     "output_type": "stream",
     "text": [
      "Last output: tensor([3.2187e-06, 3.6955e-06, 3.8147e-06, 2.5034e-06, 7.2122e-06, 4.2915e-06,\n",
      "        6.6757e-06, 3.3975e-06, 3.7551e-06, 2.9206e-06, 7.5698e-06, 2.3842e-06,\n",
      "        3.7551e-06], device='cuda:0', dtype=torch.float16,\n",
      "       grad_fn=<SelectBackward0>)\n",
      "Mean Train Loss: 0.6933\n"
     ]
    },
    {
     "data": {
      "application/vnd.jupyter.widget-view+json": {
       "model_id": "d755e5e8e74f4a4fb84994d1f2335ea8",
       "version_major": 2,
       "version_minor": 0
      },
      "text/plain": [
       "  0%|          | 0/174 [00:00<?, ?it/s]"
      ]
     },
     "metadata": {},
     "output_type": "display_data"
    },
    {
     "name": "stdout",
     "output_type": "stream",
     "text": [
      "Mean Validation Loss: 0.6932\n",
      "Elapsed time: 35.77650348742803\n",
      "Checkpoint saved at ../results/efficientnetv2-s-meta/checkpoint_2025-09-28_00-48-38.pth\n",
      "Best checkpoint updated at ../results/efficientnetv2-s-meta/best_checkpoint_2025-09-28_00-48-38.pth\n",
      "----- Epoch 3 -----\n"
     ]
    },
    {
     "data": {
      "application/vnd.jupyter.widget-view+json": {
       "model_id": "ece7f2d716c249129c3c0fb374a2fdbc",
       "version_major": 2,
       "version_minor": 0
      },
      "text/plain": [
       "  0%|          | 0/696 [00:00<?, ?it/s]"
      ]
     },
     "metadata": {},
     "output_type": "display_data"
    },
    {
     "name": "stdout",
     "output_type": "stream",
     "text": [
      "Last output: tensor([7.0333e-06, 1.9252e-05, 1.8358e-05, 3.0696e-05, 1.5199e-05, 1.8775e-05,\n",
      "        2.1756e-05, 1.7345e-05, 1.2994e-05, 1.2636e-05, 1.0967e-05, 1.6332e-05,\n",
      "        1.5438e-05], device='cuda:0', dtype=torch.float16,\n",
      "       grad_fn=<SelectBackward0>)\n",
      "Mean Train Loss: 0.6932\n"
     ]
    },
    {
     "data": {
      "application/vnd.jupyter.widget-view+json": {
       "model_id": "6264899ca39f4a1b9c173acdd6bba4a3",
       "version_major": 2,
       "version_minor": 0
      },
      "text/plain": [
       "  0%|          | 0/174 [00:00<?, ?it/s]"
      ]
     },
     "metadata": {},
     "output_type": "display_data"
    },
    {
     "name": "stdout",
     "output_type": "stream",
     "text": [
      "Mean Validation Loss: 0.6932\n",
      "Elapsed time: 34.34937460422516\n",
      "Checkpoint saved at ../results/efficientnetv2-s-meta/checkpoint_2025-09-28_00-48-38.pth\n",
      "Best checkpoint updated at ../results/efficientnetv2-s-meta/best_checkpoint_2025-09-28_00-48-38.pth\n",
      "----- Epoch 4 -----\n"
     ]
    },
    {
     "data": {
      "application/vnd.jupyter.widget-view+json": {
       "model_id": "710ffa15d3194fb4ad6af022f922efa5",
       "version_major": 2,
       "version_minor": 0
      },
      "text/plain": [
       "  0%|          | 0/696 [00:00<?, ?it/s]"
      ]
     },
     "metadata": {},
     "output_type": "display_data"
    },
    {
     "name": "stdout",
     "output_type": "stream",
     "text": [
      "Last output: tensor([0.0002, 0.0003, 0.0003, 0.0003, 0.0003, 0.0002, 0.0002, 0.0002, 0.0003,\n",
      "        0.0004, 0.0002, 0.0002, 0.0002], device='cuda:0', dtype=torch.float16,\n",
      "       grad_fn=<SelectBackward0>)\n",
      "Mean Train Loss: 0.6932\n"
     ]
    },
    {
     "data": {
      "application/vnd.jupyter.widget-view+json": {
       "model_id": "befd60d61ea04a26a3716eb2262b27fe",
       "version_major": 2,
       "version_minor": 0
      },
      "text/plain": [
       "  0%|          | 0/174 [00:00<?, ?it/s]"
      ]
     },
     "metadata": {},
     "output_type": "display_data"
    },
    {
     "name": "stdout",
     "output_type": "stream",
     "text": [
      "Mean Validation Loss: 0.6932\n",
      "Elapsed time: 34.25769175291062\n",
      "Checkpoint saved at ../results/efficientnetv2-s-meta/checkpoint_2025-09-28_00-48-38.pth\n",
      "Best checkpoint updated at ../results/efficientnetv2-s-meta/best_checkpoint_2025-09-28_00-48-38.pth\n",
      "----- Epoch 5 -----\n"
     ]
    },
    {
     "data": {
      "application/vnd.jupyter.widget-view+json": {
       "model_id": "31fdb69b038541ba83ce8ac1b7aed099",
       "version_major": 2,
       "version_minor": 0
      },
      "text/plain": [
       "  0%|          | 0/696 [00:00<?, ?it/s]"
      ]
     },
     "metadata": {},
     "output_type": "display_data"
    },
    {
     "name": "stdout",
     "output_type": "stream",
     "text": [
      "Last output: tensor([7.8678e-06, 5.8413e-06, 4.8876e-06, 6.7949e-06, 5.1856e-06, 3.9935e-06,\n",
      "        6.7949e-06, 9.5367e-06, 6.4969e-06, 3.0398e-06, 2.4438e-06, 3.9339e-06,\n",
      "        6.1989e-06], device='cuda:0', dtype=torch.float16,\n",
      "       grad_fn=<SelectBackward0>)\n",
      "Mean Train Loss: 0.6932\n"
     ]
    },
    {
     "data": {
      "application/vnd.jupyter.widget-view+json": {
       "model_id": "ca318d08610b46b3a2201311116e2cd6",
       "version_major": 2,
       "version_minor": 0
      },
      "text/plain": [
       "  0%|          | 0/174 [00:00<?, ?it/s]"
      ]
     },
     "metadata": {},
     "output_type": "display_data"
    },
    {
     "name": "stdout",
     "output_type": "stream",
     "text": [
      "Mean Validation Loss: 0.6932\n",
      "Elapsed time: 34.30522790352504\n",
      "Checkpoint saved at ../results/efficientnetv2-s-meta/checkpoint_2025-09-28_00-48-38.pth\n",
      "Best checkpoint updated at ../results/efficientnetv2-s-meta/best_checkpoint_2025-09-28_00-48-38.pth\n",
      "----- Epoch 6 -----\n"
     ]
    },
    {
     "data": {
      "application/vnd.jupyter.widget-view+json": {
       "model_id": "f00f56d116a14341b4af25e8459e3f4e",
       "version_major": 2,
       "version_minor": 0
      },
      "text/plain": [
       "  0%|          | 0/696 [00:00<?, ?it/s]"
      ]
     },
     "metadata": {},
     "output_type": "display_data"
    },
    {
     "name": "stdout",
     "output_type": "stream",
     "text": [
      "Last output: tensor([6.5565e-05, 4.2677e-05, 6.2525e-05, 5.1022e-05, 8.2850e-05, 4.3333e-05,\n",
      "        5.5611e-05, 8.8215e-05, 7.0870e-05, 9.1732e-05, 3.7909e-05, 4.2677e-05,\n",
      "        6.6042e-05], device='cuda:0', dtype=torch.float16,\n",
      "       grad_fn=<SelectBackward0>)\n",
      "Mean Train Loss: 0.6932\n"
     ]
    },
    {
     "data": {
      "application/vnd.jupyter.widget-view+json": {
       "model_id": "d021dfd6f45c456d967f54fd20a7a649",
       "version_major": 2,
       "version_minor": 0
      },
      "text/plain": [
       "  0%|          | 0/174 [00:00<?, ?it/s]"
      ]
     },
     "metadata": {},
     "output_type": "display_data"
    },
    {
     "name": "stdout",
     "output_type": "stream",
     "text": [
      "Mean Validation Loss: 0.6932\n",
      "Elapsed time: 34.394538056850436\n",
      "Checkpoint saved at ../results/efficientnetv2-s-meta/checkpoint_2025-09-28_00-48-38.pth\n",
      "Best checkpoint updated at ../results/efficientnetv2-s-meta/best_checkpoint_2025-09-28_00-48-38.pth\n",
      "----- Epoch 7 -----\n"
     ]
    },
    {
     "data": {
      "application/vnd.jupyter.widget-view+json": {
       "model_id": "f8e22df7f24f4d4d918e93addf285750",
       "version_major": 2,
       "version_minor": 0
      },
      "text/plain": [
       "  0%|          | 0/696 [00:00<?, ?it/s]"
      ]
     },
     "metadata": {},
     "output_type": "display_data"
    },
    {
     "name": "stdout",
     "output_type": "stream",
     "text": [
      "Last output: tensor([5.0664e-06, 7.6294e-06, 2.3723e-05, 7.2122e-06, 8.6427e-06, 5.8413e-06,\n",
      "        6.5565e-06, 6.0201e-06, 1.0788e-05, 9.6560e-06, 8.3447e-06, 5.9009e-06,\n",
      "        8.8215e-06], device='cuda:0', dtype=torch.float16,\n",
      "       grad_fn=<SelectBackward0>)\n",
      "Mean Train Loss: 0.6932\n"
     ]
    },
    {
     "data": {
      "application/vnd.jupyter.widget-view+json": {
       "model_id": "02a06422d55d453fad218146449d9b1e",
       "version_major": 2,
       "version_minor": 0
      },
      "text/plain": [
       "  0%|          | 0/174 [00:00<?, ?it/s]"
      ]
     },
     "metadata": {},
     "output_type": "display_data"
    },
    {
     "name": "stdout",
     "output_type": "stream",
     "text": [
      "Mean Validation Loss: 0.6932\n",
      "Elapsed time: 34.46577685674031\n",
      "Checkpoint saved at ../results/efficientnetv2-s-meta/checkpoint_2025-09-28_00-48-38.pth\n",
      "Best checkpoint updated at ../results/efficientnetv2-s-meta/best_checkpoint_2025-09-28_00-48-38.pth\n",
      "----- Epoch 8 -----\n"
     ]
    },
    {
     "data": {
      "application/vnd.jupyter.widget-view+json": {
       "model_id": "d20b14008ed54114b7b8a60b7ef12642",
       "version_major": 2,
       "version_minor": 0
      },
      "text/plain": [
       "  0%|          | 0/696 [00:00<?, ?it/s]"
      ]
     },
     "metadata": {},
     "output_type": "display_data"
    },
    {
     "name": "stdout",
     "output_type": "stream",
     "text": [
      "Last output: tensor([2.1935e-05, 1.2934e-05, 1.5795e-05, 1.2994e-05, 1.0133e-05, 1.4305e-05,\n",
      "        1.1563e-05, 2.0325e-05, 7.9870e-06, 1.7762e-05, 1.4722e-05, 1.7107e-05,\n",
      "        1.2219e-05], device='cuda:0', dtype=torch.float16,\n",
      "       grad_fn=<SelectBackward0>)\n",
      "Mean Train Loss: 0.6932\n"
     ]
    },
    {
     "data": {
      "application/vnd.jupyter.widget-view+json": {
       "model_id": "57904cd0848c4271b2e7f1f40daf570a",
       "version_major": 2,
       "version_minor": 0
      },
      "text/plain": [
       "  0%|          | 0/174 [00:00<?, ?it/s]"
      ]
     },
     "metadata": {},
     "output_type": "display_data"
    },
    {
     "name": "stdout",
     "output_type": "stream",
     "text": [
      "Mean Validation Loss: 0.6932\n",
      "Elapsed time: 34.564495559533434\n",
      "Checkpoint saved at ../results/efficientnetv2-s-meta/checkpoint_2025-09-28_00-48-38.pth\n",
      "----- Epoch 9 -----\n"
     ]
    },
    {
     "data": {
      "application/vnd.jupyter.widget-view+json": {
       "model_id": "7a3570fac79d40f2916ae3d20e48403a",
       "version_major": 2,
       "version_minor": 0
      },
      "text/plain": [
       "  0%|          | 0/696 [00:00<?, ?it/s]"
      ]
     },
     "metadata": {},
     "output_type": "display_data"
    },
    {
     "name": "stdout",
     "output_type": "stream",
     "text": [
      "Last output: tensor([8.3447e-07, 8.3447e-07, 1.0133e-06, 1.0133e-06, 2.0266e-06, 9.5367e-07,\n",
      "        7.1526e-07, 1.1325e-06, 1.0133e-06, 5.3644e-07, 2.1458e-06, 1.0729e-06,\n",
      "        1.0133e-06], device='cuda:0', dtype=torch.float16,\n",
      "       grad_fn=<SelectBackward0>)\n",
      "Mean Train Loss: 0.6932\n"
     ]
    },
    {
     "data": {
      "application/vnd.jupyter.widget-view+json": {
       "model_id": "aa26b7a0deb94b82bc44c46722433b8a",
       "version_major": 2,
       "version_minor": 0
      },
      "text/plain": [
       "  0%|          | 0/174 [00:00<?, ?it/s]"
      ]
     },
     "metadata": {},
     "output_type": "display_data"
    },
    {
     "name": "stdout",
     "output_type": "stream",
     "text": [
      "Mean Validation Loss: 0.6932\n",
      "Elapsed time: 34.52343866030375\n",
      "Checkpoint saved at ../results/efficientnetv2-s-meta/checkpoint_2025-09-28_00-48-38.pth\n",
      "Best checkpoint updated at ../results/efficientnetv2-s-meta/best_checkpoint_2025-09-28_00-48-38.pth\n",
      "----- Epoch 10 -----\n"
     ]
    },
    {
     "data": {
      "application/vnd.jupyter.widget-view+json": {
       "model_id": "3346f724b5384b808653fa65eedb5ce1",
       "version_major": 2,
       "version_minor": 0
      },
      "text/plain": [
       "  0%|          | 0/696 [00:00<?, ?it/s]"
      ]
     },
     "metadata": {},
     "output_type": "display_data"
    },
    {
     "name": "stdout",
     "output_type": "stream",
     "text": [
      "Last output: tensor([5.9605e-08, 0.0000e+00, 5.9605e-08, 5.9605e-08, 5.9605e-08, 5.9605e-08,\n",
      "        5.9605e-08, 5.9605e-08, 0.0000e+00, 5.9605e-08, 5.9605e-08, 5.9605e-08,\n",
      "        5.9605e-08], device='cuda:0', dtype=torch.float16,\n",
      "       grad_fn=<SelectBackward0>)\n",
      "Mean Train Loss: 0.6931\n"
     ]
    },
    {
     "data": {
      "application/vnd.jupyter.widget-view+json": {
       "model_id": "0703effbeff8478294255c4036e6651e",
       "version_major": 2,
       "version_minor": 0
      },
      "text/plain": [
       "  0%|          | 0/174 [00:00<?, ?it/s]"
      ]
     },
     "metadata": {},
     "output_type": "display_data"
    },
    {
     "name": "stdout",
     "output_type": "stream",
     "text": [
      "Mean Validation Loss: 0.6932\n",
      "Elapsed time: 35.494934769471485\n",
      "Checkpoint saved at ../results/efficientnetv2-s-meta/checkpoint_2025-09-28_00-48-38.pth\n",
      "----- Epoch 11 -----\n"
     ]
    },
    {
     "data": {
      "application/vnd.jupyter.widget-view+json": {
       "model_id": "9f90002ddd9d4317907710a34e33a933",
       "version_major": 2,
       "version_minor": 0
      },
      "text/plain": [
       "  0%|          | 0/696 [00:00<?, ?it/s]"
      ]
     },
     "metadata": {},
     "output_type": "display_data"
    },
    {
     "name": "stdout",
     "output_type": "stream",
     "text": [
      "Last output: tensor([2.4498e-05, 3.2723e-05, 4.4703e-05, 4.0054e-05, 4.5419e-05, 2.2113e-05,\n",
      "        1.7226e-05, 2.6047e-05, 2.1636e-05, 6.4552e-05, 2.3901e-05, 5.2691e-05,\n",
      "        5.2691e-05], device='cuda:0', dtype=torch.float16,\n",
      "       grad_fn=<SelectBackward0>)\n",
      "Mean Train Loss: 0.6931\n"
     ]
    },
    {
     "data": {
      "application/vnd.jupyter.widget-view+json": {
       "model_id": "8c88013ae408442e9a7913bc24cff5db",
       "version_major": 2,
       "version_minor": 0
      },
      "text/plain": [
       "  0%|          | 0/174 [00:00<?, ?it/s]"
      ]
     },
     "metadata": {},
     "output_type": "display_data"
    },
    {
     "name": "stdout",
     "output_type": "stream",
     "text": [
      "Mean Validation Loss: 0.6932\n",
      "Elapsed time: 34.46856401761373\n",
      "Checkpoint saved at ../results/efficientnetv2-s-meta/checkpoint_2025-09-28_00-48-38.pth\n",
      "----- Epoch 12 -----\n"
     ]
    },
    {
     "data": {
      "application/vnd.jupyter.widget-view+json": {
       "model_id": "68fa82bbe5b84108a0d2d19629d4026d",
       "version_major": 2,
       "version_minor": 0
      },
      "text/plain": [
       "  0%|          | 0/696 [00:00<?, ?it/s]"
      ]
     },
     "metadata": {},
     "output_type": "display_data"
    },
    {
     "name": "stdout",
     "output_type": "stream",
     "text": [
      "Last output: tensor([2.2650e-06, 3.3379e-06, 6.1989e-06, 5.6624e-06, 5.6624e-06, 3.7551e-06,\n",
      "        5.0664e-06, 3.6359e-06, 3.4571e-06, 5.6624e-06, 2.5630e-06, 1.7881e-06,\n",
      "        3.8147e-06], device='cuda:0', dtype=torch.float16,\n",
      "       grad_fn=<SelectBackward0>)\n",
      "Mean Train Loss: 0.6931\n"
     ]
    },
    {
     "data": {
      "application/vnd.jupyter.widget-view+json": {
       "model_id": "fb1f4688b5f3441d8833482c4c847f26",
       "version_major": 2,
       "version_minor": 0
      },
      "text/plain": [
       "  0%|          | 0/174 [00:00<?, ?it/s]"
      ]
     },
     "metadata": {},
     "output_type": "display_data"
    },
    {
     "name": "stdout",
     "output_type": "stream",
     "text": [
      "Mean Validation Loss: 0.6931\n",
      "Elapsed time: 34.5385444800059\n",
      "Checkpoint saved at ../results/efficientnetv2-s-meta/checkpoint_2025-09-28_00-48-38.pth\n",
      "Best checkpoint updated at ../results/efficientnetv2-s-meta/best_checkpoint_2025-09-28_00-48-38.pth\n",
      "----- Epoch 13 -----\n"
     ]
    },
    {
     "data": {
      "application/vnd.jupyter.widget-view+json": {
       "model_id": "6bcc9fbff5a948fc981739de40f2d9b1",
       "version_major": 2,
       "version_minor": 0
      },
      "text/plain": [
       "  0%|          | 0/696 [00:00<?, ?it/s]"
      ]
     },
     "metadata": {},
     "output_type": "display_data"
    },
    {
     "name": "stdout",
     "output_type": "stream",
     "text": [
      "Last output: tensor([4.1723e-06, 2.2054e-06, 4.2319e-06, 1.7285e-06, 3.1590e-06, 6.8545e-06,\n",
      "        4.2319e-06, 3.0398e-06, 3.4571e-06, 6.3181e-06, 6.4373e-06, 3.4571e-06,\n",
      "        2.9802e-06], device='cuda:0', dtype=torch.float16,\n",
      "       grad_fn=<SelectBackward0>)\n",
      "Mean Train Loss: 0.6931\n"
     ]
    },
    {
     "data": {
      "application/vnd.jupyter.widget-view+json": {
       "model_id": "76163669d646474b89dbd8eefde3d31e",
       "version_major": 2,
       "version_minor": 0
      },
      "text/plain": [
       "  0%|          | 0/174 [00:00<?, ?it/s]"
      ]
     },
     "metadata": {},
     "output_type": "display_data"
    },
    {
     "name": "stdout",
     "output_type": "stream",
     "text": [
      "Mean Validation Loss: 0.6931\n",
      "Elapsed time: 34.44883987903595\n",
      "Checkpoint saved at ../results/efficientnetv2-s-meta/checkpoint_2025-09-28_00-48-38.pth\n",
      "----- Epoch 14 -----\n"
     ]
    },
    {
     "data": {
      "application/vnd.jupyter.widget-view+json": {
       "model_id": "4ad1739d484c42bc851131de32f6ea19",
       "version_major": 2,
       "version_minor": 0
      },
      "text/plain": [
       "  0%|          | 0/696 [00:00<?, ?it/s]"
      ]
     },
     "metadata": {},
     "output_type": "display_data"
    },
    {
     "name": "stdout",
     "output_type": "stream",
     "text": [
      "Last output: tensor([2.4855e-05, 3.4273e-05, 4.2677e-05, 4.1008e-05, 2.9802e-05, 3.5346e-05,\n",
      "        3.3736e-05, 4.9889e-05, 6.0141e-05, 3.0935e-05, 3.8207e-05, 2.4676e-05,\n",
      "        5.1022e-05], device='cuda:0', dtype=torch.float16,\n",
      "       grad_fn=<SelectBackward0>)\n",
      "Mean Train Loss: 0.6931\n"
     ]
    },
    {
     "data": {
      "application/vnd.jupyter.widget-view+json": {
       "model_id": "daa950157ef345bea0a48afa00f2b4a0",
       "version_major": 2,
       "version_minor": 0
      },
      "text/plain": [
       "  0%|          | 0/174 [00:00<?, ?it/s]"
      ]
     },
     "metadata": {},
     "output_type": "display_data"
    },
    {
     "name": "stdout",
     "output_type": "stream",
     "text": [
      "Mean Validation Loss: 0.6931\n",
      "Elapsed time: 34.1305549621582\n",
      "Checkpoint saved at ../results/efficientnetv2-s-meta/checkpoint_2025-09-28_00-48-38.pth\n",
      "----- Epoch 15 -----\n"
     ]
    },
    {
     "data": {
      "application/vnd.jupyter.widget-view+json": {
       "model_id": "ab8912f3310c4ae2b7043259a36f7910",
       "version_major": 2,
       "version_minor": 0
      },
      "text/plain": [
       "  0%|          | 0/696 [00:00<?, ?it/s]"
      ]
     },
     "metadata": {},
     "output_type": "display_data"
    },
    {
     "name": "stdout",
     "output_type": "stream",
     "text": [
      "Last output: tensor([5.9605e-08, 5.9605e-08, 5.9605e-08, 5.9605e-08, 5.9605e-08, 5.9605e-08,\n",
      "        5.9605e-08, 5.9605e-08, 5.9605e-08, 0.0000e+00, 5.9605e-08, 5.9605e-08,\n",
      "        5.9605e-08], device='cuda:0', dtype=torch.float16,\n",
      "       grad_fn=<SelectBackward0>)\n",
      "Mean Train Loss: 0.6931\n"
     ]
    },
    {
     "data": {
      "application/vnd.jupyter.widget-view+json": {
       "model_id": "20e6792fa6604a3caadc56233313e481",
       "version_major": 2,
       "version_minor": 0
      },
      "text/plain": [
       "  0%|          | 0/174 [00:00<?, ?it/s]"
      ]
     },
     "metadata": {},
     "output_type": "display_data"
    },
    {
     "name": "stdout",
     "output_type": "stream",
     "text": [
      "Mean Validation Loss: 0.6931\n",
      "Elapsed time: 34.49714771509171\n",
      "Checkpoint saved at ../results/efficientnetv2-s-meta/checkpoint_2025-09-28_00-48-38.pth\n",
      "Best checkpoint updated at ../results/efficientnetv2-s-meta/best_checkpoint_2025-09-28_00-48-38.pth\n",
      "----- Epoch 16 -----\n"
     ]
    },
    {
     "data": {
      "application/vnd.jupyter.widget-view+json": {
       "model_id": "e69692c8d341457aa0b258d15099413d",
       "version_major": 2,
       "version_minor": 0
      },
      "text/plain": [
       "  0%|          | 0/696 [00:00<?, ?it/s]"
      ]
     },
     "metadata": {},
     "output_type": "display_data"
    },
    {
     "name": "stdout",
     "output_type": "stream",
     "text": [
      "Last output: tensor([0.0000e+00, 5.9605e-08, 5.9605e-08, 0.0000e+00, 0.0000e+00, 0.0000e+00,\n",
      "        5.9605e-08, 0.0000e+00, 0.0000e+00, 0.0000e+00, 0.0000e+00, 0.0000e+00,\n",
      "        0.0000e+00], device='cuda:0', dtype=torch.float16,\n",
      "       grad_fn=<SelectBackward0>)\n",
      "Mean Train Loss: 0.6931\n"
     ]
    },
    {
     "data": {
      "application/vnd.jupyter.widget-view+json": {
       "model_id": "511d08843ab3435dba3893cac2cdf192",
       "version_major": 2,
       "version_minor": 0
      },
      "text/plain": [
       "  0%|          | 0/174 [00:00<?, ?it/s]"
      ]
     },
     "metadata": {},
     "output_type": "display_data"
    },
    {
     "name": "stdout",
     "output_type": "stream",
     "text": [
      "Mean Validation Loss: 0.6931\n",
      "Elapsed time: 34.311351068814595\n",
      "Checkpoint saved at ../results/efficientnetv2-s-meta/checkpoint_2025-09-28_00-48-38.pth\n",
      "Best checkpoint updated at ../results/efficientnetv2-s-meta/best_checkpoint_2025-09-28_00-48-38.pth\n",
      "----- Epoch 17 -----\n"
     ]
    },
    {
     "data": {
      "application/vnd.jupyter.widget-view+json": {
       "model_id": "559129bfd43f455e944323cd0d2a30cc",
       "version_major": 2,
       "version_minor": 0
      },
      "text/plain": [
       "  0%|          | 0/696 [00:00<?, ?it/s]"
      ]
     },
     "metadata": {},
     "output_type": "display_data"
    },
    {
     "name": "stdout",
     "output_type": "stream",
     "text": [
      "Last output: tensor([3.5763e-07, 2.9802e-07, 5.9605e-07, 4.1723e-07, 2.9802e-07, 2.9802e-07,\n",
      "        2.3842e-07, 2.9802e-07, 3.5763e-07, 4.7684e-07, 2.9802e-07, 2.9802e-07,\n",
      "        3.5763e-07], device='cuda:0', dtype=torch.float16,\n",
      "       grad_fn=<SelectBackward0>)\n",
      "Mean Train Loss: 0.6931\n"
     ]
    },
    {
     "data": {
      "application/vnd.jupyter.widget-view+json": {
       "model_id": "f705f62805354e4c9e03712ea116116d",
       "version_major": 2,
       "version_minor": 0
      },
      "text/plain": [
       "  0%|          | 0/174 [00:00<?, ?it/s]"
      ]
     },
     "metadata": {},
     "output_type": "display_data"
    },
    {
     "name": "stdout",
     "output_type": "stream",
     "text": [
      "Mean Validation Loss: 0.6931\n",
      "Elapsed time: 34.54236826499303\n",
      "Checkpoint saved at ../results/efficientnetv2-s-meta/checkpoint_2025-09-28_00-48-38.pth\n",
      "Best checkpoint updated at ../results/efficientnetv2-s-meta/best_checkpoint_2025-09-28_00-48-38.pth\n",
      "----- Epoch 18 -----\n"
     ]
    },
    {
     "data": {
      "application/vnd.jupyter.widget-view+json": {
       "model_id": "05f6fa5ae61a4335aed0f82691726be2",
       "version_major": 2,
       "version_minor": 0
      },
      "text/plain": [
       "  0%|          | 0/696 [00:00<?, ?it/s]"
      ]
     },
     "metadata": {},
     "output_type": "display_data"
    },
    {
     "name": "stdout",
     "output_type": "stream",
     "text": [
      "Last output: tensor([5.9605e-08, 5.9605e-08, 5.9605e-08, 5.9605e-08, 5.9605e-08, 5.9605e-08,\n",
      "        5.9605e-08, 5.9605e-08, 5.9605e-08, 0.0000e+00, 0.0000e+00, 5.9605e-08,\n",
      "        5.9605e-08], device='cuda:0', dtype=torch.float16,\n",
      "       grad_fn=<SelectBackward0>)\n",
      "Mean Train Loss: 0.6931\n"
     ]
    },
    {
     "data": {
      "application/vnd.jupyter.widget-view+json": {
       "model_id": "b2164a8dd43a403e945294c84b964a90",
       "version_major": 2,
       "version_minor": 0
      },
      "text/plain": [
       "  0%|          | 0/174 [00:00<?, ?it/s]"
      ]
     },
     "metadata": {},
     "output_type": "display_data"
    },
    {
     "name": "stdout",
     "output_type": "stream",
     "text": [
      "Mean Validation Loss: 0.6931\n",
      "Elapsed time: 34.50058249632517\n",
      "Checkpoint saved at ../results/efficientnetv2-s-meta/checkpoint_2025-09-28_00-48-38.pth\n",
      "Best checkpoint updated at ../results/efficientnetv2-s-meta/best_checkpoint_2025-09-28_00-48-38.pth\n",
      "----- Epoch 19 -----\n"
     ]
    },
    {
     "data": {
      "application/vnd.jupyter.widget-view+json": {
       "model_id": "5b03ebb089e347d5a602df4254e84d25",
       "version_major": 2,
       "version_minor": 0
      },
      "text/plain": [
       "  0%|          | 0/696 [00:00<?, ?it/s]"
      ]
     },
     "metadata": {},
     "output_type": "display_data"
    },
    {
     "name": "stdout",
     "output_type": "stream",
     "text": [
      "Last output: tensor([2.2650e-06, 1.9073e-06, 3.0398e-06, 3.6359e-06, 3.0994e-06, 2.1458e-06,\n",
      "        2.0862e-06, 2.8610e-06, 3.6955e-06, 4.4107e-06, 3.5763e-06, 1.8477e-06,\n",
      "        2.4438e-06], device='cuda:0', dtype=torch.float16,\n",
      "       grad_fn=<SelectBackward0>)\n",
      "Mean Train Loss: 0.6931\n"
     ]
    },
    {
     "data": {
      "application/vnd.jupyter.widget-view+json": {
       "model_id": "8923079f46774b41980882e0cd5586ee",
       "version_major": 2,
       "version_minor": 0
      },
      "text/plain": [
       "  0%|          | 0/174 [00:00<?, ?it/s]"
      ]
     },
     "metadata": {},
     "output_type": "display_data"
    },
    {
     "name": "stdout",
     "output_type": "stream",
     "text": [
      "Mean Validation Loss: 0.6931\n",
      "Elapsed time: 34.542909328142805\n",
      "Checkpoint saved at ../results/efficientnetv2-s-meta/checkpoint_2025-09-28_00-48-38.pth\n",
      "----- Epoch 20 -----\n"
     ]
    },
    {
     "data": {
      "application/vnd.jupyter.widget-view+json": {
       "model_id": "681759fae54e44168a86790906b36e4d",
       "version_major": 2,
       "version_minor": 0
      },
      "text/plain": [
       "  0%|          | 0/696 [00:00<?, ?it/s]"
      ]
     },
     "metadata": {},
     "output_type": "display_data"
    },
    {
     "name": "stdout",
     "output_type": "stream",
     "text": [
      "Last output: tensor([7.7486e-07, 6.5565e-07, 7.1526e-07, 9.5367e-07, 5.9605e-07, 1.0729e-06,\n",
      "        7.1526e-07, 1.0133e-06, 6.5565e-07, 8.3447e-07, 7.1526e-07, 6.5565e-07,\n",
      "        3.5763e-07], device='cuda:0', dtype=torch.float16,\n",
      "       grad_fn=<SelectBackward0>)\n",
      "Mean Train Loss: 0.6931\n"
     ]
    },
    {
     "data": {
      "application/vnd.jupyter.widget-view+json": {
       "model_id": "c7f19d26058f4e939feb5fa0bf4e9188",
       "version_major": 2,
       "version_minor": 0
      },
      "text/plain": [
       "  0%|          | 0/174 [00:00<?, ?it/s]"
      ]
     },
     "metadata": {},
     "output_type": "display_data"
    },
    {
     "name": "stdout",
     "output_type": "stream",
     "text": [
      "Mean Validation Loss: 0.6931\n",
      "Elapsed time: 34.49734893242518\n",
      "Checkpoint saved at ../results/efficientnetv2-s-meta/checkpoint_2025-09-28_00-48-38.pth\n",
      "Best checkpoint updated at ../results/efficientnetv2-s-meta/best_checkpoint_2025-09-28_00-48-38.pth\n",
      "----- Epoch 21 -----\n"
     ]
    },
    {
     "data": {
      "application/vnd.jupyter.widget-view+json": {
       "model_id": "6fc8e09b0553412e8b355e82d275c4af",
       "version_major": 2,
       "version_minor": 0
      },
      "text/plain": [
       "  0%|          | 0/696 [00:00<?, ?it/s]"
      ]
     },
     "metadata": {},
     "output_type": "display_data"
    },
    {
     "name": "stdout",
     "output_type": "stream",
     "text": [
      "Last output: tensor([1.1921e-07, 1.1921e-07, 1.7881e-07, 1.1921e-07, 2.3842e-07, 1.7881e-07,\n",
      "        2.3842e-07, 1.1921e-07, 1.7881e-07, 3.5763e-07, 1.1921e-07, 2.3842e-07,\n",
      "        1.7881e-07], device='cuda:0', dtype=torch.float16,\n",
      "       grad_fn=<SelectBackward0>)\n",
      "Mean Train Loss: 0.6931\n"
     ]
    },
    {
     "data": {
      "application/vnd.jupyter.widget-view+json": {
       "model_id": "3bbdd68e68d4475fb873a934d85d3afa",
       "version_major": 2,
       "version_minor": 0
      },
      "text/plain": [
       "  0%|          | 0/174 [00:00<?, ?it/s]"
      ]
     },
     "metadata": {},
     "output_type": "display_data"
    },
    {
     "name": "stdout",
     "output_type": "stream",
     "text": [
      "Mean Validation Loss: 0.6931\n",
      "Elapsed time: 34.64737315177918\n",
      "Checkpoint saved at ../results/efficientnetv2-s-meta/checkpoint_2025-09-28_00-48-38.pth\n",
      "----- Epoch 22 -----\n"
     ]
    },
    {
     "data": {
      "application/vnd.jupyter.widget-view+json": {
       "model_id": "626710782581418db0e762ac41d41f4b",
       "version_major": 2,
       "version_minor": 0
      },
      "text/plain": [
       "  0%|          | 0/696 [00:00<?, ?it/s]"
      ]
     },
     "metadata": {},
     "output_type": "display_data"
    },
    {
     "name": "stdout",
     "output_type": "stream",
     "text": [
      "Last output: tensor([5.9605e-08, 5.9605e-08, 1.1921e-07, 1.1921e-07, 1.1921e-07, 5.9605e-08,\n",
      "        5.9605e-08, 1.1921e-07, 5.9605e-08, 1.1921e-07, 5.9605e-08, 5.9605e-08,\n",
      "        1.1921e-07], device='cuda:0', dtype=torch.float16,\n",
      "       grad_fn=<SelectBackward0>)\n",
      "Mean Train Loss: 0.6931\n"
     ]
    },
    {
     "data": {
      "application/vnd.jupyter.widget-view+json": {
       "model_id": "27a166ff397c4d51be91b99746b6b019",
       "version_major": 2,
       "version_minor": 0
      },
      "text/plain": [
       "  0%|          | 0/174 [00:00<?, ?it/s]"
      ]
     },
     "metadata": {},
     "output_type": "display_data"
    },
    {
     "name": "stdout",
     "output_type": "stream",
     "text": [
      "Mean Validation Loss: 0.6931\n",
      "Elapsed time: 34.54990657170614\n",
      "Checkpoint saved at ../results/efficientnetv2-s-meta/checkpoint_2025-09-28_00-48-38.pth\n",
      "Best checkpoint updated at ../results/efficientnetv2-s-meta/best_checkpoint_2025-09-28_00-48-38.pth\n",
      "----- Epoch 23 -----\n"
     ]
    },
    {
     "data": {
      "application/vnd.jupyter.widget-view+json": {
       "model_id": "9b528b4b5a474b6689bb2336c6812339",
       "version_major": 2,
       "version_minor": 0
      },
      "text/plain": [
       "  0%|          | 0/696 [00:00<?, ?it/s]"
      ]
     },
     "metadata": {},
     "output_type": "display_data"
    },
    {
     "name": "stdout",
     "output_type": "stream",
     "text": [
      "Last output: tensor([1.7881e-07, 1.7881e-07, 7.7486e-07, 2.9802e-07, 5.3644e-07, 2.9802e-07,\n",
      "        4.7684e-07, 2.3842e-07, 3.5763e-07, 2.9802e-07, 4.1723e-07, 2.3842e-07,\n",
      "        2.3842e-07], device='cuda:0', dtype=torch.float16,\n",
      "       grad_fn=<SelectBackward0>)\n",
      "Mean Train Loss: 0.6931\n"
     ]
    },
    {
     "data": {
      "application/vnd.jupyter.widget-view+json": {
       "model_id": "360cf371173241e08e04f82bd0b9e947",
       "version_major": 2,
       "version_minor": 0
      },
      "text/plain": [
       "  0%|          | 0/174 [00:00<?, ?it/s]"
      ]
     },
     "metadata": {},
     "output_type": "display_data"
    },
    {
     "name": "stdout",
     "output_type": "stream",
     "text": [
      "Mean Validation Loss: 0.6931\n",
      "Elapsed time: 34.653025265534716\n",
      "Checkpoint saved at ../results/efficientnetv2-s-meta/checkpoint_2025-09-28_00-48-38.pth\n",
      "Best checkpoint updated at ../results/efficientnetv2-s-meta/best_checkpoint_2025-09-28_00-48-38.pth\n",
      "----- Epoch 24 -----\n"
     ]
    },
    {
     "data": {
      "application/vnd.jupyter.widget-view+json": {
       "model_id": "b01d0f9984304312963559d6951c3d05",
       "version_major": 2,
       "version_minor": 0
      },
      "text/plain": [
       "  0%|          | 0/696 [00:00<?, ?it/s]"
      ]
     },
     "metadata": {},
     "output_type": "display_data"
    },
    {
     "name": "stdout",
     "output_type": "stream",
     "text": [
      "Last output: tensor([8.3447e-07, 1.9670e-06, 8.9407e-07, 8.9407e-07, 1.4305e-06, 7.7486e-07,\n",
      "        1.0729e-06, 1.6093e-06, 6.5565e-07, 8.3447e-07, 1.3709e-06, 8.3447e-07,\n",
      "        1.2517e-06], device='cuda:0', dtype=torch.float16,\n",
      "       grad_fn=<SelectBackward0>)\n",
      "Mean Train Loss: 0.6931\n"
     ]
    },
    {
     "data": {
      "application/vnd.jupyter.widget-view+json": {
       "model_id": "1bbe0675a95741879711df673d238719",
       "version_major": 2,
       "version_minor": 0
      },
      "text/plain": [
       "  0%|          | 0/174 [00:00<?, ?it/s]"
      ]
     },
     "metadata": {},
     "output_type": "display_data"
    },
    {
     "name": "stdout",
     "output_type": "stream",
     "text": [
      "Mean Validation Loss: 0.6931\n",
      "Elapsed time: 34.727806190649666\n",
      "Checkpoint saved at ../results/efficientnetv2-s-meta/checkpoint_2025-09-28_00-48-38.pth\n",
      "----- Epoch 25 -----\n"
     ]
    },
    {
     "data": {
      "application/vnd.jupyter.widget-view+json": {
       "model_id": "bcd24fb5c6204e4282344a64afae0d14",
       "version_major": 2,
       "version_minor": 0
      },
      "text/plain": [
       "  0%|          | 0/696 [00:00<?, ?it/s]"
      ]
     },
     "metadata": {},
     "output_type": "display_data"
    },
    {
     "name": "stdout",
     "output_type": "stream",
     "text": [
      "Last output: tensor([0., 0., 0., 0., 0., 0., 0., 0., 0., 0., 0., 0., 0.], device='cuda:0',\n",
      "       dtype=torch.float16, grad_fn=<SelectBackward0>)\n",
      "Mean Train Loss: 0.6931\n"
     ]
    },
    {
     "data": {
      "application/vnd.jupyter.widget-view+json": {
       "model_id": "b90b777fbc90469aacd702cdc54aa8f1",
       "version_major": 2,
       "version_minor": 0
      },
      "text/plain": [
       "  0%|          | 0/174 [00:00<?, ?it/s]"
      ]
     },
     "metadata": {},
     "output_type": "display_data"
    },
    {
     "name": "stdout",
     "output_type": "stream",
     "text": [
      "Mean Validation Loss: 0.6931\n",
      "Elapsed time: 34.73173448642095\n",
      "Checkpoint saved at ../results/efficientnetv2-s-meta/checkpoint_2025-09-28_00-48-38.pth\n",
      "Artifact was logged to W&B\n"
     ]
    }
   ],
   "source": [
    "main()\n"
   ]
  },
  {
   "cell_type": "code",
   "execution_count": 29,
   "id": "f94bd995",
   "metadata": {},
   "outputs": [
    {
     "name": "stderr",
     "output_type": "stream",
     "text": [
      "\u001b[34m\u001b[1mwandb\u001b[0m: \u001b[32m\u001b[41mERROR\u001b[0m The nbformat package was not found. It is required to save notebook history.\n"
     ]
    },
    {
     "data": {
      "text/html": [],
      "text/plain": [
       "<IPython.core.display.HTML object>"
      ]
     },
     "metadata": {},
     "output_type": "display_data"
    },
    {
     "data": {
      "text/html": [
       "<br>    <style><br>        .wandb-row {<br>            display: flex;<br>            flex-direction: row;<br>            flex-wrap: wrap;<br>            justify-content: flex-start;<br>            width: 100%;<br>        }<br>        .wandb-col {<br>            display: flex;<br>            flex-direction: column;<br>            flex-basis: 100%;<br>            flex: 1;<br>            padding: 10px;<br>        }<br>    </style><br><div class=\"wandb-row\"><div class=\"wandb-col\"><h3>Run history:</h3><br/><table class=\"wandb\"><tr><td>time</td><td>█▄▁▁▁▁▂▂▂▃▂▂▂▁▂▁▂▂▂▂▂▂▂▂▂</td></tr></table><br/></div><div class=\"wandb-col\"><h3>Run summary:</h3><br/><table class=\"wandb\"><tr><td>time</td><td>34.73173</td></tr></table><br/></div></div>"
      ],
      "text/plain": [
       "<IPython.core.display.HTML object>"
      ]
     },
     "metadata": {},
     "output_type": "display_data"
    },
    {
     "data": {
      "text/html": [
       " View run <strong style=\"color:#cdcd00\">vague-dawn-6</strong> at: <a href='https://wandb.ai/ataracsia/RSNA-IAD/runs/aiirz394' target=\"_blank\">https://wandb.ai/ataracsia/RSNA-IAD/runs/aiirz394</a><br> View project at: <a href='https://wandb.ai/ataracsia/RSNA-IAD' target=\"_blank\">https://wandb.ai/ataracsia/RSNA-IAD</a><br>Synced 5 W&B file(s), 0 media file(s), 2 artifact file(s) and 0 other file(s)"
      ],
      "text/plain": [
       "<IPython.core.display.HTML object>"
      ]
     },
     "metadata": {},
     "output_type": "display_data"
    },
    {
     "data": {
      "text/html": [
       "Find logs at: <code>.\\wandb\\run-20250928_004839-aiirz394\\logs</code>"
      ],
      "text/plain": [
       "<IPython.core.display.HTML object>"
      ]
     },
     "metadata": {},
     "output_type": "display_data"
    }
   ],
   "source": [
    "if CFG.use_wandb:\n",
    "    run.finish()\n"
   ]
  }
 ],
 "metadata": {
  "kernelspec": {
   "display_name": "Kaggle",
   "language": "python",
   "name": "python3"
  },
  "language_info": {
   "codemirror_mode": {
    "name": "ipython",
    "version": 3
   },
   "file_extension": ".py",
   "mimetype": "text/x-python",
   "name": "python",
   "nbconvert_exporter": "python",
   "pygments_lexer": "ipython3",
   "version": "3.11.13"
  }
 },
 "nbformat": 4,
 "nbformat_minor": 5
}
