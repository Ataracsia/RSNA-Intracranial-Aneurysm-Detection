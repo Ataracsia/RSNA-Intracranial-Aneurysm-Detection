{
 "cells": [
  {
   "cell_type": "markdown",
   "id": "56e82235",
   "metadata": {},
   "source": [
    "このNotebookは、モデルを学習させるために作られたものである。"
   ]
  },
  {
   "cell_type": "markdown",
   "id": "79324f0b",
   "metadata": {},
   "source": [
    "# 1. Configuration"
   ]
  },
  {
   "cell_type": "code",
   "execution_count": 1,
   "id": "dd18a0cb",
   "metadata": {},
   "outputs": [],
   "source": [
    "# Run Configuration\n",
    "NOTEBOOK_NAME = \"swin-s-base-256x16\"\n",
    "SAVE_DIR = \"../results/\" + NOTEBOOK_NAME\n",
    "TEST_RUN = False\n",
    "SEED = 42\n",
    "DEVICE = 'cuda'\n",
    "\n",
    "# Weights & Biases Configuration\n",
    "USE_WANDB = True\n",
    "WANDB_INIT = {\n",
    "    'project': 'RSNA-IAD',\n",
    "    'group': 'Image Classification',\n",
    "    'job_type': 'training_Swin_s',\n",
    "    'save_code': True,\n",
    "}\n",
    "ARTIFACT = {\n",
    "    'name': NOTEBOOK_NAME,\n",
    "    'type': 'model, optimizer, scheduler',\n",
    "}\n",
    "\n",
    "# Loop Configuration\n",
    "NUM_EPOCHS = 20\n",
    "PATIENCE = 5\n",
    "\n",
    "# Data Configuration\n",
    "IMAGE_SIZE = 256\n",
    "NUM_SLICES = 16\n",
    "BATCH_SIZE = 5\n",
    "LABEL_NAMES = [\n",
    "    # 13 classes\n",
    "    'Left Infraclinoid Internal Carotid Artery',\n",
    "    'Right Infraclinoid Internal Carotid Artery',\n",
    "    'Left Supraclinoid Internal Carotid Artery',\n",
    "    'Right Supraclinoid Internal Carotid Artery',\n",
    "    'Left Middle Cerebral Artery',\n",
    "    'Right Middle Cerebral Artery',\n",
    "    'Anterior Communicating Artery',\n",
    "    'Left Anterior Cerebral Artery',\n",
    "    'Right Anterior Cerebral Artery',\n",
    "    'Left Posterior Communicating Artery',\n",
    "    'Right Posterior Communicating Artery',\n",
    "    'Basilar Tip',\n",
    "    'Other Posterior Circulation',\n",
    "    # 'Aneurysm Present',\n",
    "]\n"
   ]
  },
  {
   "cell_type": "code",
   "execution_count": 2,
   "id": "9dff7a4b",
   "metadata": {},
   "outputs": [],
   "source": [
    "class Configuration:\n",
    "    \n",
    "    notebook_name = NOTEBOOK_NAME\n",
    "    save_dir = SAVE_DIR\n",
    "    test_run = TEST_RUN\n",
    "    seed = SEED\n",
    "    device = DEVICE\n",
    "    use_wandb = USE_WANDB\n",
    "    wandb_init = WANDB_INIT\n",
    "    artifact = ARTIFACT\n",
    "    image_size = IMAGE_SIZE\n",
    "    num_slices = NUM_SLICES\n",
    "    batch_size = BATCH_SIZE\n",
    "    num_epochs = NUM_EPOCHS\n",
    "    patience = PATIENCE\n",
    "    label_names = LABEL_NAMES\n",
    "\n",
    "CFG = Configuration\n"
   ]
  },
  {
   "cell_type": "markdown",
   "id": "42800cbd",
   "metadata": {},
   "source": [
    "# 2. Import"
   ]
  },
  {
   "cell_type": "code",
   "execution_count": 3,
   "id": "4b9b7111",
   "metadata": {},
   "outputs": [],
   "source": [
    "import os\n",
    "import random\n",
    "import warnings\n",
    "warnings.filterwarnings('ignore')\n",
    "from pathlib import Path\n",
    "from collections import defaultdict\n",
    "from typing import List, Dict, Optional, Tuple\n",
    "from IPython.display import display\n",
    "import datetime\n",
    "import time\n",
    "from tqdm.notebook import tqdm\n",
    "\n",
    "# Data handling\n",
    "import numpy as np\n",
    "import polars as pl\n",
    "import pandas as pd\n",
    "from sklearn.model_selection import StratifiedShuffleSplit, StratifiedKFold\n",
    "from skmultilearn.model_selection import iterative_train_test_split\n",
    "\n",
    "# Medical imaging\n",
    "import pydicom\n",
    "import cv2\n",
    "\n",
    "# Machine Lerning \n",
    "import torch\n",
    "import torch.nn as nn\n",
    "import torch.nn.functional as F\n",
    "from torch.amp import autocast\n",
    "import torchvision\n",
    "import timm\n",
    "\n",
    "# Transformations\n",
    "import albumentations as A\n",
    "from albumentations.pytorch import ToTensorV2\n",
    "\n",
    "# Visualization\n",
    "import matplotlib.pyplot as plt\n",
    "import seaborn as sns\n",
    "import PIL.Image as Image\n",
    "\n",
    "# Experiment Management\n",
    "import wandb\n",
    "\n",
    "# Competition API\n",
    "# import kaggle_evaluation.rsna_inference_server\n"
   ]
  },
  {
   "cell_type": "code",
   "execution_count": 4,
   "id": "d17163be",
   "metadata": {},
   "outputs": [
    {
     "name": "stdout",
     "output_type": "stream",
     "text": [
      "Using device: cuda\n"
     ]
    }
   ],
   "source": [
    "# datetime for unique checkpoint filenames\n",
    "date_time = datetime.datetime.now()\n",
    "date_time = date_time.strftime('%Y-%m-%d_%H-%M-%S')\n",
    "\n",
    "# Set device\n",
    "device = torch.device('cuda' if torch.cuda.is_available() else 'cpu')\n",
    "print(f\"Using device: {device}\")\n"
   ]
  },
  {
   "cell_type": "code",
   "execution_count": 5,
   "id": "35d0f324",
   "metadata": {},
   "outputs": [],
   "source": [
    "def set_random_seeds(seed=CFG.seed, deterministic=False):\n",
    "    \"\"\"\n",
    "    Set random seed.\n",
    "    \n",
    "    Args:\n",
    "        seed (int): Seed to be used.\n",
    "        deterministic (bool): Whether to set the deterministic option for\n",
    "            CUDNN backend, i.e., set `torch.backends.cudnn.deterministic`\n",
    "            to True and `torch.backends.cudnn.benchmark` to False.\n",
    "            Default: False.\n",
    "    \"\"\"\n",
    "    random.seed(seed)\n",
    "    os.environ['PYTHONHASHSEED'] = str(seed)\n",
    "    np.random.seed(seed)\n",
    "    torch.manual_seed(seed)\n",
    "    torch.cuda.manual_seed(seed)\n",
    "    torch.backends.cudnn.deterministic = True\n",
    "    \n",
    "    if deterministic:\n",
    "        torch.backends.cudnn.benchmark = True\n",
    "\n",
    "set_random_seeds(seed=CFG.seed, deterministic=True)\n"
   ]
  },
  {
   "cell_type": "markdown",
   "id": "5cf18207",
   "metadata": {},
   "source": [
    "# 3. Weights & Biases"
   ]
  },
  {
   "cell_type": "code",
   "execution_count": 6,
   "id": "7df88fa9",
   "metadata": {},
   "outputs": [
    {
     "name": "stderr",
     "output_type": "stream",
     "text": [
      "\u001b[34m\u001b[1mwandb\u001b[0m: \u001b[33mWARNING\u001b[0m WANDB_NOTEBOOK_NAME should be a path to a notebook file, couldn't find swin-s-base-256x16.\n",
      "\u001b[34m\u001b[1mwandb\u001b[0m: Currently logged in as: \u001b[33mataracsia\u001b[0m to \u001b[32mhttps://api.wandb.ai\u001b[0m. Use \u001b[1m`wandb login --relogin`\u001b[0m to force relogin\n"
     ]
    },
    {
     "data": {
      "text/html": [
       "Tracking run with wandb version 0.21.1"
      ],
      "text/plain": [
       "<IPython.core.display.HTML object>"
      ]
     },
     "metadata": {},
     "output_type": "display_data"
    },
    {
     "data": {
      "text/html": [
       "Run data is saved locally in <code>c:\\Users\\emanon\\Library\\Kaggle\\rsna-intracranial-aneurysm-detection_ver2\\experiments\\wandb\\run-20250924_015536-x7hzb3iq</code>"
      ],
      "text/plain": [
       "<IPython.core.display.HTML object>"
      ]
     },
     "metadata": {},
     "output_type": "display_data"
    },
    {
     "data": {
      "text/html": [
       "Syncing run <strong><a href='https://wandb.ai/ataracsia/RSNA-IAD/runs/x7hzb3iq' target=\"_blank\">sweet-pyramid-3</a></strong> to <a href='https://wandb.ai/ataracsia/RSNA-IAD' target=\"_blank\">Weights & Biases</a> (<a href='https://wandb.me/developer-guide' target=\"_blank\">docs</a>)<br>"
      ],
      "text/plain": [
       "<IPython.core.display.HTML object>"
      ]
     },
     "metadata": {},
     "output_type": "display_data"
    },
    {
     "data": {
      "text/html": [
       " View project at <a href='https://wandb.ai/ataracsia/RSNA-IAD' target=\"_blank\">https://wandb.ai/ataracsia/RSNA-IAD</a>"
      ],
      "text/plain": [
       "<IPython.core.display.HTML object>"
      ]
     },
     "metadata": {},
     "output_type": "display_data"
    },
    {
     "data": {
      "text/html": [
       " View run at <a href='https://wandb.ai/ataracsia/RSNA-IAD/runs/x7hzb3iq' target=\"_blank\">https://wandb.ai/ataracsia/RSNA-IAD/runs/x7hzb3iq</a>"
      ],
      "text/plain": [
       "<IPython.core.display.HTML object>"
      ]
     },
     "metadata": {},
     "output_type": "display_data"
    }
   ],
   "source": [
    "if CFG.use_wandb:\n",
    "    os.environ['WANDB_NOTEBOOK_NAME'] = CFG.notebook_name\n",
    "    wandb.login()\n",
    "    run = wandb.init(**CFG.wandb_init)\n",
    "    artifact = wandb.Artifact(**CFG.artifact)\n",
    "else:\n",
    "    run = None\n",
    "    artifact = None\n"
   ]
  },
  {
   "cell_type": "code",
   "execution_count": 7,
   "id": "ce6b9cc2",
   "metadata": {},
   "outputs": [],
   "source": [
    "def alert_by_wandb(title='', text=''):\n",
    "    wandb.alert(title, text)\n"
   ]
  },
  {
   "cell_type": "markdown",
   "id": "0b593a9c",
   "metadata": {},
   "source": [
    "# 4. Model"
   ]
  },
  {
   "cell_type": "code",
   "execution_count": 8,
   "id": "13629b6f",
   "metadata": {},
   "outputs": [],
   "source": [
    "# Model\n",
    "# https://docs.pytorch.org/vision/main/models/generated/torchvision.models.swin_s.html#torchvision.models.Swin_S_Weights\n",
    "\n",
    "model = torchvision.models.swin_s(pretrained=False, num_classes=13)\n",
    "model.features[0][0] = nn.Conv2d(\n",
    "    in_channels=CFG.num_slices,\n",
    "    out_channels=96,\n",
    "    kernel_size=4,\n",
    "    stride=4,\n",
    "    padding=0\n",
    ")\n",
    "model.to(device)\n",
    "\n",
    "# Optimizer\n",
    "optimizer = torch.optim.AdamW(model.parameters())\n",
    "\n",
    "# Loss Function\n",
    "criterion = nn.BCEWithLogitsLoss()\n",
    "\n",
    "# Scheduler\n",
    "scheduler = torch.optim.lr_scheduler.CosineAnnealingLR(\n",
    "    optimizer,\n",
    "    T_max=CFG.num_epochs\n",
    ")\n"
   ]
  },
  {
   "cell_type": "code",
   "execution_count": 9,
   "id": "ceb93c53",
   "metadata": {},
   "outputs": [
    {
     "name": "stdout",
     "output_type": "stream",
     "text": [
      "All parameters is in cuda\n"
     ]
    }
   ],
   "source": [
    "is_in_cuda_list = []\n",
    "\n",
    "for name, parameter in model.named_parameters():\n",
    "    # determination of cuda and its storage\n",
    "    is_in_cuda_list.append(parameter.is_cuda)\n",
    "    \n",
    "if all(is_in_cuda_list):\n",
    "    print('All parameters is in cuda')\n",
    "        \n",
    "else:\n",
    "    print('One of the parameters is not in the cuda.')\n"
   ]
  },
  {
   "cell_type": "markdown",
   "id": "9314cd98",
   "metadata": {},
   "source": [
    "# 5. Dataset"
   ]
  },
  {
   "cell_type": "code",
   "execution_count": 10,
   "id": "97f1c259",
   "metadata": {},
   "outputs": [
    {
     "data": {
      "text/html": [
       "<div>\n",
       "<style scoped>\n",
       "    .dataframe tbody tr th:only-of-type {\n",
       "        vertical-align: middle;\n",
       "    }\n",
       "\n",
       "    .dataframe tbody tr th {\n",
       "        vertical-align: top;\n",
       "    }\n",
       "\n",
       "    .dataframe thead th {\n",
       "        text-align: right;\n",
       "    }\n",
       "</style>\n",
       "<table border=\"1\" class=\"dataframe\">\n",
       "  <thead>\n",
       "    <tr style=\"text-align: right;\">\n",
       "      <th></th>\n",
       "      <th>series_id</th>\n",
       "      <th>npy_path</th>\n",
       "    </tr>\n",
       "  </thead>\n",
       "  <tbody>\n",
       "    <tr>\n",
       "      <th>0</th>\n",
       "      <td>1.2.826.0.1.3680043.8.498.10004044428023505108...</td>\n",
       "      <td>../series_npy/256/1.2.826.0.1.3680043.8.498.10...</td>\n",
       "    </tr>\n",
       "    <tr>\n",
       "      <th>1</th>\n",
       "      <td>1.2.826.0.1.3680043.8.498.10004044428023505108...</td>\n",
       "      <td>../series_npy/256/1.2.826.0.1.3680043.8.498.10...</td>\n",
       "    </tr>\n",
       "    <tr>\n",
       "      <th>2</th>\n",
       "      <td>1.2.826.0.1.3680043.8.498.10004044428023505108...</td>\n",
       "      <td>../series_npy/256/1.2.826.0.1.3680043.8.498.10...</td>\n",
       "    </tr>\n",
       "    <tr>\n",
       "      <th>3</th>\n",
       "      <td>1.2.826.0.1.3680043.8.498.10004044428023505108...</td>\n",
       "      <td>../series_npy/256/1.2.826.0.1.3680043.8.498.10...</td>\n",
       "    </tr>\n",
       "    <tr>\n",
       "      <th>4</th>\n",
       "      <td>1.2.826.0.1.3680043.8.498.10004044428023505108...</td>\n",
       "      <td>../series_npy/256/1.2.826.0.1.3680043.8.498.10...</td>\n",
       "    </tr>\n",
       "    <tr>\n",
       "      <th>...</th>\n",
       "      <td>...</td>\n",
       "      <td>...</td>\n",
       "    </tr>\n",
       "    <tr>\n",
       "      <th>1001301</th>\n",
       "      <td>1.2.826.0.1.3680043.8.498.99985209798463601651...</td>\n",
       "      <td>../series_npy/256/1.2.826.0.1.3680043.8.498.99...</td>\n",
       "    </tr>\n",
       "    <tr>\n",
       "      <th>1001302</th>\n",
       "      <td>1.2.826.0.1.3680043.8.498.99985209798463601651...</td>\n",
       "      <td>../series_npy/256/1.2.826.0.1.3680043.8.498.99...</td>\n",
       "    </tr>\n",
       "    <tr>\n",
       "      <th>1001303</th>\n",
       "      <td>1.2.826.0.1.3680043.8.498.99985209798463601651...</td>\n",
       "      <td>../series_npy/256/1.2.826.0.1.3680043.8.498.99...</td>\n",
       "    </tr>\n",
       "    <tr>\n",
       "      <th>1001304</th>\n",
       "      <td>1.2.826.0.1.3680043.8.498.99985209798463601651...</td>\n",
       "      <td>../series_npy/256/1.2.826.0.1.3680043.8.498.99...</td>\n",
       "    </tr>\n",
       "    <tr>\n",
       "      <th>1001305</th>\n",
       "      <td>1.2.826.0.1.3680043.8.498.99985209798463601651...</td>\n",
       "      <td>../series_npy/256/1.2.826.0.1.3680043.8.498.99...</td>\n",
       "    </tr>\n",
       "  </tbody>\n",
       "</table>\n",
       "<p>1001306 rows × 2 columns</p>\n",
       "</div>"
      ],
      "text/plain": [
       "                                                 series_id  \\\n",
       "0        1.2.826.0.1.3680043.8.498.10004044428023505108...   \n",
       "1        1.2.826.0.1.3680043.8.498.10004044428023505108...   \n",
       "2        1.2.826.0.1.3680043.8.498.10004044428023505108...   \n",
       "3        1.2.826.0.1.3680043.8.498.10004044428023505108...   \n",
       "4        1.2.826.0.1.3680043.8.498.10004044428023505108...   \n",
       "...                                                    ...   \n",
       "1001301  1.2.826.0.1.3680043.8.498.99985209798463601651...   \n",
       "1001302  1.2.826.0.1.3680043.8.498.99985209798463601651...   \n",
       "1001303  1.2.826.0.1.3680043.8.498.99985209798463601651...   \n",
       "1001304  1.2.826.0.1.3680043.8.498.99985209798463601651...   \n",
       "1001305  1.2.826.0.1.3680043.8.498.99985209798463601651...   \n",
       "\n",
       "                                                  npy_path  \n",
       "0        ../series_npy/256/1.2.826.0.1.3680043.8.498.10...  \n",
       "1        ../series_npy/256/1.2.826.0.1.3680043.8.498.10...  \n",
       "2        ../series_npy/256/1.2.826.0.1.3680043.8.498.10...  \n",
       "3        ../series_npy/256/1.2.826.0.1.3680043.8.498.10...  \n",
       "4        ../series_npy/256/1.2.826.0.1.3680043.8.498.10...  \n",
       "...                                                    ...  \n",
       "1001301  ../series_npy/256/1.2.826.0.1.3680043.8.498.99...  \n",
       "1001302  ../series_npy/256/1.2.826.0.1.3680043.8.498.99...  \n",
       "1001303  ../series_npy/256/1.2.826.0.1.3680043.8.498.99...  \n",
       "1001304  ../series_npy/256/1.2.826.0.1.3680043.8.498.99...  \n",
       "1001305  ../series_npy/256/1.2.826.0.1.3680043.8.498.99...  \n",
       "\n",
       "[1001306 rows x 2 columns]"
      ]
     },
     "execution_count": 10,
     "metadata": {},
     "output_type": "execute_result"
    }
   ],
   "source": [
    "series_list = os.listdir(f'../series_npy/{CFG.image_size}')\n",
    "image_path_df = pd.read_csv(f'../npy_path/image_{CFG.image_size}_path_df.csv')\n",
    "label_df = pd.read_csv(f'../train.csv')\n",
    "label_df = label_df[['SeriesInstanceUID'] + CFG.label_names]\n",
    "image_path_df\n"
   ]
  },
  {
   "cell_type": "code",
   "execution_count": 11,
   "id": "020d475a",
   "metadata": {},
   "outputs": [],
   "source": [
    "def minmax_scaling(images: torch.Tensor) -> torch.Tensor:\n",
    "    if torch.max(images) > 1.0:\n",
    "        images = images / 255\n",
    "    return images\n"
   ]
  },
  {
   "cell_type": "code",
   "execution_count": 12,
   "id": "b4e6ade1",
   "metadata": {},
   "outputs": [],
   "source": [
    "# for training\n",
    "train_transform = A.Compose(\n",
    "    [\n",
    "        # # Elastic Transform\n",
    "        # A.ElasticTransform( p=0.5),\n",
    "        \n",
    "        # Rotation\n",
    "        A.Rotate(limit=15, p=0.5, seed=CFG.seed),\n",
    "        \n",
    "        # Normalization\n",
    "        A.Normalize(normalization='min_max'),\n",
    "        \n",
    "        # ToTensor\n",
    "        ToTensorV2(),\n",
    "    ]\n",
    ")\n",
    "\n",
    "# for inference\n",
    "inference_transform = A.Compose(\n",
    "    [\n",
    "        A.Normalize(mean=[0.485, 0.456, 0.406], std=[0.229, 0.224, 0.225]),\n",
    "        ToTensorV2()\n",
    "    ]\n",
    ")\n",
    "    \n",
    "# for TTA\n",
    "tta_transform = A.Compose(\n",
    "    [\n",
    "        A.Normalize(mean=[0.485, 0.456, 0.406], std=[0.229, 0.224, 0.225]),\n",
    "            \n",
    "        # Horizontal flip\n",
    "        A.HorizontalFlip(p=1.0),\n",
    "        A.Normalize(mean=[0.485, 0.456, 0.406], std=[0.229, 0.224, 0.225]),\n",
    "        \n",
    "        # Vertical flip\n",
    "        A.VerticalFlip(p=1.0),\n",
    "        A.Normalize(mean=[0.485, 0.456, 0.406], std=[0.229, 0.224, 0.225]),\n",
    "        \n",
    "        # 90 degree rotation\n",
    "        A.RandomRotate90(p=1.0),\n",
    "        A.Normalize(mean=[0.485, 0.456, 0.406], std=[0.229, 0.224, 0.225]),\n",
    "        \n",
    "        # ↓ Original\n",
    "        # Sharpen\n",
    "        A.Sharpen(alpha=(0, 1.0), p=1.0),\n",
    "        A.Normalize(mean=[0.485, 0.456, 0.406], std=[0.229, 0.224, 0.225]),\n",
    "        \n",
    "        ToTensorV2(),\n",
    "    ]\n",
    ")\n"
   ]
  },
  {
   "cell_type": "code",
   "execution_count": 13,
   "id": "7e1ffd20",
   "metadata": {},
   "outputs": [],
   "source": [
    "class BaseDataset(torch.utils.data.Dataset):\n",
    "    '''\n",
    "    Datasetの__getitem__()は、num_slicesの枚数分だけ画像を出力する。\n",
    "    \n",
    "    Arguments:\n",
    "    - series_list: 画像のSeriesInstanceUIDのリスト\n",
    "    - image_path_df: 画像のパスを含むDataFrame\n",
    "    - label_df: ラベルが入ったDataFrame\n",
    "    - num_slices: 1つのシリーズから抽出するスライス数\n",
    "    - transforms: 画像変換のためのAlbumentationsのComposeオブジェクト\n",
    "    '''\n",
    "    def __init__(self,\n",
    "                 series_list: list,\n",
    "                 image_path_df: pd.DataFrame,\n",
    "                 label_df: pd.DataFrame,\n",
    "                 transforms=None\n",
    "        ):\n",
    "        self.series_list = series_list\n",
    "        self.image_path_df = image_path_df\n",
    "        self.label_df = label_df\n",
    "        self.transforms = transforms\n",
    "        self.num_slices = CFG.num_slices\n",
    "\n",
    "    def __len__(self):\n",
    "        return len(self.series_list)\n",
    "\n",
    "    def __getitem__(self, index):\n",
    "        # Index to SeriesInstanceUID\n",
    "        series_id = self.series_list[index]\n",
    "        \n",
    "        # SeriesInstanceUID to Image Path\n",
    "        image_path_df = self.image_path_df[\n",
    "            self.image_path_df['series_id'] == series_id\n",
    "        ].reset_index(drop=True)\n",
    "        \n",
    "        # Load Images\n",
    "        indices = np.linspace(0,\n",
    "                              len(image_path_df) - 1,\n",
    "                              self.num_slices).astype(np.int32)\n",
    "        # Stack images to (H, W, CFG.num_slices)\n",
    "        images = []\n",
    "        for i in indices:\n",
    "            image_path = image_path_df.loc[i, 'npy_path']\n",
    "            image = np.load(image_path).astype(np.uint8)\n",
    "            images.append(image)\n",
    "        images = np.stack(images, axis=-1)\n",
    "        \n",
    "        # Transform\n",
    "        if self.transforms:\n",
    "            # ToTensorV2はnumpy.ndarrayをtorch.Tensorに変換する\n",
    "            augmented = self.transforms(image=images)\n",
    "            images = augmented['image']\n",
    "        else:\n",
    "            images = torch.tensor(images, dtype=torch.float32)\n",
    "            images = torch.permute(images, (2, 0, 1))\n",
    "            # Normlization\n",
    "            if torch.max(images) > 1.0:\n",
    "                images = images / 255\n",
    "\n",
    "        # Labels\n",
    "        labels = self.label_df.loc[series_id, CFG.label_names].values\n",
    "        labels = torch.tensor(labels, dtype=torch.float32)\n",
    "        \n",
    "        return (images, labels)\n"
   ]
  },
  {
   "cell_type": "markdown",
   "id": "15340c5a",
   "metadata": {},
   "source": [
    "# 6. DataLoader"
   ]
  },
  {
   "cell_type": "code",
   "execution_count": 14,
   "id": "86d0077f",
   "metadata": {},
   "outputs": [],
   "source": [
    "def build_dataloaders():\n",
    "\n",
    "    series = label_df[[\"SeriesInstanceUID\"]].values\n",
    "    labels = label_df[CFG.label_names].values\n",
    "\n",
    "    if CFG.test_run:\n",
    "        # As the absolute number of data points cannot be specified,\n",
    "        # split is executed in two stages.\n",
    "        train_series, train_labels, val_series, _ = iterative_train_test_split(\n",
    "            series, labels, test_size=(1/len(series)) \\\n",
    "                * 2\n",
    "        )\n",
    "        _, _, train_series, train_labels = iterative_train_test_split(\n",
    "            train_series, train_labels, test_size=(1/len(series)) \\\n",
    "                * 2\n",
    "        )\n",
    "        \n",
    "    else:\n",
    "        train_series, train_labels, val_series, val_labels = iterative_train_test_split(\n",
    "            series, labels, test_size=0.2\n",
    "        )\n",
    "\n",
    "    # 2 dimensions -> 1 dimension\n",
    "    train_series, val_series = train_series.flatten(), val_series.flatten()\n",
    "    # train_series = [\n",
    "        # '1.2.826.0.1.3680043.8.498.10034081836061566510187499603024895557',\n",
    "        # '1.2.826.0.1.3680043.8.498.10034081836061566510187499603024895557'\n",
    "    # ]\n",
    "    print(f\"Train size: {len(train_series)}, Val size: {len(val_series)}\")\n",
    "\n",
    "    train_image_path_df = \\\n",
    "        image_path_df[image_path_df['series_id'] \\\n",
    "        .isin(train_series)].reset_index(drop=True)\n",
    "    val_image_path_df = \\\n",
    "        image_path_df[image_path_df['series_id'] \\\n",
    "        .isin(val_series)].reset_index(drop=True)\n",
    "        \n",
    "    train_label_df = label_df[label_df['SeriesInstanceUID']\n",
    "        .isin(train_series)].set_index('SeriesInstanceUID')\n",
    "    val_label_df = label_df[label_df['SeriesInstanceUID']\n",
    "        .isin(val_series)].set_index('SeriesInstanceUID')\n",
    "\n",
    "    train_dataset = BaseDataset(\n",
    "        series_list=train_series,\n",
    "        image_path_df=train_image_path_df,\n",
    "        label_df=train_label_df,\n",
    "        transforms=train_transform\n",
    "    )\n",
    "    val_dataset = BaseDataset(\n",
    "        series_list=val_series,\n",
    "        image_path_df=val_image_path_df,\n",
    "        label_df=val_label_df,\n",
    "        transforms=train_transform # tta_transform\n",
    "    )\n",
    "    train_dataloader = torch.utils.data.DataLoader(\n",
    "        train_dataset,\n",
    "        batch_size=CFG.batch_size,\n",
    "        shuffle=True,\n",
    "        num_workers=0\n",
    "    )\n",
    "    val_dataloader = torch.utils.data.DataLoader(\n",
    "        val_dataset,\n",
    "        batch_size=CFG.batch_size,\n",
    "        shuffle=False,\n",
    "        num_workers=0\n",
    "    )\n",
    "\n",
    "    return train_dataset, train_dataloader, val_dataloader\n"
   ]
  },
  {
   "cell_type": "code",
   "execution_count": 15,
   "id": "536ec2e5",
   "metadata": {},
   "outputs": [
    {
     "name": "stdout",
     "output_type": "stream",
     "text": [
      "Train size: 3478, Val size: 870\n"
     ]
    }
   ],
   "source": [
    "train_dataset, train_dataloader, val_dataloader = build_dataloaders()\n"
   ]
  },
  {
   "cell_type": "code",
   "execution_count": 16,
   "id": "018ebc65",
   "metadata": {},
   "outputs": [
    {
     "name": "stdout",
     "output_type": "stream",
     "text": [
      "[  0.         2.540039   5.080078   7.620117  10.160156  12.700195\n",
      "  15.240234  17.780273  20.320312  22.860352  25.40039   27.94043\n",
      "  30.480469  33.020508  35.560547  38.100586  40.640625  43.180664\n",
      "  45.720703  48.260742  50.80078   53.34082   55.88086   58.4209\n",
      "  60.960938  63.500977  63.75      66.041016  66.29004   68.581055\n",
      "  68.83008   71.12109   71.37012   73.66113   73.91016   76.20117\n",
      "  76.450195  78.74121   78.990234  81.28125   81.53027   83.82129\n",
      "  84.07031   86.36133   86.61035   88.90137   89.15039   91.44141\n",
      "  91.69043   93.981445  94.23047   96.521484  96.77051   99.06152\n",
      "  99.31055  101.60156  101.850586 104.1416   104.390625 106.68164\n",
      " 106.930664 109.22168  109.4707   111.76172  112.01074  114.30176\n",
      " 114.55078  116.8418   117.09082  119.381836 119.63086  121.921875\n",
      " 122.1709   124.461914 124.71094  127.00195  127.25098  127.5\n",
      " 129.54199  129.79102  130.04004  132.08203  132.33105  132.58008\n",
      " 134.62207  134.8711   135.12012  137.16211  137.41113  137.66016\n",
      " 139.70215  139.95117  140.2002   142.24219  142.49121  142.74023\n",
      " 144.78223  145.03125  145.28027  147.32227  147.57129  147.82031\n",
      " 149.8623   150.11133  150.36035  152.40234  152.65137  152.90039\n",
      " 154.94238  155.1914   155.44043  157.48242  157.73145  157.98047\n",
      " 160.02246  160.27148  160.52051  162.5625   162.81152  163.06055\n",
      " 165.10254  165.35156  165.60059  167.64258  167.8916   168.14062\n",
      " 170.43164  170.68066  172.97168  173.2207   175.51172  175.76074\n",
      " 177.80273  178.05176  178.30078  180.5918   180.84082  182.88281\n",
      " 183.13184  183.38086  185.67188  185.9209   188.21191  188.46094\n",
      " 190.50293  190.75195  191.00098  191.25     193.54102  193.79004\n",
      " 195.58301  195.83203  196.08105  196.33008  198.12305  198.37207\n",
      " 198.6211   198.87012  200.91211  201.16113  201.41016  203.20312\n",
      " 203.45215  203.70117  203.9502   205.99219  206.24121  206.49023\n",
      " 208.78125  209.03027  210.82324  211.32129  211.57031  213.36328\n",
      " 213.6123   213.86133  214.11035  215.90332  216.15234  216.40137\n",
      " 216.65039  218.69238  218.9414   219.19043  221.23242  221.48145\n",
      " 221.73047  224.02148  224.27051  226.3125   226.56152  226.81055\n",
      " 228.85254  229.10156  229.35059  231.6416   231.89062  233.93262\n",
      " 234.18164  234.43066  236.72168  236.9707   239.0127   239.26172\n",
      " 239.51074  241.55273  241.80176  242.05078  244.3418   244.59082\n",
      " 246.88184  247.13086  249.42188  249.6709   251.71289  251.96191\n",
      " 252.21094  254.50195  254.75098  255.      ]\n"
     ]
    },
    {
     "data": {
      "text/plain": [
       "<matplotlib.image.AxesImage at 0x29a73dd0910>"
      ]
     },
     "execution_count": 16,
     "metadata": {},
     "output_type": "execute_result"
    },
    {
     "data": {
      "image/png": "[encoded data removed]",
      "text/plain": [
       "<Figure size 1200x600 with 2 Axes>"
      ]
     },
     "metadata": {},
     "output_type": "display_data"
    }
   ],
   "source": [
    "_, ax = plt.subplots(1, 2, figsize=(12, 6))\n",
    "\n",
    "# 元の画像とどのくらい違いがあるかを確認\n",
    "\n",
    "# 元の画像(.npy)\n",
    "src = np.load(f'../series_npy/{CFG.image_size}/1.2.826.0.1.3680043.8.498.10034081836061566510187499603024895557/00012.npy')\n",
    "print(np.unique(src))\n",
    "ax[0].imshow(src)\n",
    "\n",
    "# Datasetから取り出した画像\n",
    "images, _ = train_dataset[0]\n",
    "image = images[8].numpy()  # shape: [H, W]\n",
    "\n",
    "# 0-1のfloatなら0-255に変換\n",
    "if image.max() <= 1.0:\n",
    "    image = (image * 255).astype(np.uint8)\n",
    "else:\n",
    "    image = image.astype(np.uint8)\n",
    "\n",
    "ax[1].imshow(image)\n"
   ]
  },
  {
   "cell_type": "code",
   "execution_count": 17,
   "id": "2b5b63f5",
   "metadata": {},
   "outputs": [
    {
     "data": {
      "image/jpeg": "[encoded data removed]",
      "image/png": "[encoded data removed]",
      "text/plain": [
       "<PIL.Image.Image image mode=L size=256x256>"
      ]
     },
     "metadata": {},
     "output_type": "display_data"
    }
   ],
   "source": [
    "pil_image = Image.fromarray(image)\n",
    "display(pil_image)\n"
   ]
  },
  {
   "cell_type": "markdown",
   "id": "a2732754",
   "metadata": {},
   "source": [
    "# 7. Functions"
   ]
  },
  {
   "cell_type": "code",
   "execution_count": 18,
   "id": "1161cd00",
   "metadata": {},
   "outputs": [],
   "source": [
    "# count execution time for one epoch\n",
    "def count_time(start:float) -> str:\n",
    "    \n",
    "    elapsed_time = time.time() - start\n",
    "    hour = str(int(elapsed_time // 3600)).zfill(2)\n",
    "    minute = str(int((elapsed_time % 3600) // 60)).zfill(2)\n",
    "    second = str(int((elapsed_time % 3600 % 60))).zfill(2)\n",
    "    \n",
    "    elapsed_time = f'{hour}:{minute}:{second}'\n",
    "    \n",
    "    return elapsed_time\n"
   ]
  },
  {
   "cell_type": "code",
   "execution_count": 19,
   "id": "7d4611cf",
   "metadata": {},
   "outputs": [],
   "source": [
    "# to save model, optimizer, scheduler\n",
    "def save_checkpoint(model, optimizer, scheduler, path=\"\"):\n",
    "    \n",
    "    path = path.replace('\\\\', '/')\n",
    "    \n",
    "    checkpoint = {\n",
    "        'model_state_dict': model.state_dict(),\n",
    "        'optimizer_state_dict': optimizer.state_dict(),\n",
    "        'scheduler_state_dict': scheduler.state_dict() if scheduler is not None else None,\n",
    "    }\n",
    "    torch.save(checkpoint, path)\n",
    "\n",
    "# to load model, optimizer, scheduler\n",
    "def load_checkpoint(model, optimizer, scheduler, path=\"\"):\n",
    "    \n",
    "    path = path.replace('\\\\', '/')\n",
    "    \n",
    "    checkpoint = torch.load(path)\n",
    "    \n",
    "    model.load_state_dict(checkpoint['model_state_dict'])\n",
    "    optimizer.load_state_dict(checkpoint['optimizer_state_dict'])\n",
    "    if scheduler is not None and checkpoint['scheduler_state_dict'] is not None:\n",
    "        scheduler.load_state_dict(checkpoint['scheduler_state_dict'])\n",
    "    \n",
    "    return model, optimizer, scheduler\n"
   ]
  },
  {
   "cell_type": "code",
   "execution_count": 20,
   "id": "680cfa7f",
   "metadata": {},
   "outputs": [],
   "source": [
    "# to log loss, metrics, time to W&B\n",
    "def log_by_wandb(epoch, losses, time):\n",
    "    epoch_data = {\n",
    "        'epoch': epoch,\n",
    "        'loss': losses,\n",
    "        'time': time\n",
    "    }\n",
    "    wandb.log(epoch_data)\n"
   ]
  },
  {
   "cell_type": "code",
   "execution_count": 21,
   "id": "a98ad525",
   "metadata": {},
   "outputs": [],
   "source": [
    "# to log checkpoint\n",
    "def log_artifact(run=run, artifact=artifact, checkpoint_path=\"\"):\n",
    "    artifact.add_file(checkpoint_path)\n",
    "    run.log_artifact(artifact)\n",
    "    print('Artifact was logged to W&B')\n"
   ]
  },
  {
   "cell_type": "markdown",
   "id": "634e7cf3",
   "metadata": {},
   "source": [
    "# 7. Training"
   ]
  },
  {
   "cell_type": "code",
   "execution_count": 22,
   "id": "d6593236",
   "metadata": {},
   "outputs": [],
   "source": [
    "def train_one_epoch(epoch: int) -> Tuple[float, float]:\n",
    "    \n",
    "    print(f'----- Epoch {epoch + 1} -----')\n",
    "    \n",
    "    # Training\n",
    "    train_losses = []\n",
    "    model.train()\n",
    "    \n",
    "    for images, labels in tqdm(train_dataloader):    \n",
    "        images = images.to(device)\n",
    "        labels = labels.to(device)\n",
    "        optimizer.zero_grad()\n",
    "        with autocast(device_type=CFG.device):\n",
    "            outputs = model(images)\n",
    "            loss = criterion(outputs, labels)\n",
    "            loss.backward()\n",
    "            optimizer.step()\n",
    "            train_losses.append(loss.item())\n",
    "    \n",
    "    mean_train_loss = np.mean(train_losses)\n",
    "    print(f'Mean Train Loss: {mean_train_loss:.4f}')\n",
    "    \n",
    "    # Validation\n",
    "    val_losses = []\n",
    "    model.eval()\n",
    "    \n",
    "    with torch.no_grad():\n",
    "        for images, labels in tqdm(val_dataloader):\n",
    "            images = images.to(device)\n",
    "            labels = labels.to(device)\n",
    "            with autocast(device_type=CFG.device):\n",
    "                outputs = model(images)\n",
    "                loss = criterion(outputs, labels)\n",
    "                val_losses.append(loss.item())\n",
    "        \n",
    "    mean_val_loss = np.mean(val_losses)\n",
    "    print(f'Mean Validation Loss: {mean_val_loss:.4f}')\n",
    "        \n",
    "    scheduler.step()\n",
    "        \n",
    "    return mean_train_loss, mean_val_loss\n"
   ]
  },
  {
   "cell_type": "code",
   "execution_count": 23,
   "id": "7148edc8",
   "metadata": {},
   "outputs": [],
   "source": [
    "def main():\n",
    "    \n",
    "    os.makedirs(CFG.save_dir, exist_ok=True)\n",
    "    best_val_loss = np.inf\n",
    "    \n",
    "    for epoch in range(CFG.num_epochs):\n",
    "        \n",
    "        # Train & Validation\n",
    "        start_time = time.time()\n",
    "        train_loss, val_loss = train_one_epoch(epoch)\n",
    "        elapsed_time = count_time(start_time)\n",
    "        print(f'Elapsed time: {elapsed_time}')\n",
    "        \n",
    "        # Log to W&B\n",
    "        if CFG.use_wandb:\n",
    "            losses = {\n",
    "                'train_loss': train_loss,\n",
    "                'val_loss': val_loss\n",
    "            }\n",
    "            log_by_wandb(epoch + 1, losses, elapsed_time)\n",
    "        \n",
    "        # Save all checkpoints\n",
    "        checkpoint_path = os.path.join(\n",
    "            CFG.save_dir,\n",
    "            f'checkpoint_{date_time}.pth'\n",
    "        )\n",
    "        checkpoint_path = checkpoint_path.replace('\\\\', '/')\n",
    "        save_checkpoint(model, optimizer, scheduler, checkpoint_path)\n",
    "        print(f'Checkpoint saved at {checkpoint_path}')\n",
    "        \n",
    "        # Save best checkpoint\n",
    "        if val_loss < best_val_loss:\n",
    "            best_val_loss = val_loss\n",
    "            best_checkpoint_path = os.path.join(\n",
    "                CFG.save_dir,\n",
    "                f'best_checkpoint_{date_time}.pth'\n",
    "            )\n",
    "            best_checkpoint_path = best_checkpoint_path.replace('\\\\', '/')\n",
    "            save_checkpoint(model, optimizer, scheduler, best_checkpoint_path)\n",
    "            print(f'Best checkpoint updated at {best_checkpoint_path}')\n",
    "    \n",
    "    # Log artifact to W&B\n",
    "    if CFG.use_wandb:\n",
    "        log_artifact(run, artifact, best_checkpoint_path)\n"
   ]
  },
  {
   "cell_type": "code",
   "execution_count": 24,
   "id": "35083e4d",
   "metadata": {},
   "outputs": [
    {
     "name": "stdout",
     "output_type": "stream",
     "text": [
      "----- Epoch 1 -----\n"
     ]
    },
    {
     "data": {
      "application/vnd.jupyter.widget-view+json": {
       "model_id": "41e297fb07df4bf69b1448de5cfa6eff",
       "version_major": 2,
       "version_minor": 0
      },
      "text/plain": [
       "  0%|          | 0/696 [00:00<?, ?it/s]"
      ]
     },
     "metadata": {},
     "output_type": "display_data"
    },
    {
     "name": "stdout",
     "output_type": "stream",
     "text": [
      "Mean Train Loss: 0.1753\n"
     ]
    },
    {
     "data": {
      "application/vnd.jupyter.widget-view+json": {
       "model_id": "6b57cf2a95b74bc6948fc7cb5e85c037",
       "version_major": 2,
       "version_minor": 0
      },
      "text/plain": [
       "  0%|          | 0/174 [00:00<?, ?it/s]"
      ]
     },
     "metadata": {},
     "output_type": "display_data"
    },
    {
     "name": "stdout",
     "output_type": "stream",
     "text": [
      "Mean Validation Loss: 0.1728\n",
      "Elapsed time: 00:21:58\n",
      "Checkpoint saved at ../results/swin-s-base-256x16/checkpoint_2025-09-24_01-55-35.pth\n",
      "Best checkpoint updated at ../results/swin-s-base-256x16/best_checkpoint_2025-09-24_01-55-35.pth\n",
      "----- Epoch 2 -----\n"
     ]
    },
    {
     "data": {
      "application/vnd.jupyter.widget-view+json": {
       "model_id": "faaf82fb83584c838e314e681672c417",
       "version_major": 2,
       "version_minor": 0
      },
      "text/plain": [
       "  0%|          | 0/696 [00:00<?, ?it/s]"
      ]
     },
     "metadata": {},
     "output_type": "display_data"
    },
    {
     "name": "stdout",
     "output_type": "stream",
     "text": [
      "Mean Train Loss: 0.1667\n"
     ]
    },
    {
     "data": {
      "application/vnd.jupyter.widget-view+json": {
       "model_id": "141623b26b834d3d9afdadaf2779d2b0",
       "version_major": 2,
       "version_minor": 0
      },
      "text/plain": [
       "  0%|          | 0/174 [00:00<?, ?it/s]"
      ]
     },
     "metadata": {},
     "output_type": "display_data"
    },
    {
     "name": "stdout",
     "output_type": "stream",
     "text": [
      "Mean Validation Loss: 0.1593\n",
      "Elapsed time: 00:14:55\n",
      "Checkpoint saved at ../results/swin-s-base-256x16/checkpoint_2025-09-24_01-55-35.pth\n",
      "Best checkpoint updated at ../results/swin-s-base-256x16/best_checkpoint_2025-09-24_01-55-35.pth\n",
      "----- Epoch 3 -----\n"
     ]
    },
    {
     "data": {
      "application/vnd.jupyter.widget-view+json": {
       "model_id": "be9f0ef804d94c86a596e963ad9789da",
       "version_major": 2,
       "version_minor": 0
      },
      "text/plain": [
       "  0%|          | 0/696 [00:00<?, ?it/s]"
      ]
     },
     "metadata": {},
     "output_type": "display_data"
    },
    {
     "name": "stdout",
     "output_type": "stream",
     "text": [
      "Mean Train Loss: 0.1647\n"
     ]
    },
    {
     "data": {
      "application/vnd.jupyter.widget-view+json": {
       "model_id": "bf58d8fbd5024bd89535065f65e3c6c7",
       "version_major": 2,
       "version_minor": 0
      },
      "text/plain": [
       "  0%|          | 0/174 [00:00<?, ?it/s]"
      ]
     },
     "metadata": {},
     "output_type": "display_data"
    },
    {
     "name": "stdout",
     "output_type": "stream",
     "text": [
      "Mean Validation Loss: 0.1566\n",
      "Elapsed time: 00:14:25\n",
      "Checkpoint saved at ../results/swin-s-base-256x16/checkpoint_2025-09-24_01-55-35.pth\n",
      "Best checkpoint updated at ../results/swin-s-base-256x16/best_checkpoint_2025-09-24_01-55-35.pth\n",
      "----- Epoch 4 -----\n"
     ]
    },
    {
     "data": {
      "application/vnd.jupyter.widget-view+json": {
       "model_id": "7cfc67518e6148899a8e12a493ee1e1c",
       "version_major": 2,
       "version_minor": 0
      },
      "text/plain": [
       "  0%|          | 0/696 [00:00<?, ?it/s]"
      ]
     },
     "metadata": {},
     "output_type": "display_data"
    },
    {
     "name": "stdout",
     "output_type": "stream",
     "text": [
      "Mean Train Loss: 0.1641\n"
     ]
    },
    {
     "data": {
      "application/vnd.jupyter.widget-view+json": {
       "model_id": "7b2d7110488547fa910b38b95fdbbeed",
       "version_major": 2,
       "version_minor": 0
      },
      "text/plain": [
       "  0%|          | 0/174 [00:00<?, ?it/s]"
      ]
     },
     "metadata": {},
     "output_type": "display_data"
    },
    {
     "name": "stdout",
     "output_type": "stream",
     "text": [
      "Mean Validation Loss: 0.1659\n",
      "Elapsed time: 00:13:33\n",
      "Checkpoint saved at ../results/swin-s-base-256x16/checkpoint_2025-09-24_01-55-35.pth\n",
      "----- Epoch 5 -----\n"
     ]
    },
    {
     "data": {
      "application/vnd.jupyter.widget-view+json": {
       "model_id": "c38a8ee465124fd4a29ba41cc500f49c",
       "version_major": 2,
       "version_minor": 0
      },
      "text/plain": [
       "  0%|          | 0/696 [00:00<?, ?it/s]"
      ]
     },
     "metadata": {},
     "output_type": "display_data"
    },
    {
     "name": "stdout",
     "output_type": "stream",
     "text": [
      "Mean Train Loss: 0.1634\n"
     ]
    },
    {
     "data": {
      "application/vnd.jupyter.widget-view+json": {
       "model_id": "e590cabedcaa44f19bb95e5b17c7a979",
       "version_major": 2,
       "version_minor": 0
      },
      "text/plain": [
       "  0%|          | 0/174 [00:00<?, ?it/s]"
      ]
     },
     "metadata": {},
     "output_type": "display_data"
    },
    {
     "name": "stdout",
     "output_type": "stream",
     "text": [
      "Mean Validation Loss: 0.1605\n",
      "Elapsed time: 00:14:56\n",
      "Checkpoint saved at ../results/swin-s-base-256x16/checkpoint_2025-09-24_01-55-35.pth\n",
      "----- Epoch 6 -----\n"
     ]
    },
    {
     "data": {
      "application/vnd.jupyter.widget-view+json": {
       "model_id": "07e8ff878d4245e09aec2dd3382f3d8b",
       "version_major": 2,
       "version_minor": 0
      },
      "text/plain": [
       "  0%|          | 0/696 [00:00<?, ?it/s]"
      ]
     },
     "metadata": {},
     "output_type": "display_data"
    },
    {
     "name": "stdout",
     "output_type": "stream",
     "text": [
      "Mean Train Loss: 0.1647\n"
     ]
    },
    {
     "data": {
      "application/vnd.jupyter.widget-view+json": {
       "model_id": "a8657fc8a28b43dc8f1104bb3709b1ed",
       "version_major": 2,
       "version_minor": 0
      },
      "text/plain": [
       "  0%|          | 0/174 [00:00<?, ?it/s]"
      ]
     },
     "metadata": {},
     "output_type": "display_data"
    },
    {
     "name": "stdout",
     "output_type": "stream",
     "text": [
      "Mean Validation Loss: 0.1645\n",
      "Elapsed time: 00:13:05\n",
      "Checkpoint saved at ../results/swin-s-base-256x16/checkpoint_2025-09-24_01-55-35.pth\n",
      "----- Epoch 7 -----\n"
     ]
    },
    {
     "data": {
      "application/vnd.jupyter.widget-view+json": {
       "model_id": "4ae04bf10543483e98a968fb7641261a",
       "version_major": 2,
       "version_minor": 0
      },
      "text/plain": [
       "  0%|          | 0/696 [00:00<?, ?it/s]"
      ]
     },
     "metadata": {},
     "output_type": "display_data"
    },
    {
     "name": "stdout",
     "output_type": "stream",
     "text": [
      "Mean Train Loss: nan\n"
     ]
    },
    {
     "data": {
      "application/vnd.jupyter.widget-view+json": {
       "model_id": "defaf695e9b844f5b69f0539751d4da4",
       "version_major": 2,
       "version_minor": 0
      },
      "text/plain": [
       "  0%|          | 0/174 [00:00<?, ?it/s]"
      ]
     },
     "metadata": {},
     "output_type": "display_data"
    },
    {
     "name": "stdout",
     "output_type": "stream",
     "text": [
      "Mean Validation Loss: nan\n",
      "Elapsed time: 00:13:32\n",
      "Checkpoint saved at ../results/swin-s-base-256x16/checkpoint_2025-09-24_01-55-35.pth\n",
      "----- Epoch 8 -----\n"
     ]
    },
    {
     "data": {
      "application/vnd.jupyter.widget-view+json": {
       "model_id": "475c3ca39ec7482ea13fcc6f9067e2b6",
       "version_major": 2,
       "version_minor": 0
      },
      "text/plain": [
       "  0%|          | 0/696 [00:00<?, ?it/s]"
      ]
     },
     "metadata": {},
     "output_type": "display_data"
    },
    {
     "name": "stdout",
     "output_type": "stream",
     "text": [
      "Mean Train Loss: nan\n"
     ]
    },
    {
     "data": {
      "application/vnd.jupyter.widget-view+json": {
       "model_id": "bcaf7272bc6944a0acaa8de88cf6b480",
       "version_major": 2,
       "version_minor": 0
      },
      "text/plain": [
       "  0%|          | 0/174 [00:00<?, ?it/s]"
      ]
     },
     "metadata": {},
     "output_type": "display_data"
    },
    {
     "name": "stdout",
     "output_type": "stream",
     "text": [
      "Mean Validation Loss: nan\n",
      "Elapsed time: 00:14:13\n",
      "Checkpoint saved at ../results/swin-s-base-256x16/checkpoint_2025-09-24_01-55-35.pth\n",
      "----- Epoch 9 -----\n"
     ]
    },
    {
     "data": {
      "application/vnd.jupyter.widget-view+json": {
       "model_id": "4bce2a66af204c1fa740df45f3653109",
       "version_major": 2,
       "version_minor": 0
      },
      "text/plain": [
       "  0%|          | 0/696 [00:00<?, ?it/s]"
      ]
     },
     "metadata": {},
     "output_type": "display_data"
    },
    {
     "name": "stdout",
     "output_type": "stream",
     "text": [
      "Mean Train Loss: nan\n"
     ]
    },
    {
     "data": {
      "application/vnd.jupyter.widget-view+json": {
       "model_id": "bba06b1459c84440aa1bd51ee1bd30be",
       "version_major": 2,
       "version_minor": 0
      },
      "text/plain": [
       "  0%|          | 0/174 [00:00<?, ?it/s]"
      ]
     },
     "metadata": {},
     "output_type": "display_data"
    },
    {
     "name": "stdout",
     "output_type": "stream",
     "text": [
      "Mean Validation Loss: nan\n",
      "Elapsed time: 00:15:57\n",
      "Checkpoint saved at ../results/swin-s-base-256x16/checkpoint_2025-09-24_01-55-35.pth\n",
      "----- Epoch 10 -----\n"
     ]
    },
    {
     "data": {
      "application/vnd.jupyter.widget-view+json": {
       "model_id": "62350f8aeb7e47d0841f8908b8f00f8b",
       "version_major": 2,
       "version_minor": 0
      },
      "text/plain": [
       "  0%|          | 0/696 [00:00<?, ?it/s]"
      ]
     },
     "metadata": {},
     "output_type": "display_data"
    },
    {
     "name": "stdout",
     "output_type": "stream",
     "text": [
      "Mean Train Loss: nan\n"
     ]
    },
    {
     "data": {
      "application/vnd.jupyter.widget-view+json": {
       "model_id": "bb660e104c114ad8add7dc698ef15c0b",
       "version_major": 2,
       "version_minor": 0
      },
      "text/plain": [
       "  0%|          | 0/174 [00:00<?, ?it/s]"
      ]
     },
     "metadata": {},
     "output_type": "display_data"
    },
    {
     "name": "stdout",
     "output_type": "stream",
     "text": [
      "Mean Validation Loss: nan\n",
      "Elapsed time: 00:17:02\n",
      "Checkpoint saved at ../results/swin-s-base-256x16/checkpoint_2025-09-24_01-55-35.pth\n",
      "----- Epoch 11 -----\n"
     ]
    },
    {
     "data": {
      "application/vnd.jupyter.widget-view+json": {
       "model_id": "2e487c13af7f45f5828cc6a00ef03130",
       "version_major": 2,
       "version_minor": 0
      },
      "text/plain": [
       "  0%|          | 0/696 [00:00<?, ?it/s]"
      ]
     },
     "metadata": {},
     "output_type": "display_data"
    },
    {
     "name": "stdout",
     "output_type": "stream",
     "text": [
      "Mean Train Loss: nan\n"
     ]
    },
    {
     "data": {
      "application/vnd.jupyter.widget-view+json": {
       "model_id": "7922b69a7ba740d3880c08444c774984",
       "version_major": 2,
       "version_minor": 0
      },
      "text/plain": [
       "  0%|          | 0/174 [00:00<?, ?it/s]"
      ]
     },
     "metadata": {},
     "output_type": "display_data"
    },
    {
     "name": "stdout",
     "output_type": "stream",
     "text": [
      "Mean Validation Loss: nan\n",
      "Elapsed time: 00:14:10\n",
      "Checkpoint saved at ../results/swin-s-base-256x16/checkpoint_2025-09-24_01-55-35.pth\n",
      "----- Epoch 12 -----\n"
     ]
    },
    {
     "data": {
      "application/vnd.jupyter.widget-view+json": {
       "model_id": "f5b09343f28643a19f0a73ff83f90568",
       "version_major": 2,
       "version_minor": 0
      },
      "text/plain": [
       "  0%|          | 0/696 [00:00<?, ?it/s]"
      ]
     },
     "metadata": {},
     "output_type": "display_data"
    },
    {
     "name": "stdout",
     "output_type": "stream",
     "text": [
      "Mean Train Loss: nan\n"
     ]
    },
    {
     "data": {
      "application/vnd.jupyter.widget-view+json": {
       "model_id": "8b9949fb8da54ac3823a343385f76f37",
       "version_major": 2,
       "version_minor": 0
      },
      "text/plain": [
       "  0%|          | 0/174 [00:00<?, ?it/s]"
      ]
     },
     "metadata": {},
     "output_type": "display_data"
    },
    {
     "name": "stdout",
     "output_type": "stream",
     "text": [
      "Mean Validation Loss: nan\n",
      "Elapsed time: 00:14:19\n",
      "Checkpoint saved at ../results/swin-s-base-256x16/checkpoint_2025-09-24_01-55-35.pth\n",
      "----- Epoch 13 -----\n"
     ]
    },
    {
     "data": {
      "application/vnd.jupyter.widget-view+json": {
       "model_id": "5d373167ee534e72b0fd3cb7449490d4",
       "version_major": 2,
       "version_minor": 0
      },
      "text/plain": [
       "  0%|          | 0/696 [00:00<?, ?it/s]"
      ]
     },
     "metadata": {},
     "output_type": "display_data"
    },
    {
     "name": "stdout",
     "output_type": "stream",
     "text": [
      "Mean Train Loss: nan\n"
     ]
    },
    {
     "data": {
      "application/vnd.jupyter.widget-view+json": {
       "model_id": "556a68ab373146bcb6417b61c1c75f15",
       "version_major": 2,
       "version_minor": 0
      },
      "text/plain": [
       "  0%|          | 0/174 [00:00<?, ?it/s]"
      ]
     },
     "metadata": {},
     "output_type": "display_data"
    },
    {
     "name": "stdout",
     "output_type": "stream",
     "text": [
      "Mean Validation Loss: nan\n",
      "Elapsed time: 00:16:42\n",
      "Checkpoint saved at ../results/swin-s-base-256x16/checkpoint_2025-09-24_01-55-35.pth\n",
      "----- Epoch 14 -----\n"
     ]
    },
    {
     "data": {
      "application/vnd.jupyter.widget-view+json": {
       "model_id": "d50f70ced184455f9b4ca3c2119b163d",
       "version_major": 2,
       "version_minor": 0
      },
      "text/plain": [
       "  0%|          | 0/696 [00:00<?, ?it/s]"
      ]
     },
     "metadata": {},
     "output_type": "display_data"
    },
    {
     "name": "stdout",
     "output_type": "stream",
     "text": [
      "Mean Train Loss: nan\n"
     ]
    },
    {
     "data": {
      "application/vnd.jupyter.widget-view+json": {
       "model_id": "4aa467b78609419099a021ea597f6818",
       "version_major": 2,
       "version_minor": 0
      },
      "text/plain": [
       "  0%|          | 0/174 [00:00<?, ?it/s]"
      ]
     },
     "metadata": {},
     "output_type": "display_data"
    },
    {
     "name": "stdout",
     "output_type": "stream",
     "text": [
      "Mean Validation Loss: nan\n",
      "Elapsed time: 00:15:13\n",
      "Checkpoint saved at ../results/swin-s-base-256x16/checkpoint_2025-09-24_01-55-35.pth\n",
      "----- Epoch 15 -----\n"
     ]
    },
    {
     "data": {
      "application/vnd.jupyter.widget-view+json": {
       "model_id": "c1d3f13edf0741a9a3672d5b102a0001",
       "version_major": 2,
       "version_minor": 0
      },
      "text/plain": [
       "  0%|          | 0/696 [00:00<?, ?it/s]"
      ]
     },
     "metadata": {},
     "output_type": "display_data"
    },
    {
     "name": "stdout",
     "output_type": "stream",
     "text": [
      "Mean Train Loss: nan\n"
     ]
    },
    {
     "data": {
      "application/vnd.jupyter.widget-view+json": {
       "model_id": "0d42bfad5441492797377c395298525c",
       "version_major": 2,
       "version_minor": 0
      },
      "text/plain": [
       "  0%|          | 0/174 [00:00<?, ?it/s]"
      ]
     },
     "metadata": {},
     "output_type": "display_data"
    },
    {
     "name": "stdout",
     "output_type": "stream",
     "text": [
      "Mean Validation Loss: nan\n",
      "Elapsed time: 00:15:00\n",
      "Checkpoint saved at ../results/swin-s-base-256x16/checkpoint_2025-09-24_01-55-35.pth\n",
      "----- Epoch 16 -----\n"
     ]
    },
    {
     "data": {
      "application/vnd.jupyter.widget-view+json": {
       "model_id": "0fd0f6fd034d4c2d8420caf7346f23c7",
       "version_major": 2,
       "version_minor": 0
      },
      "text/plain": [
       "  0%|          | 0/696 [00:00<?, ?it/s]"
      ]
     },
     "metadata": {},
     "output_type": "display_data"
    },
    {
     "name": "stdout",
     "output_type": "stream",
     "text": [
      "Mean Train Loss: nan\n"
     ]
    },
    {
     "data": {
      "application/vnd.jupyter.widget-view+json": {
       "model_id": "144096085a64493f8eb764b60352f033",
       "version_major": 2,
       "version_minor": 0
      },
      "text/plain": [
       "  0%|          | 0/174 [00:00<?, ?it/s]"
      ]
     },
     "metadata": {},
     "output_type": "display_data"
    },
    {
     "name": "stdout",
     "output_type": "stream",
     "text": [
      "Mean Validation Loss: nan\n",
      "Elapsed time: 00:16:23\n",
      "Checkpoint saved at ../results/swin-s-base-256x16/checkpoint_2025-09-24_01-55-35.pth\n",
      "----- Epoch 17 -----\n"
     ]
    },
    {
     "data": {
      "application/vnd.jupyter.widget-view+json": {
       "model_id": "81260e25c8e94ea396a670f34cc69bf2",
       "version_major": 2,
       "version_minor": 0
      },
      "text/plain": [
       "  0%|          | 0/696 [00:00<?, ?it/s]"
      ]
     },
     "metadata": {},
     "output_type": "display_data"
    },
    {
     "name": "stdout",
     "output_type": "stream",
     "text": [
      "Mean Train Loss: nan\n"
     ]
    },
    {
     "data": {
      "application/vnd.jupyter.widget-view+json": {
       "model_id": "4003488291f04fc7802f2331e2fd4391",
       "version_major": 2,
       "version_minor": 0
      },
      "text/plain": [
       "  0%|          | 0/174 [00:00<?, ?it/s]"
      ]
     },
     "metadata": {},
     "output_type": "display_data"
    },
    {
     "name": "stdout",
     "output_type": "stream",
     "text": [
      "Mean Validation Loss: nan\n",
      "Elapsed time: 00:17:33\n",
      "Checkpoint saved at ../results/swin-s-base-256x16/checkpoint_2025-09-24_01-55-35.pth\n",
      "----- Epoch 18 -----\n"
     ]
    },
    {
     "data": {
      "application/vnd.jupyter.widget-view+json": {
       "model_id": "2c589349020942bf9793f3bcf3f36339",
       "version_major": 2,
       "version_minor": 0
      },
      "text/plain": [
       "  0%|          | 0/696 [00:00<?, ?it/s]"
      ]
     },
     "metadata": {},
     "output_type": "display_data"
    },
    {
     "name": "stdout",
     "output_type": "stream",
     "text": [
      "Mean Train Loss: nan\n"
     ]
    },
    {
     "data": {
      "application/vnd.jupyter.widget-view+json": {
       "model_id": "e5d45eaae0664238a567fa3155b2e7ee",
       "version_major": 2,
       "version_minor": 0
      },
      "text/plain": [
       "  0%|          | 0/174 [00:00<?, ?it/s]"
      ]
     },
     "metadata": {},
     "output_type": "display_data"
    },
    {
     "name": "stdout",
     "output_type": "stream",
     "text": [
      "Mean Validation Loss: nan\n",
      "Elapsed time: 00:16:25\n",
      "Checkpoint saved at ../results/swin-s-base-256x16/checkpoint_2025-09-24_01-55-35.pth\n",
      "----- Epoch 19 -----\n"
     ]
    },
    {
     "data": {
      "application/vnd.jupyter.widget-view+json": {
       "model_id": "beb7ab3bedb947f8a6ea6b8f2fba5b7c",
       "version_major": 2,
       "version_minor": 0
      },
      "text/plain": [
       "  0%|          | 0/696 [00:00<?, ?it/s]"
      ]
     },
     "metadata": {},
     "output_type": "display_data"
    },
    {
     "name": "stdout",
     "output_type": "stream",
     "text": [
      "Mean Train Loss: nan\n"
     ]
    },
    {
     "data": {
      "application/vnd.jupyter.widget-view+json": {
       "model_id": "2eb3baa661eb4f9f8e9f24174b1e40a0",
       "version_major": 2,
       "version_minor": 0
      },
      "text/plain": [
       "  0%|          | 0/174 [00:00<?, ?it/s]"
      ]
     },
     "metadata": {},
     "output_type": "display_data"
    },
    {
     "name": "stdout",
     "output_type": "stream",
     "text": [
      "Mean Validation Loss: nan\n",
      "Elapsed time: 00:19:40\n",
      "Checkpoint saved at ../results/swin-s-base-256x16/checkpoint_2025-09-24_01-55-35.pth\n",
      "----- Epoch 20 -----\n"
     ]
    },
    {
     "data": {
      "application/vnd.jupyter.widget-view+json": {
       "model_id": "c0e93cc7c0f24a52b0faaf51ff551ed3",
       "version_major": 2,
       "version_minor": 0
      },
      "text/plain": [
       "  0%|          | 0/696 [00:00<?, ?it/s]"
      ]
     },
     "metadata": {},
     "output_type": "display_data"
    },
    {
     "name": "stdout",
     "output_type": "stream",
     "text": [
      "Mean Train Loss: nan\n"
     ]
    },
    {
     "data": {
      "application/vnd.jupyter.widget-view+json": {
       "model_id": "a274b2f1b28249a683bc6cea682e4834",
       "version_major": 2,
       "version_minor": 0
      },
      "text/plain": [
       "  0%|          | 0/174 [00:00<?, ?it/s]"
      ]
     },
     "metadata": {},
     "output_type": "display_data"
    },
    {
     "name": "stdout",
     "output_type": "stream",
     "text": [
      "Mean Validation Loss: nan\n",
      "Elapsed time: 00:16:33\n",
      "Checkpoint saved at ../results/swin-s-base-256x16/checkpoint_2025-09-24_01-55-35.pth\n",
      "Artifact was logged to W&B\n"
     ]
    }
   ],
   "source": [
    "main()\n"
   ]
  },
  {
   "cell_type": "code",
   "execution_count": 25,
   "id": "f94bd995",
   "metadata": {},
   "outputs": [
    {
     "name": "stderr",
     "output_type": "stream",
     "text": [
      "\u001b[34m\u001b[1mwandb\u001b[0m: \u001b[32m\u001b[41mERROR\u001b[0m The nbformat package was not found. It is required to save notebook history.\n"
     ]
    },
    {
     "data": {
      "text/html": [],
      "text/plain": [
       "<IPython.core.display.HTML object>"
      ]
     },
     "metadata": {},
     "output_type": "display_data"
    },
    {
     "data": {
      "text/html": [
       "<br>    <style><br>        .wandb-row {<br>            display: flex;<br>            flex-direction: row;<br>            flex-wrap: wrap;<br>            justify-content: flex-start;<br>            width: 100%;<br>        }<br>        .wandb-col {<br>            display: flex;<br>            flex-direction: column;<br>            flex-basis: 100%;<br>            flex: 1;<br>            padding: 10px;<br>        }<br>    </style><br><div class=\"wandb-row\"><div class=\"wandb-col\"><h3>Run history:</h3><br/><table class=\"wandb\"><tr><td>epoch</td><td>▁▁▂▂▂▃▃▄▄▄▅▅▅▆▆▇▇▇██</td></tr></table><br/></div><div class=\"wandb-col\"><h3>Run summary:</h3><br/><table class=\"wandb\"><tr><td>epoch</td><td>20</td></tr><tr><td>time</td><td>00:16:33</td></tr></table><br/></div></div>"
      ],
      "text/plain": [
       "<IPython.core.display.HTML object>"
      ]
     },
     "metadata": {},
     "output_type": "display_data"
    },
    {
     "data": {
      "text/html": [
       " View run <strong style=\"color:#cdcd00\">sweet-pyramid-3</strong> at: <a href='https://wandb.ai/ataracsia/RSNA-IAD/runs/x7hzb3iq' target=\"_blank\">https://wandb.ai/ataracsia/RSNA-IAD/runs/x7hzb3iq</a><br> View project at: <a href='https://wandb.ai/ataracsia/RSNA-IAD' target=\"_blank\">https://wandb.ai/ataracsia/RSNA-IAD</a><br>Synced 5 W&B file(s), 0 media file(s), 2 artifact file(s) and 0 other file(s)"
      ],
      "text/plain": [
       "<IPython.core.display.HTML object>"
      ]
     },
     "metadata": {},
     "output_type": "display_data"
    },
    {
     "data": {
      "text/html": [
       "Find logs at: <code>.\\wandb\\run-20250924_015536-x7hzb3iq\\logs</code>"
      ],
      "text/plain": [
       "<IPython.core.display.HTML object>"
      ]
     },
     "metadata": {},
     "output_type": "display_data"
    }
   ],
   "source": [
    "run.finish()\n"
   ]
  }
 ],
 "metadata": {
  "kernelspec": {
   "display_name": "Kaggle",
   "language": "python",
   "name": "python3"
  },
  "language_info": {
   "codemirror_mode": {
    "name": "ipython",
    "version": 3
   },
   "file_extension": ".py",
   "mimetype": "text/x-python",
   "name": "python",
   "nbconvert_exporter": "python",
   "pygments_lexer": "ipython3",
   "version": "3.11.13"
  }
 },
 "nbformat": 4,
 "nbformat_minor": 5
}
