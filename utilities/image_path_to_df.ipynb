{
 "cells": [
  {
   "cell_type": "markdown",
   "id": "48948caa",
   "metadata": {},
   "source": [
    "このNotebookは、画像データ(.npy)のファイルパスをDataFrameに収めて保存するためのものである。"
   ]
  },
  {
   "cell_type": "markdown",
   "id": "dcd05fbc",
   "metadata": {},
   "source": [
    "# 1. Configuration"
   ]
  },
  {
   "cell_type": "code",
   "execution_count": 1,
   "id": "eca2726f",
   "metadata": {},
   "outputs": [],
   "source": [
    "IMAGE_SIZE = 256\n",
    "\n",
    "class Configure:\n",
    "    \n",
    "    image_size = IMAGE_SIZE\n",
    "    \n",
    "CFG = Configure()\n"
   ]
  },
  {
   "cell_type": "markdown",
   "id": "0b0a3667",
   "metadata": {},
   "source": [
    "# 2. Import"
   ]
  },
  {
   "cell_type": "code",
   "execution_count": 2,
   "id": "d6a6786f",
   "metadata": {},
   "outputs": [],
   "source": [
    "import os\n",
    "import polars as pl\n",
    "import pandas as pd\n"
   ]
  },
  {
   "cell_type": "code",
   "execution_count": 3,
   "id": "749f7b44",
   "metadata": {},
   "outputs": [],
   "source": [
    "base_dir = f\"../series_npy/{CFG.image_size}\"\n",
    "\n",
    "series_ids = []\n",
    "image_paths = []\n",
    "\n",
    "for series_id in os.listdir(base_dir):\n",
    "\n",
    "    series_path = os.path.join(base_dir, series_id)\n",
    "\n",
    "    if os.path.isdir(series_path):\n",
    "        \n",
    "        series_id = [series_id for _ in range(len(os.listdir(series_path)))]\n",
    "        series_ids.extend(series_id)\n",
    "\n",
    "        for file_name in os.listdir(series_path):\n",
    "\n",
    "            if file_name.endswith('.npy'):\n",
    "\n",
    "                npy_path = os.path.join(series_path, file_name)\n",
    "                npy_path = npy_path.replace('\\\\', '/')\n",
    "                image_paths.append(npy_path)\n",
    "\n"
   ]
  },
  {
   "cell_type": "code",
   "execution_count": 4,
   "id": "f8eafff2",
   "metadata": {},
   "outputs": [
    {
     "data": {
      "text/html": [
       "<div>\n",
       "<style scoped>\n",
       "    .dataframe tbody tr th:only-of-type {\n",
       "        vertical-align: middle;\n",
       "    }\n",
       "\n",
       "    .dataframe tbody tr th {\n",
       "        vertical-align: top;\n",
       "    }\n",
       "\n",
       "    .dataframe thead th {\n",
       "        text-align: right;\n",
       "    }\n",
       "</style>\n",
       "<table border=\"1\" class=\"dataframe\">\n",
       "  <thead>\n",
       "    <tr style=\"text-align: right;\">\n",
       "      <th></th>\n",
       "      <th>series_id</th>\n",
       "      <th>npy_path</th>\n",
       "    </tr>\n",
       "  </thead>\n",
       "  <tbody>\n",
       "    <tr>\n",
       "      <th>0</th>\n",
       "      <td>1.2.826.0.1.3680043.8.498.10004044428023505108...</td>\n",
       "      <td>../series_npy/256/1.2.826.0.1.3680043.8.498.10...</td>\n",
       "    </tr>\n",
       "    <tr>\n",
       "      <th>1</th>\n",
       "      <td>1.2.826.0.1.3680043.8.498.10004044428023505108...</td>\n",
       "      <td>../series_npy/256/1.2.826.0.1.3680043.8.498.10...</td>\n",
       "    </tr>\n",
       "    <tr>\n",
       "      <th>2</th>\n",
       "      <td>1.2.826.0.1.3680043.8.498.10004044428023505108...</td>\n",
       "      <td>../series_npy/256/1.2.826.0.1.3680043.8.498.10...</td>\n",
       "    </tr>\n",
       "    <tr>\n",
       "      <th>3</th>\n",
       "      <td>1.2.826.0.1.3680043.8.498.10004044428023505108...</td>\n",
       "      <td>../series_npy/256/1.2.826.0.1.3680043.8.498.10...</td>\n",
       "    </tr>\n",
       "    <tr>\n",
       "      <th>4</th>\n",
       "      <td>1.2.826.0.1.3680043.8.498.10004044428023505108...</td>\n",
       "      <td>../series_npy/256/1.2.826.0.1.3680043.8.498.10...</td>\n",
       "    </tr>\n",
       "    <tr>\n",
       "      <th>...</th>\n",
       "      <td>...</td>\n",
       "      <td>...</td>\n",
       "    </tr>\n",
       "    <tr>\n",
       "      <th>1001301</th>\n",
       "      <td>1.2.826.0.1.3680043.8.498.99985209798463601651...</td>\n",
       "      <td>../series_npy/256/1.2.826.0.1.3680043.8.498.99...</td>\n",
       "    </tr>\n",
       "    <tr>\n",
       "      <th>1001302</th>\n",
       "      <td>1.2.826.0.1.3680043.8.498.99985209798463601651...</td>\n",
       "      <td>../series_npy/256/1.2.826.0.1.3680043.8.498.99...</td>\n",
       "    </tr>\n",
       "    <tr>\n",
       "      <th>1001303</th>\n",
       "      <td>1.2.826.0.1.3680043.8.498.99985209798463601651...</td>\n",
       "      <td>../series_npy/256/1.2.826.0.1.3680043.8.498.99...</td>\n",
       "    </tr>\n",
       "    <tr>\n",
       "      <th>1001304</th>\n",
       "      <td>1.2.826.0.1.3680043.8.498.99985209798463601651...</td>\n",
       "      <td>../series_npy/256/1.2.826.0.1.3680043.8.498.99...</td>\n",
       "    </tr>\n",
       "    <tr>\n",
       "      <th>1001305</th>\n",
       "      <td>1.2.826.0.1.3680043.8.498.99985209798463601651...</td>\n",
       "      <td>../series_npy/256/1.2.826.0.1.3680043.8.498.99...</td>\n",
       "    </tr>\n",
       "  </tbody>\n",
       "</table>\n",
       "<p>1001306 rows × 2 columns</p>\n",
       "</div>"
      ],
      "text/plain": [
       "                                                 series_id  \\\n",
       "0        1.2.826.0.1.3680043.8.498.10004044428023505108...   \n",
       "1        1.2.826.0.1.3680043.8.498.10004044428023505108...   \n",
       "2        1.2.826.0.1.3680043.8.498.10004044428023505108...   \n",
       "3        1.2.826.0.1.3680043.8.498.10004044428023505108...   \n",
       "4        1.2.826.0.1.3680043.8.498.10004044428023505108...   \n",
       "...                                                    ...   \n",
       "1001301  1.2.826.0.1.3680043.8.498.99985209798463601651...   \n",
       "1001302  1.2.826.0.1.3680043.8.498.99985209798463601651...   \n",
       "1001303  1.2.826.0.1.3680043.8.498.99985209798463601651...   \n",
       "1001304  1.2.826.0.1.3680043.8.498.99985209798463601651...   \n",
       "1001305  1.2.826.0.1.3680043.8.498.99985209798463601651...   \n",
       "\n",
       "                                                  npy_path  \n",
       "0        ../series_npy/256/1.2.826.0.1.3680043.8.498.10...  \n",
       "1        ../series_npy/256/1.2.826.0.1.3680043.8.498.10...  \n",
       "2        ../series_npy/256/1.2.826.0.1.3680043.8.498.10...  \n",
       "3        ../series_npy/256/1.2.826.0.1.3680043.8.498.10...  \n",
       "4        ../series_npy/256/1.2.826.0.1.3680043.8.498.10...  \n",
       "...                                                    ...  \n",
       "1001301  ../series_npy/256/1.2.826.0.1.3680043.8.498.99...  \n",
       "1001302  ../series_npy/256/1.2.826.0.1.3680043.8.498.99...  \n",
       "1001303  ../series_npy/256/1.2.826.0.1.3680043.8.498.99...  \n",
       "1001304  ../series_npy/256/1.2.826.0.1.3680043.8.498.99...  \n",
       "1001305  ../series_npy/256/1.2.826.0.1.3680043.8.498.99...  \n",
       "\n",
       "[1001306 rows x 2 columns]"
      ]
     },
     "execution_count": 4,
     "metadata": {},
     "output_type": "execute_result"
    }
   ],
   "source": [
    "df = pd.DataFrame(\n",
    "    {\n",
    "        \"series_id\": series_ids,\n",
    "        \"npy_path\": image_paths\n",
    "    }\n",
    ")\n",
    "\n",
    "df\n"
   ]
  },
  {
   "cell_type": "code",
   "execution_count": 5,
   "id": "26e65534",
   "metadata": {},
   "outputs": [],
   "source": [
    "os.makedirs('../npy_path/', exist_ok=True)\n",
    "df.to_csv(f'../npy_path/image_{CFG.image_size}_path_df.csv', index=False)\n"
   ]
  },
  {
   "cell_type": "code",
   "execution_count": null,
   "id": "4c49620a",
   "metadata": {},
   "outputs": [],
   "source": []
  }
 ],
 "metadata": {
  "kernelspec": {
   "display_name": "Kaggle",
   "language": "python",
   "name": "python3"
  },
  "language_info": {
   "codemirror_mode": {
    "name": "ipython",
    "version": 3
   },
   "file_extension": ".py",
   "mimetype": "text/x-python",
   "name": "python",
   "nbconvert_exporter": "python",
   "pygments_lexer": "ipython3",
   "version": "3.11.13"
  }
 },
 "nbformat": 4,
 "nbformat_minor": 5
}
